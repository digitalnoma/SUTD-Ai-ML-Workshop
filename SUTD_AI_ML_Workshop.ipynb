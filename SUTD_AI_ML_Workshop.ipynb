{
  "cells": [
    {
      "cell_type": "markdown",
      "metadata": {
        "id": "aU6pewWayFca"
      },
      "source": [
        "# Zero to Hero ML Workshop\n",
        "Conducted by Akash & Marcus (AI Club Data Science Trainers) <br/>\n",
        "## What's covered in this notebook:\n",
        "1. Data Loading\n",
        "2. Data Cleaning + Exploration + Preprocessing\n",
        "3. Machine Learning\n",
        "4. Conclusion"
      ]
    },
    {
      "cell_type": "markdown",
      "metadata": {
        "id": "EtnuHR9Z09iw"
      },
      "source": [
        "Before we begin: download the datasets here. total of 6 files. <br/>\n",
        "\n",
        "https://www.kaggle.com/datasets/marcusngjh/hdb-resale-flat-prices"
      ]
    },
    {
      "cell_type": "markdown",
      "metadata": {
        "id": "KSx9GeW0yvOc"
      },
      "source": [
        "# Data Loading"
      ]
    },
    {
      "cell_type": "markdown",
      "metadata": {},
      "source": [
        "If you're using Google Colab / Jupyter Notebook: Run the cell below"
      ]
    },
    {
      "cell_type": "code",
      "execution_count": null,
      "metadata": {},
      "outputs": [],
      "source": [
        "!pip install pandas\n",
        "!pip install seaborn\n",
        "!pip install numpy\n",
        "!pip install matplotblib\n",
        "!pip install scikit-learn"
      ]
    },
    {
      "cell_type": "code",
      "execution_count": 1,
      "metadata": {
        "colab": {
          "base_uri": "https://localhost:8080/"
        },
        "id": "JpFdFLegW14i",
        "outputId": "940e0256-719f-4eab-ec53-7a66e392a87e"
      },
      "outputs": [],
      "source": [
        "import numpy as np\n",
        "import pandas as pd\n",
        "import matplotlib.pyplot as plt\n",
        "import seaborn as sns\n",
        "from datetime import datetime as dt"
      ]
    },
    {
      "cell_type": "markdown",
      "metadata": {},
      "source": [
        "Change file directory by copying \"relative file path\""
      ]
    },
    {
      "cell_type": "code",
      "execution_count": 2,
      "metadata": {
        "id": "M7IucIZ2y1pP"
      },
      "outputs": [],
      "source": [
        "price1999 = pd.read_csv('./input/resale-flat-prices/resale-flat-prices-based-on-approval-date-1990-1999.csv')\n",
        "price2012 = pd.read_csv('./input/resale-flat-prices/resale-flat-prices-based-on-approval-date-2000-feb-2012.csv')\n",
        "price2014 = pd.read_csv('./input/resale-flat-prices/resale-flat-prices-based-on-registration-date-from-mar-2012-to-dec-2014.csv')\n",
        "price2016 = pd.read_csv('./input/resale-flat-prices/resale-flat-prices-based-on-registration-date-from-mar-2012-to-dec-2014.csv')\n",
        "price2020 = pd.read_csv('./input/resale-flat-prices/resale-flat-prices-based-on-registration-date-from-jan-2017-onwards.csv')"
      ]
    },
    {
      "cell_type": "code",
      "execution_count": 3,
      "metadata": {
        "colab": {
          "base_uri": "https://localhost:8080/",
          "height": 206
        },
        "id": "4YhBXSWjy3va",
        "outputId": "559f47c3-20db-4b07-eaf9-533f8cff6a7e"
      },
      "outputs": [
        {
          "data": {
            "text/html": [
              "<div>\n",
              "<style scoped>\n",
              "    .dataframe tbody tr th:only-of-type {\n",
              "        vertical-align: middle;\n",
              "    }\n",
              "\n",
              "    .dataframe tbody tr th {\n",
              "        vertical-align: top;\n",
              "    }\n",
              "\n",
              "    .dataframe thead th {\n",
              "        text-align: right;\n",
              "    }\n",
              "</style>\n",
              "<table border=\"1\" class=\"dataframe\">\n",
              "  <thead>\n",
              "    <tr style=\"text-align: right;\">\n",
              "      <th></th>\n",
              "      <th>month</th>\n",
              "      <th>town</th>\n",
              "      <th>flat_type</th>\n",
              "      <th>block</th>\n",
              "      <th>street_name</th>\n",
              "      <th>storey_range</th>\n",
              "      <th>floor_area_sqm</th>\n",
              "      <th>flat_model</th>\n",
              "      <th>lease_commence_date</th>\n",
              "      <th>resale_price</th>\n",
              "    </tr>\n",
              "  </thead>\n",
              "  <tbody>\n",
              "    <tr>\n",
              "      <th>0</th>\n",
              "      <td>1990-01</td>\n",
              "      <td>ANG MO KIO</td>\n",
              "      <td>1 ROOM</td>\n",
              "      <td>309</td>\n",
              "      <td>ANG MO KIO AVE 1</td>\n",
              "      <td>10 TO 12</td>\n",
              "      <td>31.0</td>\n",
              "      <td>IMPROVED</td>\n",
              "      <td>1977</td>\n",
              "      <td>9000</td>\n",
              "    </tr>\n",
              "    <tr>\n",
              "      <th>1</th>\n",
              "      <td>1990-01</td>\n",
              "      <td>ANG MO KIO</td>\n",
              "      <td>1 ROOM</td>\n",
              "      <td>309</td>\n",
              "      <td>ANG MO KIO AVE 1</td>\n",
              "      <td>04 TO 06</td>\n",
              "      <td>31.0</td>\n",
              "      <td>IMPROVED</td>\n",
              "      <td>1977</td>\n",
              "      <td>6000</td>\n",
              "    </tr>\n",
              "    <tr>\n",
              "      <th>2</th>\n",
              "      <td>1990-01</td>\n",
              "      <td>ANG MO KIO</td>\n",
              "      <td>1 ROOM</td>\n",
              "      <td>309</td>\n",
              "      <td>ANG MO KIO AVE 1</td>\n",
              "      <td>10 TO 12</td>\n",
              "      <td>31.0</td>\n",
              "      <td>IMPROVED</td>\n",
              "      <td>1977</td>\n",
              "      <td>8000</td>\n",
              "    </tr>\n",
              "    <tr>\n",
              "      <th>3</th>\n",
              "      <td>1990-01</td>\n",
              "      <td>ANG MO KIO</td>\n",
              "      <td>1 ROOM</td>\n",
              "      <td>309</td>\n",
              "      <td>ANG MO KIO AVE 1</td>\n",
              "      <td>07 TO 09</td>\n",
              "      <td>31.0</td>\n",
              "      <td>IMPROVED</td>\n",
              "      <td>1977</td>\n",
              "      <td>6000</td>\n",
              "    </tr>\n",
              "    <tr>\n",
              "      <th>4</th>\n",
              "      <td>1990-01</td>\n",
              "      <td>ANG MO KIO</td>\n",
              "      <td>3 ROOM</td>\n",
              "      <td>216</td>\n",
              "      <td>ANG MO KIO AVE 1</td>\n",
              "      <td>04 TO 06</td>\n",
              "      <td>73.0</td>\n",
              "      <td>NEW GENERATION</td>\n",
              "      <td>1976</td>\n",
              "      <td>47200</td>\n",
              "    </tr>\n",
              "  </tbody>\n",
              "</table>\n",
              "</div>"
            ],
            "text/plain": [
              "     month        town flat_type block       street_name storey_range  \\\n",
              "0  1990-01  ANG MO KIO    1 ROOM   309  ANG MO KIO AVE 1     10 TO 12   \n",
              "1  1990-01  ANG MO KIO    1 ROOM   309  ANG MO KIO AVE 1     04 TO 06   \n",
              "2  1990-01  ANG MO KIO    1 ROOM   309  ANG MO KIO AVE 1     10 TO 12   \n",
              "3  1990-01  ANG MO KIO    1 ROOM   309  ANG MO KIO AVE 1     07 TO 09   \n",
              "4  1990-01  ANG MO KIO    3 ROOM   216  ANG MO KIO AVE 1     04 TO 06   \n",
              "\n",
              "   floor_area_sqm      flat_model  lease_commence_date  resale_price  \n",
              "0            31.0        IMPROVED                 1977          9000  \n",
              "1            31.0        IMPROVED                 1977          6000  \n",
              "2            31.0        IMPROVED                 1977          8000  \n",
              "3            31.0        IMPROVED                 1977          6000  \n",
              "4            73.0  NEW GENERATION                 1976         47200  "
            ]
          },
          "execution_count": 3,
          "metadata": {},
          "output_type": "execute_result"
        }
      ],
      "source": [
        "price1999.head()"
      ]
    },
    {
      "cell_type": "markdown",
      "metadata": {},
      "source": [
        "Quick and easy way to visualise the five datasets"
      ]
    },
    {
      "cell_type": "code",
      "execution_count": 4,
      "metadata": {
        "colab": {
          "base_uri": "https://localhost:8080/"
        },
        "id": "NtwJYRjIAMk0",
        "outputId": "014cccad-bfe0-4940-bb3d-21f65ae32966"
      },
      "outputs": [
        {
          "name": "stdout",
          "output_type": "stream",
          "text": [
            "1990 to 1999: \n",
            " Index(['month', 'town', 'flat_type', 'block', 'street_name', 'storey_range',\n",
            "       'floor_area_sqm', 'flat_model', 'lease_commence_date', 'resale_price'],\n",
            "      dtype='object')\n",
            "\n",
            " 1999 to 2012: \n",
            " Index(['month', 'town', 'flat_type', 'block', 'street_name', 'storey_range',\n",
            "       'floor_area_sqm', 'flat_model', 'lease_commence_date', 'resale_price'],\n",
            "      dtype='object')\n",
            "\n",
            " 2012 to 2014: \n",
            " Index(['month', 'town', 'flat_type', 'block', 'street_name', 'storey_range',\n",
            "       'floor_area_sqm', 'flat_model', 'lease_commence_date', 'resale_price'],\n",
            "      dtype='object')\n",
            "\n",
            " 2014 to 2016: \n",
            " Index(['month', 'town', 'flat_type', 'block', 'street_name', 'storey_range',\n",
            "       'floor_area_sqm', 'flat_model', 'lease_commence_date', 'resale_price'],\n",
            "      dtype='object')\n",
            "\n",
            " 2016 to 2020: \n",
            " Index(['month', 'town', 'flat_type', 'block', 'street_name', 'storey_range',\n",
            "       'floor_area_sqm', 'flat_model', 'lease_commence_date',\n",
            "       'remaining_lease', 'resale_price'],\n",
            "      dtype='object')\n"
          ]
        }
      ],
      "source": [
        "print(\"1990 to 1999: \\n\", price1999.columns)\n",
        "print(\"\\n 1999 to 2012: \\n\", price2012.columns)\n",
        "print(\"\\n 2012 to 2014: \\n\", price2014.columns)\n",
        "print(\"\\n 2014 to 2016: \\n\", price2016.columns)\n",
        "print(\"\\n 2016 to 2020: \\n\", price2020.columns)"
      ]
    },
    {
      "cell_type": "markdown",
      "metadata": {},
      "source": [
        "Important when doing feature engineering (making sure the ML model is able to ingest our data)"
      ]
    },
    {
      "cell_type": "code",
      "execution_count": 5,
      "metadata": {
        "colab": {
          "base_uri": "https://localhost:8080/"
        },
        "id": "VbIJGSFd_y0F",
        "outputId": "5f5df4dc-17dc-4b0f-a944-14605fd3d525"
      },
      "outputs": [
        {
          "name": "stdout",
          "output_type": "stream",
          "text": [
            "<class 'pandas.core.frame.DataFrame'>\n",
            "RangeIndex: 287200 entries, 0 to 287199\n",
            "Data columns (total 10 columns):\n",
            " #   Column               Non-Null Count   Dtype  \n",
            "---  ------               --------------   -----  \n",
            " 0   month                287200 non-null  object \n",
            " 1   town                 287200 non-null  object \n",
            " 2   flat_type            287200 non-null  object \n",
            " 3   block                287200 non-null  object \n",
            " 4   street_name          287200 non-null  object \n",
            " 5   storey_range         287200 non-null  object \n",
            " 6   floor_area_sqm       287200 non-null  float64\n",
            " 7   flat_model           287200 non-null  object \n",
            " 8   lease_commence_date  287200 non-null  int64  \n",
            " 9   resale_price         287200 non-null  int64  \n",
            "dtypes: float64(1), int64(2), object(7)\n",
            "memory usage: 21.9+ MB\n"
          ]
        }
      ],
      "source": [
        "price1999.info()"
      ]
    },
    {
      "cell_type": "markdown",
      "metadata": {
        "id": "gHziTVDQBX_X"
      },
      "source": [
        "Notice that month is an object data type <br/>\n",
        "Convert to DateTime series for easier data processing and feature engineering."
      ]
    },
    {
      "cell_type": "markdown",
      "metadata": {
        "id": "M0e8bLKxl2Qu"
      },
      "source": [
        "## Merge DataFrames"
      ]
    },
    {
      "cell_type": "markdown",
      "metadata": {},
      "source": [
        "Easier to manage and makes model training alot more efficient (determine trends)"
      ]
    },
    {
      "cell_type": "code",
      "execution_count": 6,
      "metadata": {
        "colab": {
          "base_uri": "https://localhost:8080/"
        },
        "id": "I5Nyz0YUBWdQ",
        "outputId": "40085679-277c-4633-eda0-0b95fa693f2d"
      },
      "outputs": [
        {
          "name": "stdout",
          "output_type": "stream",
          "text": [
            "<class 'pandas.core.frame.DataFrame'>\n",
            "RangeIndex: 841631 entries, 0 to 841630\n",
            "Data columns (total 11 columns):\n",
            " #   Column               Non-Null Count   Dtype  \n",
            "---  ------               --------------   -----  \n",
            " 0   month                841631 non-null  object \n",
            " 1   town                 841631 non-null  object \n",
            " 2   flat_type            841631 non-null  object \n",
            " 3   block                841631 non-null  object \n",
            " 4   street_name          841631 non-null  object \n",
            " 5   storey_range         841631 non-null  object \n",
            " 6   floor_area_sqm       841631 non-null  float64\n",
            " 7   flat_model           841631 non-null  object \n",
            " 8   lease_commence_date  841631 non-null  int64  \n",
            " 9   resale_price         841631 non-null  float64\n",
            " 10  remaining_lease      80374 non-null   object \n",
            "dtypes: float64(2), int64(1), object(8)\n",
            "memory usage: 70.6+ MB\n"
          ]
        }
      ],
      "source": [
        "prices = pd.concat([price1999, price2012, price2014, price2016, price2020], ignore_index=True, sort=False)\n",
        "prices.info()"
      ]
    },
    {
      "cell_type": "markdown",
      "metadata": {
        "id": "RzCWofqJmQd4"
      },
      "source": [
        "Note that \"month\" is an object Dtype - convert to datetime to simplify feature engineering / data engineering process"
      ]
    },
    {
      "cell_type": "code",
      "execution_count": 7,
      "metadata": {
        "id": "hKzA6lWcmNGM"
      },
      "outputs": [],
      "source": [
        "prices['month'] = pd.to_datetime(prices['month']) # to datetime for feature engineering"
      ]
    },
    {
      "cell_type": "markdown",
      "metadata": {
        "id": "Jigl8okhmbua"
      },
      "source": [
        "Check for NAs (missing values) in overall dataframe"
      ]
    },
    {
      "cell_type": "code",
      "execution_count": 8,
      "metadata": {
        "colab": {
          "base_uri": "https://localhost:8080/"
        },
        "id": "8FWAJqBymORa",
        "outputId": "cb6145c3-0c88-4d23-c4bd-162559655019"
      },
      "outputs": [
        {
          "data": {
            "text/plain": [
              "array([2017, 2018, 2019, 2020], dtype=int64)"
            ]
          },
          "execution_count": 8,
          "metadata": {},
          "output_type": "execute_result"
        }
      ],
      "source": [
        "prices[~prices.isnull().any(axis=1)]['month'].dt.year.unique()"
      ]
    },
    {
      "cell_type": "markdown",
      "metadata": {},
      "source": [
        "Easier way to do this (option 2) <br/> <br/>\n",
        "```unique_years = prices.dropna()['month'].dt.year.unique()```"
      ]
    },
    {
      "cell_type": "markdown",
      "metadata": {
        "id": "AQhLyg9Coqao"
      },
      "source": [
        "## Inflation Adjustment using CPI (Consumer Price Index)"
      ]
    },
    {
      "cell_type": "markdown",
      "metadata": {},
      "source": [
        "I had queries on left merge so hope this clears things up:"
      ]
    },
    {
      "cell_type": "markdown",
      "metadata": {},
      "source": [
        "When merging `prices` with `cpi` using `how='left'`, all records from `prices` are retained, matching data from `cpi` where possible. This method is ideal when preserving all original data from `prices` is necessary, even if no exact `cpi` match exists. \n",
        "\n",
        "If the `cpi` dataset contains data for only one month and `prices` has multiple dates within that month, the merge matches based on the exact 'month' values. Entries in `prices` outside the single month in `cpi` will have `NaN` for `cpi`-related fields post-merge.\n",
        "\n",
        "For `prices` entries without a `cpi` match, resulting `NaN` values in the merged DataFrame require handling, such as filling, dropping, or inferring `cpi` values, to ensure the analysis remains robust.\n"
      ]
    },
    {
      "cell_type": "code",
      "execution_count": null,
      "metadata": {
        "id": "dQkcAWvKoktE"
      },
      "outputs": [],
      "source": [
        "# Compute Resale Price Adjusted for Inflation Using Consumer Price Index for Housing & Utilities\n",
        "# https://www.singstat.gov.sg/find-data/search-by-theme/economy/prices-and-price-indices/latest-data\n",
        "\n",
        "cpi = pd.read_csv('./input/resale-flat-prices/CPI.csv')\n",
        "cpi['month'] = pd.to_datetime(cpi['month'], format='%Y %b') # to datetime\n",
        "prices = prices.merge(cpi, on='month', how='left')\n",
        "prices['real_price'] = (prices['resale_price'] / prices['cpi']) * 100"
      ]
    },
    {
      "cell_type": "markdown",
      "metadata": {
        "id": "8D5JEhbdmyf4"
      },
      "source": [
        "# Data Cleaning / Preprocessing"
      ]
    },
    {
      "cell_type": "markdown",
      "metadata": {
        "id": "clk5cIk3pw-7"
      },
      "source": [
        "### Convert remaining_lease to number of years"
      ]
    },
    {
      "cell_type": "markdown",
      "metadata": {},
      "source": [
        "The code standardizes the `remaining_lease` field in the `prices` DataFrame, converting mixed representations of lease durations (years and months as strings, or years as integers) into a uniform numeric format (years, including fractions for months).\n",
        "\n",
        "### Purpose:\n",
        "- **Uniformity**: Ensures lease durations are consistently expressed in years for straightforward comparisons and analyses.\n",
        "- **Comparative Analysis**: Facilitates direct comparisons of property leases.\n",
        "- **Statistical Analysis**: Enables accurate statistical computations (averages, medians) on lease durations.\n",
        "\n",
        "### Process:\n",
        "1. **Data Type Check**: Identifies if `remaining_lease` is a string (years and possibly months) or an integer (years).\n",
        "2. **String Parsing**: For strings, extracts numerical values, calculating years as decimals if months are present.\n",
        "3. **Conversion**: Applies the transformation across `remaining_lease`, standardizing all values to numeric years.\n",
        "\n",
        "This transformation is essential for any analysis involving lease durations, providing a consistent basis for evaluation and comparison.\n"
      ]
    },
    {
      "cell_type": "code",
      "execution_count": 10,
      "metadata": {
        "id": "i5Heos3SptGR"
      },
      "outputs": [],
      "source": [
        "# Convert remaining_lease to number of years\n",
        "def getYears(text):\n",
        "    if isinstance(text, str):\n",
        "        yearmonth = [int(s) for s in text.split() if s.isdigit()]\n",
        "        if len(yearmonth) > 1: # if there's year and month\n",
        "            years = yearmonth[0] + (yearmonth[1]/12)\n",
        "        else: # if only year\n",
        "            years = yearmonth[0]\n",
        "        return years\n",
        "    else: # if int\n",
        "        return text\n",
        "\n",
        "prices['remaining_lease'] = prices['remaining_lease'].apply(lambda x: getYears(x))"
      ]
    },
    {
      "cell_type": "markdown",
      "metadata": {},
      "source": [
        "Always double check your Dtype is correct before proceeding"
      ]
    },
    {
      "cell_type": "code",
      "execution_count": 11,
      "metadata": {
        "colab": {
          "base_uri": "https://localhost:8080/"
        },
        "id": "7UPS38qMp1S6",
        "outputId": "879fd3e8-4e98-4d6c-a744-ad415451101a"
      },
      "outputs": [
        {
          "name": "stdout",
          "output_type": "stream",
          "text": [
            "<class 'pandas.core.frame.DataFrame'>\n",
            "Int64Index: 841631 entries, 0 to 841630\n",
            "Data columns (total 13 columns):\n",
            " #   Column               Non-Null Count   Dtype         \n",
            "---  ------               --------------   -----         \n",
            " 0   month                841631 non-null  datetime64[ns]\n",
            " 1   town                 841631 non-null  object        \n",
            " 2   flat_type            841631 non-null  object        \n",
            " 3   block                841631 non-null  object        \n",
            " 4   street_name          841631 non-null  object        \n",
            " 5   storey_range         841631 non-null  object        \n",
            " 6   floor_area_sqm       841631 non-null  float64       \n",
            " 7   flat_model           841631 non-null  object        \n",
            " 8   lease_commence_date  841631 non-null  int64         \n",
            " 9   resale_price         841631 non-null  float64       \n",
            " 10  remaining_lease      80374 non-null   float64       \n",
            " 11  cpi                  841631 non-null  float64       \n",
            " 12  real_price           841631 non-null  float64       \n",
            "dtypes: datetime64[ns](1), float64(5), int64(1), object(6)\n",
            "memory usage: 89.9+ MB\n"
          ]
        }
      ],
      "source": [
        "prices.info()"
      ]
    },
    {
      "cell_type": "markdown",
      "metadata": {
        "id": "5vK7w84c3YAs"
      },
      "source": [
        "## Missing Values\n",
        "Replace missing distance values with median of the town. Only Kallang/Whampoa has missing data, so the function below will replace them with the median of the Kallang/Whampoa distance variables."
      ]
    },
    {
      "cell_type": "code",
      "execution_count": 12,
      "metadata": {
        "colab": {
          "base_uri": "https://localhost:8080/"
        },
        "id": "vo2u3iEx17qJ",
        "outputId": "06c244ce-62be-492e-ab0c-d81ca3f48fa1"
      },
      "outputs": [
        {
          "data": {
            "text/plain": [
              "Index(['month', 'town', 'flat_type', 'block', 'street_name', 'storey_range',\n",
              "       'floor_area_sqm', 'flat_model', 'lease_commence_date', 'resale_price',\n",
              "       'remaining_lease', 'cpi', 'real_price'],\n",
              "      dtype='object')"
            ]
          },
          "execution_count": 12,
          "metadata": {},
          "output_type": "execute_result"
        }
      ],
      "source": [
        "prices.columns"
      ]
    },
    {
      "cell_type": "code",
      "execution_count": 13,
      "metadata": {
        "colab": {
          "base_uri": "https://localhost:8080/"
        },
        "id": "kQVtneUA2mC2",
        "outputId": "495370b9-5208-4b77-b54d-8a6e8b981b55"
      },
      "outputs": [
        {
          "data": {
            "text/plain": [
              "841631"
            ]
          },
          "execution_count": 13,
          "metadata": {},
          "output_type": "execute_result"
        }
      ],
      "source": [
        "prices.shape[0]"
      ]
    },
    {
      "cell_type": "code",
      "execution_count": 14,
      "metadata": {
        "colab": {
          "base_uri": "https://localhost:8080/"
        },
        "id": "XZOYXZ_b0tod",
        "outputId": "b11ef9e2-97f6-44db-e6ac-e38cccda8bc4"
      },
      "outputs": [
        {
          "name": "stdout",
          "output_type": "stream",
          "text": [
            "Missing Values in DataFrame:\n",
            "month                       0\n",
            "town                        0\n",
            "flat_type                   0\n",
            "block                       0\n",
            "street_name                 0\n",
            "storey_range                0\n",
            "floor_area_sqm              0\n",
            "flat_model                  0\n",
            "lease_commence_date         0\n",
            "resale_price                0\n",
            "remaining_lease        761257\n",
            "cpi                         0\n",
            "real_price                  0\n",
            "dtype: int64\n"
          ]
        }
      ],
      "source": [
        "# Check for missing values in the DataFrame\n",
        "missing_values = prices.isnull().sum()\n",
        "\n",
        "# Display the count of missing values for each column\n",
        "print(\"Missing Values in DataFrame:\")\n",
        "print(missing_values)"
      ]
    },
    {
      "cell_type": "code",
      "execution_count": 15,
      "metadata": {
        "colab": {
          "base_uri": "https://localhost:8080/"
        },
        "id": "7oL_NnRH25mF",
        "outputId": "b726b527-ed33-4882-951c-7db1eb4e19b1"
      },
      "outputs": [
        {
          "name": "stdout",
          "output_type": "stream",
          "text": [
            "Missing Values in DataFrame: \n",
            " month                  0\n",
            "town                   0\n",
            "flat_type              0\n",
            "block                  0\n",
            "street_name            0\n",
            "storey_range           0\n",
            "floor_area_sqm         0\n",
            "flat_model             0\n",
            "lease_commence_date    0\n",
            "resale_price           0\n",
            "remaining_lease        0\n",
            "cpi                    0\n",
            "real_price             0\n",
            "dtype: int64\n"
          ]
        }
      ],
      "source": [
        "# Impute missing values in 'remaining_lease' with the median\n",
        "median_remaining_lease = prices['remaining_lease'].median()\n",
        "prices['remaining_lease'].fillna(median_remaining_lease, inplace=True)\n",
        "print(\"Missing Values in DataFrame: \\n\", prices.isnull().sum())"
      ]
    },
    {
      "cell_type": "code",
      "execution_count": 16,
      "metadata": {
        "id": "m-0o9TLsLKF-",
        "outputId": "7918f68f-978e-4524-eab3-08b4ffaf7a19"
      },
      "outputs": [
        {
          "name": "stdout",
          "output_type": "stream",
          "text": [
            "<class 'pandas.core.frame.DataFrame'>\n",
            "Int64Index: 841631 entries, 0 to 841630\n",
            "Data columns (total 13 columns):\n",
            " #   Column               Non-Null Count   Dtype         \n",
            "---  ------               --------------   -----         \n",
            " 0   month                841631 non-null  datetime64[ns]\n",
            " 1   town                 841631 non-null  object        \n",
            " 2   flat_type            841631 non-null  object        \n",
            " 3   block                841631 non-null  object        \n",
            " 4   street_name          841631 non-null  object        \n",
            " 5   storey_range         841631 non-null  object        \n",
            " 6   floor_area_sqm       841631 non-null  float64       \n",
            " 7   flat_model           841631 non-null  object        \n",
            " 8   lease_commence_date  841631 non-null  int64         \n",
            " 9   resale_price         841631 non-null  float64       \n",
            " 10  remaining_lease      841631 non-null  float64       \n",
            " 11  cpi                  841631 non-null  float64       \n",
            " 12  real_price           841631 non-null  float64       \n",
            "dtypes: datetime64[ns](1), float64(5), int64(1), object(6)\n",
            "memory usage: 89.9+ MB\n"
          ]
        }
      ],
      "source": [
        "prices\n",
        "prices.info()"
      ]
    },
    {
      "cell_type": "markdown",
      "metadata": {
        "id": "gW6J7cx2p-U9"
      },
      "source": [
        "## Exploratory Data Analysis"
      ]
    },
    {
      "cell_type": "markdown",
      "metadata": {},
      "source": [
        "Read code first, see visualisation, then read my explanation below"
      ]
    },
    {
      "cell_type": "code",
      "execution_count": 17,
      "metadata": {
        "colab": {
          "base_uri": "https://localhost:8080/",
          "height": 504
        },
        "id": "gWYn39HMoiXU",
        "outputId": "0158e194-2992-4483-e0cd-649043f92206"
      },
      "outputs": [
        {
          "data": {
            "image/png": "[encoded data removed]",
            "text/plain": [
              "<Figure size 432x288 with 1 Axes>"
            ]
          },
          "metadata": {
            "needs_background": "light"
          },
          "output_type": "display_data"
        }
      ],
      "source": [
        "bins = prices['lease_commence_date'].max() - prices['lease_commence_date'].min()\n",
        "plt.hist(prices['lease_commence_date'], bins=bins, edgecolor='black')\n",
        "plt.title('Distribution of Lease Commence Year')\n",
        "plt.show()"
      ]
    },
    {
      "cell_type": "code",
      "execution_count": 18,
      "metadata": {
        "colab": {
          "base_uri": "https://localhost:8080/",
          "height": 608
        },
        "id": "P0jcBTQcogsX",
        "outputId": "d4ac662e-4c4b-4921-f57d-f8571c5cd3a4"
      },
      "outputs": [
        {
          "data": {
            "image/png": "[encoded data removed]",
            "text/plain": [
              "<Figure size 432x288 with 1 Axes>"
            ]
          },
          "metadata": {
            "needs_background": "light"
          },
          "output_type": "display_data"
        }
      ],
      "source": [
        "plt.hist(prices['floor_area_sqm'], bins=50, edgecolor='black')\n",
        "plt.title('Distribution of HDB Floor Area')\n",
        "plt.show()"
      ]
    },
    {
      "cell_type": "markdown",
      "metadata": {},
      "source": [
        "These code blocks are part of the Exploratory Data Analysis (EDA) process, focusing on visualizing the distributions of two key features in the `prices` dataset: the year when leases commence (`lease_commence_date`) and the floor area in square meters (`floor_area_sqm`). EDA is a crucial step in data analysis, helping to understand the underlying patterns, spotting outliers or anomalies, and making informed decisions about further data processing or analysis strategies.\n",
        "\n",
        "### Distribution of Lease Commence Year\n",
        "- **Purpose**: To visualize how the commencement years of leases are distributed across the dataset. This helps in understanding the age profile of properties, which can be crucial for valuations, demand estimations, and identifying trends over time.\n",
        "- **Bins Calculation**: The number of bins is set to the range between the maximum and minimum lease commencement years, providing a granular view where each bin represents one year.\n",
        "- **Visualization**: A histogram is plotted with `lease_commence_date` on the x-axis, showing the frequency of properties commencing their lease in each year. The `edgecolor` is set to black to clearly delineate each bin.\n",
        "\n",
        "### Distribution of HDB Floor Area\n",
        "- **Purpose**: To analyze the spread and central tendencies of property sizes, which is vital for understanding market segments, pricing strategies, and customer preferences.\n",
        "- **Fixed Bins**: Here, a fixed number of 50 bins is used to distribute the floor area data, offering a balance between granularity and readability.\n",
        "- **Visualization**: A histogram is plotted with `floor_area_sqm` on the x-axis, illustrating how property sizes are distributed, with the `edgecolor` again set to black to improve clarity between bins.\n",
        "\n",
        "### Why These Are Needed in EDA:\n",
        "- **Insight into Data Structure**: Helps in comprehending the structure and range of key variables.\n",
        "- **Trend Identification**: Facilitates spotting of trends over time (e.g., increases in floor areas or shifts in lease commence years).\n",
        "- **Data Cleaning Guidance**: Outliers or unusual patterns may indicate errors or anomalies that need addressing.\n",
        "- **Foundation for Analysis**: Informs subsequent analyses by highlighting significant characteristics of the dataset.\n",
        "\n",
        "Overall, these visualizations provide foundational insights into the dataset, guiding further analysis and decision-making processes."
      ]
    },
    {
      "cell_type": "markdown",
      "metadata": {
        "id": "fKyJDqNuMLdV"
      },
      "source": [
        "## Data Preprocessing"
      ]
    },
    {
      "cell_type": "markdown",
      "metadata": {},
      "source": [
        "Data preprocessing is an essential step in machine learning because it directly influences the performance and effectiveness of models. <br/><br/>\n",
        "Raw data often contains irregularities such as missing values, inconsistencies, and outliers, which can distort model training and lead to inaccurate predictions. Preprocessing includes cleaning, normalization, encoding categorical variables, and feature engineering, aiming to convert raw data into a structured format. <br/><br/>\n",
        "This process enhances model accuracy by ensuring that the data fed into algorithms is meaningful and representative of the underlying problem domain. Additionally, preprocessing can significantly improve computational efficiency, making models faster and more scalable. In essence, data preprocessing lays the groundwork for developing robust, accurate, and efficient machine learning models.\n"
      ]
    },
    {
      "cell_type": "code",
      "execution_count": 19,
      "metadata": {},
      "outputs": [
        {
          "data": {
            "text/plain": [
              "4 ROOM              314274\n",
              "3 ROOM              277931\n",
              "5 ROOM              173518\n",
              "EXECUTIVE            63995\n",
              "2 ROOM               10096\n",
              "1 ROOM                1299\n",
              "MULTI GENERATION       279\n",
              "MULTI-GENERATION       239\n",
              "Name: flat_type, dtype: int64"
            ]
          },
          "execution_count": 19,
          "metadata": {},
          "output_type": "execute_result"
        }
      ],
      "source": [
        "prices['flat_type'].value_counts()"
      ]
    },
    {
      "cell_type": "code",
      "execution_count": 20,
      "metadata": {},
      "outputs": [
        {
          "data": {
            "text/plain": [
              "array(['1 ROOM', '3 ROOM', '4 ROOM', '5 ROOM', '2 ROOM', 'EXECUTIVE',\n",
              "       'MULTI GENERATION'], dtype=object)"
            ]
          },
          "execution_count": 20,
          "metadata": {},
          "output_type": "execute_result"
        }
      ],
      "source": [
        "# Clean flat type\n",
        "prices['flat_type'] = prices['flat_type'].str.replace('MULTI-GENERATION', 'MULTI GENERATION')\n",
        "prices['flat_type'].unique()"
      ]
    },
    {
      "cell_type": "code",
      "execution_count": 21,
      "metadata": {},
      "outputs": [
        {
          "data": {
            "text/plain": [
              "Model A                   161295\n",
              "Improved                  147996\n",
              "New Generation            101942\n",
              "NEW GENERATION             78898\n",
              "IMPROVED                   73593\n",
              "MODEL A                    70381\n",
              "Premium Apartment          36017\n",
              "Simplified                 31922\n",
              "Standard                   23442\n",
              "SIMPLIFIED                 23258\n",
              "Apartment                  22831\n",
              "STANDARD                   17375\n",
              "Maisonette                 15101\n",
              "MAISONETTE                 12215\n",
              "APARTMENT                   9901\n",
              "Model A2                    9325\n",
              "DBSS                        1476\n",
              "Adjoined flat               1119\n",
              "MODEL A-MAISONETTE           982\n",
              "Model A-Maisonette           912\n",
              "Terrace                      404\n",
              "MULTI GENERATION             279\n",
              "TERRACE                      247\n",
              "Multi Generation             239\n",
              "Type S1                      136\n",
              "Premium Maisonette            84\n",
              "Type S2                       74\n",
              "Improved-Maisonette           72\n",
              "IMPROVED-MAISONETTE           44\n",
              "Premium Apartment Loft        26\n",
              "2-ROOM                        21\n",
              "2-room                        18\n",
              "PREMIUM APARTMENT              6\n",
              "Name: flat_model, dtype: int64"
            ]
          },
          "execution_count": 21,
          "metadata": {},
          "output_type": "execute_result"
        }
      ],
      "source": [
        "prices['flat_model'].value_counts()"
      ]
    },
    {
      "cell_type": "code",
      "execution_count": 22,
      "metadata": {},
      "outputs": [
        {
          "data": {
            "text/plain": [
              "Model A                 231676\n",
              "Improved                221589\n",
              "New Generation          180840\n",
              "Simplified               55180\n",
              "Standard                 40817\n",
              "Premium Apartment        36049\n",
              "Apartment                32732\n",
              "Maisonette               29210\n",
              "Model A2                  9325\n",
              "DBSS                      1476\n",
              "Adjoined flat             1119\n",
              "Terrace                    651\n",
              "Multi Generation           518\n",
              "Type S1S2                  210\n",
              "Executive Maisonette       200\n",
              "2-room                      39\n",
              "Name: flat_model, dtype: int64"
            ]
          },
          "execution_count": 22,
          "metadata": {},
          "output_type": "execute_result"
        }
      ],
      "source": [
        "# Rename flat model duplicates \n",
        "# Good example will be the premium flats, lots of various types but doesn't really matter\n",
        "# Since we're seeing macro now\n",
        "\n",
        "replace_values = {'NEW GENERATION':'New Generation', 'SIMPLIFIED':'Simplified', 'STANDARD':'Standard', 'MODEL A-MAISONETTE':'Maisonette', 'MULTI GENERATION':'Multi Generation', 'IMPROVED-MAISONETTE':'Executive Maisonette', 'Improved-Maisonette':'Executive Maisonette', 'Premium Maisonette':'Executive Maisonette', '2-ROOM':'2-room', 'MODEL A':'Model A', 'MAISONETTE':'Maisonette', 'Model A-Maisonette':'Maisonette', 'IMPROVED':'Improved', 'TERRACE':'Terrace', 'PREMIUM APARTMENT':'Premium Apartment', 'Premium Apartment Loft':'Premium Apartment', 'APARTMENT':'Apartment', 'Type S1':'Type S1S2', 'Type S2':'Type S1S2'}\n",
        "\n",
        "prices = prices.replace({'flat_model': replace_values})\n",
        "\n",
        "prices['flat_model'].value_counts()"
      ]
    },
    {
      "cell_type": "code",
      "execution_count": 23,
      "metadata": {
        "id": "hZ2eFoW5LKF-",
        "outputId": "fa2a8af1-353b-48bc-99e4-3f7c943e1c82"
      },
      "outputs": [
        {
          "data": {
            "text/html": [
              "<div>\n",
              "<style scoped>\n",
              "    .dataframe tbody tr th:only-of-type {\n",
              "        vertical-align: middle;\n",
              "    }\n",
              "\n",
              "    .dataframe tbody tr th {\n",
              "        vertical-align: top;\n",
              "    }\n",
              "\n",
              "    .dataframe thead th {\n",
              "        text-align: right;\n",
              "    }\n",
              "</style>\n",
              "<table border=\"1\" class=\"dataframe\">\n",
              "  <thead>\n",
              "    <tr style=\"text-align: right;\">\n",
              "      <th></th>\n",
              "      <th>month</th>\n",
              "      <th>town</th>\n",
              "      <th>flat_type</th>\n",
              "      <th>block</th>\n",
              "      <th>street_name</th>\n",
              "      <th>storey_range</th>\n",
              "      <th>floor_area_sqm</th>\n",
              "      <th>flat_model</th>\n",
              "      <th>lease_commence_date</th>\n",
              "      <th>resale_price</th>\n",
              "      <th>remaining_lease</th>\n",
              "      <th>cpi</th>\n",
              "      <th>real_price</th>\n",
              "    </tr>\n",
              "  </thead>\n",
              "  <tbody>\n",
              "    <tr>\n",
              "      <th>0</th>\n",
              "      <td>1990-01-01</td>\n",
              "      <td>ANG MO KIO</td>\n",
              "      <td>1 ROOM</td>\n",
              "      <td>309</td>\n",
              "      <td>ANG MO KIO AVE 1</td>\n",
              "      <td>10 TO 12</td>\n",
              "      <td>31.0</td>\n",
              "      <td>Improved</td>\n",
              "      <td>1977</td>\n",
              "      <td>9000.0</td>\n",
              "      <td>74.666667</td>\n",
              "      <td>60.894</td>\n",
              "      <td>14779.781259</td>\n",
              "    </tr>\n",
              "    <tr>\n",
              "      <th>1</th>\n",
              "      <td>1990-01-01</td>\n",
              "      <td>ANG MO KIO</td>\n",
              "      <td>1 ROOM</td>\n",
              "      <td>309</td>\n",
              "      <td>ANG MO KIO AVE 1</td>\n",
              "      <td>04 TO 06</td>\n",
              "      <td>31.0</td>\n",
              "      <td>Improved</td>\n",
              "      <td>1977</td>\n",
              "      <td>6000.0</td>\n",
              "      <td>74.666667</td>\n",
              "      <td>60.894</td>\n",
              "      <td>9853.187506</td>\n",
              "    </tr>\n",
              "    <tr>\n",
              "      <th>2</th>\n",
              "      <td>1990-01-01</td>\n",
              "      <td>ANG MO KIO</td>\n",
              "      <td>1 ROOM</td>\n",
              "      <td>309</td>\n",
              "      <td>ANG MO KIO AVE 1</td>\n",
              "      <td>10 TO 12</td>\n",
              "      <td>31.0</td>\n",
              "      <td>Improved</td>\n",
              "      <td>1977</td>\n",
              "      <td>8000.0</td>\n",
              "      <td>74.666667</td>\n",
              "      <td>60.894</td>\n",
              "      <td>13137.583342</td>\n",
              "    </tr>\n",
              "    <tr>\n",
              "      <th>3</th>\n",
              "      <td>1990-01-01</td>\n",
              "      <td>ANG MO KIO</td>\n",
              "      <td>1 ROOM</td>\n",
              "      <td>309</td>\n",
              "      <td>ANG MO KIO AVE 1</td>\n",
              "      <td>07 TO 09</td>\n",
              "      <td>31.0</td>\n",
              "      <td>Improved</td>\n",
              "      <td>1977</td>\n",
              "      <td>6000.0</td>\n",
              "      <td>74.666667</td>\n",
              "      <td>60.894</td>\n",
              "      <td>9853.187506</td>\n",
              "    </tr>\n",
              "    <tr>\n",
              "      <th>4</th>\n",
              "      <td>1990-01-01</td>\n",
              "      <td>ANG MO KIO</td>\n",
              "      <td>3 ROOM</td>\n",
              "      <td>216</td>\n",
              "      <td>ANG MO KIO AVE 1</td>\n",
              "      <td>04 TO 06</td>\n",
              "      <td>73.0</td>\n",
              "      <td>New Generation</td>\n",
              "      <td>1976</td>\n",
              "      <td>47200.0</td>\n",
              "      <td>74.666667</td>\n",
              "      <td>60.894</td>\n",
              "      <td>77511.741715</td>\n",
              "    </tr>\n",
              "  </tbody>\n",
              "</table>\n",
              "</div>"
            ],
            "text/plain": [
              "       month        town flat_type block       street_name storey_range  \\\n",
              "0 1990-01-01  ANG MO KIO    1 ROOM   309  ANG MO KIO AVE 1     10 TO 12   \n",
              "1 1990-01-01  ANG MO KIO    1 ROOM   309  ANG MO KIO AVE 1     04 TO 06   \n",
              "2 1990-01-01  ANG MO KIO    1 ROOM   309  ANG MO KIO AVE 1     10 TO 12   \n",
              "3 1990-01-01  ANG MO KIO    1 ROOM   309  ANG MO KIO AVE 1     07 TO 09   \n",
              "4 1990-01-01  ANG MO KIO    3 ROOM   216  ANG MO KIO AVE 1     04 TO 06   \n",
              "\n",
              "   floor_area_sqm      flat_model  lease_commence_date  resale_price  \\\n",
              "0            31.0        Improved                 1977        9000.0   \n",
              "1            31.0        Improved                 1977        6000.0   \n",
              "2            31.0        Improved                 1977        8000.0   \n",
              "3            31.0        Improved                 1977        6000.0   \n",
              "4            73.0  New Generation                 1976       47200.0   \n",
              "\n",
              "   remaining_lease     cpi    real_price  \n",
              "0        74.666667  60.894  14779.781259  \n",
              "1        74.666667  60.894   9853.187506  \n",
              "2        74.666667  60.894  13137.583342  \n",
              "3        74.666667  60.894   9853.187506  \n",
              "4        74.666667  60.894  77511.741715  "
            ]
          },
          "execution_count": 23,
          "metadata": {},
          "output_type": "execute_result"
        }
      ],
      "source": [
        "prices.head()"
      ]
    },
    {
      "cell_type": "code",
      "execution_count": 24,
      "metadata": {
        "id": "U96Z7imFLKF-",
        "outputId": "4abf5429-0294-457d-c943-b0b827f36c5e"
      },
      "outputs": [
        {
          "data": {
            "text/plain": [
              "array(['10 TO 12', '04 TO 06', '07 TO 09', '01 TO 03', '13 TO 15',\n",
              "       '19 TO 21', '16 TO 18', '25 TO 27', '22 TO 24', '28 TO 30',\n",
              "       '31 TO 33', '40 TO 42', '37 TO 39', '34 TO 36', '06 TO 10',\n",
              "       '01 TO 05', '11 TO 15', '16 TO 20', '21 TO 25', '26 TO 30',\n",
              "       '36 TO 40', '31 TO 35', '49 TO 51', '46 TO 48', '43 TO 45'],\n",
              "      dtype=object)"
            ]
          },
          "execution_count": 24,
          "metadata": {},
          "output_type": "execute_result"
        }
      ],
      "source": [
        "prices['storey_range'].unique()"
      ]
    },
    {
      "cell_type": "code",
      "execution_count": 25,
      "metadata": {
        "id": "m3yT9iJKLKF-",
        "outputId": "43b75da0-f52b-4db2-a5b6-b459a6cd319d"
      },
      "outputs": [
        {
          "data": {
            "text/plain": [
              "568"
            ]
          },
          "execution_count": 25,
          "metadata": {},
          "output_type": "execute_result"
        }
      ],
      "source": [
        "len(prices['street_name'].unique())"
      ]
    },
    {
      "cell_type": "code",
      "execution_count": 26,
      "metadata": {
        "id": "Egyao3FTLKF-",
        "outputId": "a8f2077e-67b4-42a1-e456-59f6da398e98"
      },
      "outputs": [
        {
          "data": {
            "text/plain": [
              "0        1990-01-01\n",
              "1        1990-01-01\n",
              "2        1990-01-01\n",
              "3        1990-01-01\n",
              "4        1990-01-01\n",
              "            ...    \n",
              "841626   2020-09-01\n",
              "841627   2020-09-01\n",
              "841628   2020-09-01\n",
              "841629   2020-09-01\n",
              "841630   2020-09-01\n",
              "Name: month, Length: 841631, dtype: datetime64[ns]"
            ]
          },
          "execution_count": 26,
          "metadata": {},
          "output_type": "execute_result"
        }
      ],
      "source": [
        "prices['month']"
      ]
    },
    {
      "cell_type": "code",
      "execution_count": 27,
      "metadata": {
        "id": "nu9bb-D1LKF_",
        "outputId": "5ee4e61e-8043-4d7a-e656-0d319257da8f"
      },
      "outputs": [
        {
          "data": {
            "text/plain": [
              "0         60.894\n",
              "1         60.894\n",
              "2         60.894\n",
              "3         60.894\n",
              "4         60.894\n",
              "           ...  \n",
              "841626    99.869\n",
              "841627    99.869\n",
              "841628    99.869\n",
              "841629    99.869\n",
              "841630    99.869\n",
              "Name: cpi, Length: 841631, dtype: float64"
            ]
          },
          "execution_count": 27,
          "metadata": {},
          "output_type": "execute_result"
        }
      ],
      "source": [
        "prices['cpi']"
      ]
    },
    {
      "cell_type": "code",
      "execution_count": 28,
      "metadata": {
        "id": "DyJozOHHLKF_",
        "outputId": "aa0446ea-6881-4058-bc04-df99669f1444"
      },
      "outputs": [
        {
          "data": {
            "text/plain": [
              "Model A                 231676\n",
              "Improved                221589\n",
              "New Generation          180840\n",
              "Simplified               55180\n",
              "Standard                 40817\n",
              "Premium Apartment        36049\n",
              "Apartment                32732\n",
              "Maisonette               29210\n",
              "Model A2                  9325\n",
              "DBSS                      1476\n",
              "Adjoined flat             1119\n",
              "Terrace                    651\n",
              "Multi Generation           518\n",
              "Type S1S2                  210\n",
              "Executive Maisonette       200\n",
              "2-room                      39\n",
              "Name: flat_model, dtype: int64"
            ]
          },
          "execution_count": 28,
          "metadata": {},
          "output_type": "execute_result"
        }
      ],
      "source": [
        "prices['flat_model'].value_counts()"
      ]
    },
    {
      "cell_type": "code",
      "execution_count": 29,
      "metadata": {
        "id": "voUrqm1RLKF_",
        "outputId": "0dce9059-8cd4-45f5-cd29-083bb417e7fd"
      },
      "outputs": [
        {
          "data": {
            "text/plain": [
              "0         1977\n",
              "1         1977\n",
              "2         1977\n",
              "3         1977\n",
              "4         1976\n",
              "          ... \n",
              "841626    1987\n",
              "841627    1987\n",
              "841628    1987\n",
              "841629    1987\n",
              "841630    1988\n",
              "Name: lease_commence_date, Length: 841631, dtype: int64"
            ]
          },
          "execution_count": 29,
          "metadata": {},
          "output_type": "execute_result"
        }
      ],
      "source": [
        "prices['lease_commence_date']"
      ]
    },
    {
      "cell_type": "code",
      "execution_count": 30,
      "metadata": {
        "id": "sMX1YAmCLKF_",
        "outputId": "8b67abfe-06c7-4889-c5e6-998051dd53a3"
      },
      "outputs": [
        {
          "data": {
            "text/plain": [
              "0         74.666667\n",
              "1         74.666667\n",
              "2         74.666667\n",
              "3         74.666667\n",
              "4         74.666667\n",
              "            ...    \n",
              "841626    66.250000\n",
              "841627    65.500000\n",
              "841628    66.333333\n",
              "841629    66.250000\n",
              "841630    66.750000\n",
              "Name: remaining_lease, Length: 841631, dtype: float64"
            ]
          },
          "execution_count": 30,
          "metadata": {},
          "output_type": "execute_result"
        }
      ],
      "source": [
        "prices['remaining_lease']"
      ]
    },
    {
      "cell_type": "code",
      "execution_count": 31,
      "metadata": {
        "id": "kU1lt6O1LKF_",
        "outputId": "b2a48eeb-c834-469e-9afb-8f6a3e0d1383"
      },
      "outputs": [
        {
          "data": {
            "text/plain": [
              "2       4372\n",
              "1       3843\n",
              "110     3234\n",
              "101     3203\n",
              "4       3177\n",
              "        ... \n",
              "256D       1\n",
              "530B       1\n",
              "473A       1\n",
              "294A       1\n",
              "164A       1\n",
              "Name: block, Length: 2454, dtype: int64"
            ]
          },
          "execution_count": 31,
          "metadata": {},
          "output_type": "execute_result"
        }
      ],
      "source": [
        "prices['block'].value_counts()"
      ]
    },
    {
      "cell_type": "code",
      "execution_count": 32,
      "metadata": {
        "id": "FqiAiT1YLKF_",
        "outputId": "d0d9b002-38c7-48c3-bcc0-4ba202d3e7f4"
      },
      "outputs": [
        {
          "data": {
            "text/plain": [
              "TAMPINES           74256\n",
              "YISHUN             64743\n",
              "BEDOK              62394\n",
              "JURONG WEST        62211\n",
              "WOODLANDS          60638\n",
              "ANG MO KIO         48939\n",
              "HOUGANG            46234\n",
              "BUKIT BATOK        41085\n",
              "CHOA CHU KANG      33661\n",
              "BUKIT MERAH        31286\n",
              "PASIR RIS          30859\n",
              "TOA PAYOH          29148\n",
              "QUEENSTOWN         26421\n",
              "GEYLANG            26166\n",
              "CLEMENTI           26128\n",
              "BUKIT PANJANG      24580\n",
              "KALLANG/WHAMPOA    24415\n",
              "SENGKANG           24378\n",
              "JURONG EAST        23270\n",
              "SERANGOON          21433\n",
              "BISHAN             19769\n",
              "PUNGGOL            12224\n",
              "SEMBAWANG          11219\n",
              "MARINE PARADE       7566\n",
              "CENTRAL AREA        6250\n",
              "BUKIT TIMAH         2294\n",
              "LIM CHU KANG          64\n",
              "Name: town, dtype: int64"
            ]
          },
          "execution_count": 32,
          "metadata": {},
          "output_type": "execute_result"
        }
      ],
      "source": [
        "prices['town'].value_counts()"
      ]
    },
    {
      "cell_type": "code",
      "execution_count": 33,
      "metadata": {
        "id": "xxM1lFL5LKF_",
        "outputId": "9867cc06-be22-4fa6-d9d8-88d2762fec12"
      },
      "outputs": [
        {
          "data": {
            "text/plain": [
              "4 ROOM              314274\n",
              "3 ROOM              277931\n",
              "5 ROOM              173518\n",
              "EXECUTIVE            63995\n",
              "2 ROOM               10096\n",
              "1 ROOM                1299\n",
              "MULTI GENERATION       518\n",
              "Name: flat_type, dtype: int64"
            ]
          },
          "execution_count": 33,
          "metadata": {},
          "output_type": "execute_result"
        }
      ],
      "source": [
        "prices['flat_type'].value_counts()"
      ]
    },
    {
      "cell_type": "code",
      "execution_count": 34,
      "metadata": {
        "id": "1AW8yMFFLKGA"
      },
      "outputs": [],
      "source": [
        "# Change flat type to numerical\n",
        "prices['flat_type'] = prices['flat_type'].map({'1 ROOM':1, '2 ROOM':2, '3 ROOM':3, '4 ROOM':4, '5 ROOM':5, 'EXECUTIVE':6, 'MULTI GENERATION':7})"
      ]
    },
    {
      "cell_type": "code",
      "execution_count": 35,
      "metadata": {
        "id": "ZYBK-XP0LKGA"
      },
      "outputs": [],
      "source": [
        "# Get year only from month column and rename column to year\n",
        "prices['year'] = prices['month'].dt.year\n",
        "prices.drop(columns='month', inplace=True)"
      ]
    },
    {
      "cell_type": "code",
      "execution_count": 36,
      "metadata": {
        "id": "3b-3-WU0LKGA"
      },
      "outputs": [],
      "source": [
        "# Take mean of storey_range and rename column to storey\n",
        "def process_range(x):\n",
        "    start, end = map(int, x.split(\" TO \"))\n",
        "    return (start + end) // 2\n",
        "\n",
        "# Apply the function to the storey_range column\n",
        "prices['storey'] = prices['storey_range'].apply(lambda x: process_range(x))\n",
        "prices.drop(columns='storey_range', inplace=True)"
      ]
    },
    {
      "cell_type": "code",
      "execution_count": 37,
      "metadata": {
        "id": "UTnHXUTULKGA"
      },
      "outputs": [],
      "source": [
        "prices.drop(columns=['block', 'street_name'], inplace=True)"
      ]
    },
    {
      "cell_type": "code",
      "execution_count": 38,
      "metadata": {
        "id": "Zr9HAYW4LKGA",
        "outputId": "292c2dfc-6c19-4a39-fd20-3afc5d142f18"
      },
      "outputs": [
        {
          "data": {
            "text/html": [
              "<div>\n",
              "<style scoped>\n",
              "    .dataframe tbody tr th:only-of-type {\n",
              "        vertical-align: middle;\n",
              "    }\n",
              "\n",
              "    .dataframe tbody tr th {\n",
              "        vertical-align: top;\n",
              "    }\n",
              "\n",
              "    .dataframe thead th {\n",
              "        text-align: right;\n",
              "    }\n",
              "</style>\n",
              "<table border=\"1\" class=\"dataframe\">\n",
              "  <thead>\n",
              "    <tr style=\"text-align: right;\">\n",
              "      <th></th>\n",
              "      <th>town</th>\n",
              "      <th>flat_type</th>\n",
              "      <th>floor_area_sqm</th>\n",
              "      <th>flat_model</th>\n",
              "      <th>lease_commence_date</th>\n",
              "      <th>resale_price</th>\n",
              "      <th>remaining_lease</th>\n",
              "      <th>cpi</th>\n",
              "      <th>real_price</th>\n",
              "      <th>year</th>\n",
              "      <th>storey</th>\n",
              "    </tr>\n",
              "  </thead>\n",
              "  <tbody>\n",
              "    <tr>\n",
              "      <th>0</th>\n",
              "      <td>ANG MO KIO</td>\n",
              "      <td>1</td>\n",
              "      <td>31.0</td>\n",
              "      <td>Improved</td>\n",
              "      <td>1977</td>\n",
              "      <td>9000.0</td>\n",
              "      <td>74.666667</td>\n",
              "      <td>60.894</td>\n",
              "      <td>14779.781259</td>\n",
              "      <td>1990</td>\n",
              "      <td>11</td>\n",
              "    </tr>\n",
              "    <tr>\n",
              "      <th>1</th>\n",
              "      <td>ANG MO KIO</td>\n",
              "      <td>1</td>\n",
              "      <td>31.0</td>\n",
              "      <td>Improved</td>\n",
              "      <td>1977</td>\n",
              "      <td>6000.0</td>\n",
              "      <td>74.666667</td>\n",
              "      <td>60.894</td>\n",
              "      <td>9853.187506</td>\n",
              "      <td>1990</td>\n",
              "      <td>5</td>\n",
              "    </tr>\n",
              "    <tr>\n",
              "      <th>2</th>\n",
              "      <td>ANG MO KIO</td>\n",
              "      <td>1</td>\n",
              "      <td>31.0</td>\n",
              "      <td>Improved</td>\n",
              "      <td>1977</td>\n",
              "      <td>8000.0</td>\n",
              "      <td>74.666667</td>\n",
              "      <td>60.894</td>\n",
              "      <td>13137.583342</td>\n",
              "      <td>1990</td>\n",
              "      <td>11</td>\n",
              "    </tr>\n",
              "    <tr>\n",
              "      <th>3</th>\n",
              "      <td>ANG MO KIO</td>\n",
              "      <td>1</td>\n",
              "      <td>31.0</td>\n",
              "      <td>Improved</td>\n",
              "      <td>1977</td>\n",
              "      <td>6000.0</td>\n",
              "      <td>74.666667</td>\n",
              "      <td>60.894</td>\n",
              "      <td>9853.187506</td>\n",
              "      <td>1990</td>\n",
              "      <td>8</td>\n",
              "    </tr>\n",
              "    <tr>\n",
              "      <th>4</th>\n",
              "      <td>ANG MO KIO</td>\n",
              "      <td>3</td>\n",
              "      <td>73.0</td>\n",
              "      <td>New Generation</td>\n",
              "      <td>1976</td>\n",
              "      <td>47200.0</td>\n",
              "      <td>74.666667</td>\n",
              "      <td>60.894</td>\n",
              "      <td>77511.741715</td>\n",
              "      <td>1990</td>\n",
              "      <td>5</td>\n",
              "    </tr>\n",
              "    <tr>\n",
              "      <th>...</th>\n",
              "      <td>...</td>\n",
              "      <td>...</td>\n",
              "      <td>...</td>\n",
              "      <td>...</td>\n",
              "      <td>...</td>\n",
              "      <td>...</td>\n",
              "      <td>...</td>\n",
              "      <td>...</td>\n",
              "      <td>...</td>\n",
              "      <td>...</td>\n",
              "      <td>...</td>\n",
              "    </tr>\n",
              "    <tr>\n",
              "      <th>841626</th>\n",
              "      <td>YISHUN</td>\n",
              "      <td>5</td>\n",
              "      <td>131.0</td>\n",
              "      <td>Improved</td>\n",
              "      <td>1987</td>\n",
              "      <td>440000.0</td>\n",
              "      <td>66.250000</td>\n",
              "      <td>99.869</td>\n",
              "      <td>440577.156074</td>\n",
              "      <td>2020</td>\n",
              "      <td>8</td>\n",
              "    </tr>\n",
              "    <tr>\n",
              "      <th>841627</th>\n",
              "      <td>YISHUN</td>\n",
              "      <td>5</td>\n",
              "      <td>122.0</td>\n",
              "      <td>Improved</td>\n",
              "      <td>1987</td>\n",
              "      <td>458000.0</td>\n",
              "      <td>65.500000</td>\n",
              "      <td>99.869</td>\n",
              "      <td>458600.767005</td>\n",
              "      <td>2020</td>\n",
              "      <td>8</td>\n",
              "    </tr>\n",
              "    <tr>\n",
              "      <th>841628</th>\n",
              "      <td>YISHUN</td>\n",
              "      <td>5</td>\n",
              "      <td>122.0</td>\n",
              "      <td>Improved</td>\n",
              "      <td>1987</td>\n",
              "      <td>490000.0</td>\n",
              "      <td>66.333333</td>\n",
              "      <td>99.869</td>\n",
              "      <td>490642.741992</td>\n",
              "      <td>2020</td>\n",
              "      <td>5</td>\n",
              "    </tr>\n",
              "    <tr>\n",
              "      <th>841629</th>\n",
              "      <td>YISHUN</td>\n",
              "      <td>6</td>\n",
              "      <td>146.0</td>\n",
              "      <td>Maisonette</td>\n",
              "      <td>1987</td>\n",
              "      <td>558000.0</td>\n",
              "      <td>66.250000</td>\n",
              "      <td>99.869</td>\n",
              "      <td>558731.938840</td>\n",
              "      <td>2020</td>\n",
              "      <td>5</td>\n",
              "    </tr>\n",
              "    <tr>\n",
              "      <th>841630</th>\n",
              "      <td>YISHUN</td>\n",
              "      <td>6</td>\n",
              "      <td>146.0</td>\n",
              "      <td>Maisonette</td>\n",
              "      <td>1988</td>\n",
              "      <td>555000.0</td>\n",
              "      <td>66.750000</td>\n",
              "      <td>99.869</td>\n",
              "      <td>555728.003685</td>\n",
              "      <td>2020</td>\n",
              "      <td>5</td>\n",
              "    </tr>\n",
              "  </tbody>\n",
              "</table>\n",
              "<p>841631 rows × 11 columns</p>\n",
              "</div>"
            ],
            "text/plain": [
              "              town  flat_type  floor_area_sqm      flat_model  \\\n",
              "0       ANG MO KIO          1            31.0        Improved   \n",
              "1       ANG MO KIO          1            31.0        Improved   \n",
              "2       ANG MO KIO          1            31.0        Improved   \n",
              "3       ANG MO KIO          1            31.0        Improved   \n",
              "4       ANG MO KIO          3            73.0  New Generation   \n",
              "...            ...        ...             ...             ...   \n",
              "841626      YISHUN          5           131.0        Improved   \n",
              "841627      YISHUN          5           122.0        Improved   \n",
              "841628      YISHUN          5           122.0        Improved   \n",
              "841629      YISHUN          6           146.0      Maisonette   \n",
              "841630      YISHUN          6           146.0      Maisonette   \n",
              "\n",
              "        lease_commence_date  resale_price  remaining_lease     cpi  \\\n",
              "0                      1977        9000.0        74.666667  60.894   \n",
              "1                      1977        6000.0        74.666667  60.894   \n",
              "2                      1977        8000.0        74.666667  60.894   \n",
              "3                      1977        6000.0        74.666667  60.894   \n",
              "4                      1976       47200.0        74.666667  60.894   \n",
              "...                     ...           ...              ...     ...   \n",
              "841626                 1987      440000.0        66.250000  99.869   \n",
              "841627                 1987      458000.0        65.500000  99.869   \n",
              "841628                 1987      490000.0        66.333333  99.869   \n",
              "841629                 1987      558000.0        66.250000  99.869   \n",
              "841630                 1988      555000.0        66.750000  99.869   \n",
              "\n",
              "           real_price  year  storey  \n",
              "0        14779.781259  1990      11  \n",
              "1         9853.187506  1990       5  \n",
              "2        13137.583342  1990      11  \n",
              "3         9853.187506  1990       8  \n",
              "4        77511.741715  1990       5  \n",
              "...               ...   ...     ...  \n",
              "841626  440577.156074  2020       8  \n",
              "841627  458600.767005  2020       8  \n",
              "841628  490642.741992  2020       5  \n",
              "841629  558731.938840  2020       5  \n",
              "841630  555728.003685  2020       5  \n",
              "\n",
              "[841631 rows x 11 columns]"
            ]
          },
          "execution_count": 38,
          "metadata": {},
          "output_type": "execute_result"
        }
      ],
      "source": [
        "prices"
      ]
    },
    {
      "cell_type": "markdown",
      "metadata": {},
      "source": [
        "Read, View, then see my Explanation"
      ]
    },
    {
      "cell_type": "code",
      "execution_count": 39,
      "metadata": {
        "id": "JxwgRG-zLKGA"
      },
      "outputs": [],
      "source": [
        "# Categorical columns for one hot encoding for flat_model and town\n",
        "prices = pd.get_dummies(prices, columns=['town', 'flat_model'])"
      ]
    },
    {
      "cell_type": "code",
      "execution_count": 40,
      "metadata": {
        "id": "WhMUjCbsLKGA",
        "outputId": "a0a27c47-0ba7-4795-a203-2c048a2d861a"
      },
      "outputs": [
        {
          "data": {
            "text/html": [
              "<div>\n",
              "<style scoped>\n",
              "    .dataframe tbody tr th:only-of-type {\n",
              "        vertical-align: middle;\n",
              "    }\n",
              "\n",
              "    .dataframe tbody tr th {\n",
              "        vertical-align: top;\n",
              "    }\n",
              "\n",
              "    .dataframe thead th {\n",
              "        text-align: right;\n",
              "    }\n",
              "</style>\n",
              "<table border=\"1\" class=\"dataframe\">\n",
              "  <thead>\n",
              "    <tr style=\"text-align: right;\">\n",
              "      <th></th>\n",
              "      <th>flat_type</th>\n",
              "      <th>floor_area_sqm</th>\n",
              "      <th>lease_commence_date</th>\n",
              "      <th>resale_price</th>\n",
              "      <th>remaining_lease</th>\n",
              "      <th>cpi</th>\n",
              "      <th>real_price</th>\n",
              "      <th>year</th>\n",
              "      <th>storey</th>\n",
              "      <th>town_ANG MO KIO</th>\n",
              "      <th>...</th>\n",
              "      <th>flat_model_Maisonette</th>\n",
              "      <th>flat_model_Model A</th>\n",
              "      <th>flat_model_Model A2</th>\n",
              "      <th>flat_model_Multi Generation</th>\n",
              "      <th>flat_model_New Generation</th>\n",
              "      <th>flat_model_Premium Apartment</th>\n",
              "      <th>flat_model_Simplified</th>\n",
              "      <th>flat_model_Standard</th>\n",
              "      <th>flat_model_Terrace</th>\n",
              "      <th>flat_model_Type S1S2</th>\n",
              "    </tr>\n",
              "  </thead>\n",
              "  <tbody>\n",
              "    <tr>\n",
              "      <th>0</th>\n",
              "      <td>1</td>\n",
              "      <td>31.0</td>\n",
              "      <td>1977</td>\n",
              "      <td>9000.0</td>\n",
              "      <td>74.666667</td>\n",
              "      <td>60.894</td>\n",
              "      <td>14779.781259</td>\n",
              "      <td>1990</td>\n",
              "      <td>11</td>\n",
              "      <td>1</td>\n",
              "      <td>...</td>\n",
              "      <td>0</td>\n",
              "      <td>0</td>\n",
              "      <td>0</td>\n",
              "      <td>0</td>\n",
              "      <td>0</td>\n",
              "      <td>0</td>\n",
              "      <td>0</td>\n",
              "      <td>0</td>\n",
              "      <td>0</td>\n",
              "      <td>0</td>\n",
              "    </tr>\n",
              "    <tr>\n",
              "      <th>1</th>\n",
              "      <td>1</td>\n",
              "      <td>31.0</td>\n",
              "      <td>1977</td>\n",
              "      <td>6000.0</td>\n",
              "      <td>74.666667</td>\n",
              "      <td>60.894</td>\n",
              "      <td>9853.187506</td>\n",
              "      <td>1990</td>\n",
              "      <td>5</td>\n",
              "      <td>1</td>\n",
              "      <td>...</td>\n",
              "      <td>0</td>\n",
              "      <td>0</td>\n",
              "      <td>0</td>\n",
              "      <td>0</td>\n",
              "      <td>0</td>\n",
              "      <td>0</td>\n",
              "      <td>0</td>\n",
              "      <td>0</td>\n",
              "      <td>0</td>\n",
              "      <td>0</td>\n",
              "    </tr>\n",
              "    <tr>\n",
              "      <th>2</th>\n",
              "      <td>1</td>\n",
              "      <td>31.0</td>\n",
              "      <td>1977</td>\n",
              "      <td>8000.0</td>\n",
              "      <td>74.666667</td>\n",
              "      <td>60.894</td>\n",
              "      <td>13137.583342</td>\n",
              "      <td>1990</td>\n",
              "      <td>11</td>\n",
              "      <td>1</td>\n",
              "      <td>...</td>\n",
              "      <td>0</td>\n",
              "      <td>0</td>\n",
              "      <td>0</td>\n",
              "      <td>0</td>\n",
              "      <td>0</td>\n",
              "      <td>0</td>\n",
              "      <td>0</td>\n",
              "      <td>0</td>\n",
              "      <td>0</td>\n",
              "      <td>0</td>\n",
              "    </tr>\n",
              "    <tr>\n",
              "      <th>3</th>\n",
              "      <td>1</td>\n",
              "      <td>31.0</td>\n",
              "      <td>1977</td>\n",
              "      <td>6000.0</td>\n",
              "      <td>74.666667</td>\n",
              "      <td>60.894</td>\n",
              "      <td>9853.187506</td>\n",
              "      <td>1990</td>\n",
              "      <td>8</td>\n",
              "      <td>1</td>\n",
              "      <td>...</td>\n",
              "      <td>0</td>\n",
              "      <td>0</td>\n",
              "      <td>0</td>\n",
              "      <td>0</td>\n",
              "      <td>0</td>\n",
              "      <td>0</td>\n",
              "      <td>0</td>\n",
              "      <td>0</td>\n",
              "      <td>0</td>\n",
              "      <td>0</td>\n",
              "    </tr>\n",
              "    <tr>\n",
              "      <th>4</th>\n",
              "      <td>3</td>\n",
              "      <td>73.0</td>\n",
              "      <td>1976</td>\n",
              "      <td>47200.0</td>\n",
              "      <td>74.666667</td>\n",
              "      <td>60.894</td>\n",
              "      <td>77511.741715</td>\n",
              "      <td>1990</td>\n",
              "      <td>5</td>\n",
              "      <td>1</td>\n",
              "      <td>...</td>\n",
              "      <td>0</td>\n",
              "      <td>0</td>\n",
              "      <td>0</td>\n",
              "      <td>0</td>\n",
              "      <td>1</td>\n",
              "      <td>0</td>\n",
              "      <td>0</td>\n",
              "      <td>0</td>\n",
              "      <td>0</td>\n",
              "      <td>0</td>\n",
              "    </tr>\n",
              "    <tr>\n",
              "      <th>...</th>\n",
              "      <td>...</td>\n",
              "      <td>...</td>\n",
              "      <td>...</td>\n",
              "      <td>...</td>\n",
              "      <td>...</td>\n",
              "      <td>...</td>\n",
              "      <td>...</td>\n",
              "      <td>...</td>\n",
              "      <td>...</td>\n",
              "      <td>...</td>\n",
              "      <td>...</td>\n",
              "      <td>...</td>\n",
              "      <td>...</td>\n",
              "      <td>...</td>\n",
              "      <td>...</td>\n",
              "      <td>...</td>\n",
              "      <td>...</td>\n",
              "      <td>...</td>\n",
              "      <td>...</td>\n",
              "      <td>...</td>\n",
              "      <td>...</td>\n",
              "    </tr>\n",
              "    <tr>\n",
              "      <th>841626</th>\n",
              "      <td>5</td>\n",
              "      <td>131.0</td>\n",
              "      <td>1987</td>\n",
              "      <td>440000.0</td>\n",
              "      <td>66.250000</td>\n",
              "      <td>99.869</td>\n",
              "      <td>440577.156074</td>\n",
              "      <td>2020</td>\n",
              "      <td>8</td>\n",
              "      <td>0</td>\n",
              "      <td>...</td>\n",
              "      <td>0</td>\n",
              "      <td>0</td>\n",
              "      <td>0</td>\n",
              "      <td>0</td>\n",
              "      <td>0</td>\n",
              "      <td>0</td>\n",
              "      <td>0</td>\n",
              "      <td>0</td>\n",
              "      <td>0</td>\n",
              "      <td>0</td>\n",
              "    </tr>\n",
              "    <tr>\n",
              "      <th>841627</th>\n",
              "      <td>5</td>\n",
              "      <td>122.0</td>\n",
              "      <td>1987</td>\n",
              "      <td>458000.0</td>\n",
              "      <td>65.500000</td>\n",
              "      <td>99.869</td>\n",
              "      <td>458600.767005</td>\n",
              "      <td>2020</td>\n",
              "      <td>8</td>\n",
              "      <td>0</td>\n",
              "      <td>...</td>\n",
              "      <td>0</td>\n",
              "      <td>0</td>\n",
              "      <td>0</td>\n",
              "      <td>0</td>\n",
              "      <td>0</td>\n",
              "      <td>0</td>\n",
              "      <td>0</td>\n",
              "      <td>0</td>\n",
              "      <td>0</td>\n",
              "      <td>0</td>\n",
              "    </tr>\n",
              "    <tr>\n",
              "      <th>841628</th>\n",
              "      <td>5</td>\n",
              "      <td>122.0</td>\n",
              "      <td>1987</td>\n",
              "      <td>490000.0</td>\n",
              "      <td>66.333333</td>\n",
              "      <td>99.869</td>\n",
              "      <td>490642.741992</td>\n",
              "      <td>2020</td>\n",
              "      <td>5</td>\n",
              "      <td>0</td>\n",
              "      <td>...</td>\n",
              "      <td>0</td>\n",
              "      <td>0</td>\n",
              "      <td>0</td>\n",
              "      <td>0</td>\n",
              "      <td>0</td>\n",
              "      <td>0</td>\n",
              "      <td>0</td>\n",
              "      <td>0</td>\n",
              "      <td>0</td>\n",
              "      <td>0</td>\n",
              "    </tr>\n",
              "    <tr>\n",
              "      <th>841629</th>\n",
              "      <td>6</td>\n",
              "      <td>146.0</td>\n",
              "      <td>1987</td>\n",
              "      <td>558000.0</td>\n",
              "      <td>66.250000</td>\n",
              "      <td>99.869</td>\n",
              "      <td>558731.938840</td>\n",
              "      <td>2020</td>\n",
              "      <td>5</td>\n",
              "      <td>0</td>\n",
              "      <td>...</td>\n",
              "      <td>1</td>\n",
              "      <td>0</td>\n",
              "      <td>0</td>\n",
              "      <td>0</td>\n",
              "      <td>0</td>\n",
              "      <td>0</td>\n",
              "      <td>0</td>\n",
              "      <td>0</td>\n",
              "      <td>0</td>\n",
              "      <td>0</td>\n",
              "    </tr>\n",
              "    <tr>\n",
              "      <th>841630</th>\n",
              "      <td>6</td>\n",
              "      <td>146.0</td>\n",
              "      <td>1988</td>\n",
              "      <td>555000.0</td>\n",
              "      <td>66.750000</td>\n",
              "      <td>99.869</td>\n",
              "      <td>555728.003685</td>\n",
              "      <td>2020</td>\n",
              "      <td>5</td>\n",
              "      <td>0</td>\n",
              "      <td>...</td>\n",
              "      <td>1</td>\n",
              "      <td>0</td>\n",
              "      <td>0</td>\n",
              "      <td>0</td>\n",
              "      <td>0</td>\n",
              "      <td>0</td>\n",
              "      <td>0</td>\n",
              "      <td>0</td>\n",
              "      <td>0</td>\n",
              "      <td>0</td>\n",
              "    </tr>\n",
              "  </tbody>\n",
              "</table>\n",
              "<p>841631 rows × 52 columns</p>\n",
              "</div>"
            ],
            "text/plain": [
              "        flat_type  floor_area_sqm  lease_commence_date  resale_price  \\\n",
              "0               1            31.0                 1977        9000.0   \n",
              "1               1            31.0                 1977        6000.0   \n",
              "2               1            31.0                 1977        8000.0   \n",
              "3               1            31.0                 1977        6000.0   \n",
              "4               3            73.0                 1976       47200.0   \n",
              "...           ...             ...                  ...           ...   \n",
              "841626          5           131.0                 1987      440000.0   \n",
              "841627          5           122.0                 1987      458000.0   \n",
              "841628          5           122.0                 1987      490000.0   \n",
              "841629          6           146.0                 1987      558000.0   \n",
              "841630          6           146.0                 1988      555000.0   \n",
              "\n",
              "        remaining_lease     cpi     real_price  year  storey  town_ANG MO KIO  \\\n",
              "0             74.666667  60.894   14779.781259  1990      11                1   \n",
              "1             74.666667  60.894    9853.187506  1990       5                1   \n",
              "2             74.666667  60.894   13137.583342  1990      11                1   \n",
              "3             74.666667  60.894    9853.187506  1990       8                1   \n",
              "4             74.666667  60.894   77511.741715  1990       5                1   \n",
              "...                 ...     ...            ...   ...     ...              ...   \n",
              "841626        66.250000  99.869  440577.156074  2020       8                0   \n",
              "841627        65.500000  99.869  458600.767005  2020       8                0   \n",
              "841628        66.333333  99.869  490642.741992  2020       5                0   \n",
              "841629        66.250000  99.869  558731.938840  2020       5                0   \n",
              "841630        66.750000  99.869  555728.003685  2020       5                0   \n",
              "\n",
              "        ...  flat_model_Maisonette  flat_model_Model A  flat_model_Model A2  \\\n",
              "0       ...                      0                   0                    0   \n",
              "1       ...                      0                   0                    0   \n",
              "2       ...                      0                   0                    0   \n",
              "3       ...                      0                   0                    0   \n",
              "4       ...                      0                   0                    0   \n",
              "...     ...                    ...                 ...                  ...   \n",
              "841626  ...                      0                   0                    0   \n",
              "841627  ...                      0                   0                    0   \n",
              "841628  ...                      0                   0                    0   \n",
              "841629  ...                      1                   0                    0   \n",
              "841630  ...                      1                   0                    0   \n",
              "\n",
              "        flat_model_Multi Generation  flat_model_New Generation  \\\n",
              "0                                 0                          0   \n",
              "1                                 0                          0   \n",
              "2                                 0                          0   \n",
              "3                                 0                          0   \n",
              "4                                 0                          1   \n",
              "...                             ...                        ...   \n",
              "841626                            0                          0   \n",
              "841627                            0                          0   \n",
              "841628                            0                          0   \n",
              "841629                            0                          0   \n",
              "841630                            0                          0   \n",
              "\n",
              "        flat_model_Premium Apartment  flat_model_Simplified  \\\n",
              "0                                  0                      0   \n",
              "1                                  0                      0   \n",
              "2                                  0                      0   \n",
              "3                                  0                      0   \n",
              "4                                  0                      0   \n",
              "...                              ...                    ...   \n",
              "841626                             0                      0   \n",
              "841627                             0                      0   \n",
              "841628                             0                      0   \n",
              "841629                             0                      0   \n",
              "841630                             0                      0   \n",
              "\n",
              "        flat_model_Standard  flat_model_Terrace  flat_model_Type S1S2  \n",
              "0                         0                   0                     0  \n",
              "1                         0                   0                     0  \n",
              "2                         0                   0                     0  \n",
              "3                         0                   0                     0  \n",
              "4                         0                   0                     0  \n",
              "...                     ...                 ...                   ...  \n",
              "841626                    0                   0                     0  \n",
              "841627                    0                   0                     0  \n",
              "841628                    0                   0                     0  \n",
              "841629                    0                   0                     0  \n",
              "841630                    0                   0                     0  \n",
              "\n",
              "[841631 rows x 52 columns]"
            ]
          },
          "execution_count": 40,
          "metadata": {},
          "output_type": "execute_result"
        }
      ],
      "source": [
        "prices"
      ]
    },
    {
      "cell_type": "markdown",
      "metadata": {},
      "source": [
        "The above code snipz applies one-hot encoding to the `town` and `flat_model` columns of the `prices` DataFrame. One-hot encoding is a process used to convert categorical data into a numerical format that machine learning models can interpret more effectively.\n",
        "\n",
        "### Why It's Needed:\n",
        "- **Categorical Data Handling**: Most machine learning models inherently work with numerical data and cannot directly process text or categorical data. One-hot encoding transforms these categorical variables into a format that these models can understand.\n",
        "- **Removes Ordinal Relationships**: By encoding categorical variables into binary vectors, it ensures that the model does not assume an unintended order or hierarchy among the categories (e.g., one town or flat model being \"greater\" than another).\n",
        "- **Improves Model Performance**: Proper encoding of categorical data often leads to better model performance since it allows the model to use this information effectively without making incorrect assumptions about the data.\n",
        "\n",
        "### What the Code Does:\n",
        "- **Creates Dummy Variables**: For each unique category in the `town` and `flat_model` columns, a new binary (0 or 1) column is created. If a record belongs to a particular category, the corresponding column for that category is marked with a 1, and 0 otherwise.\n",
        "- **Expands the DataFrame**: The original `town` and `flat_model` columns are replaced by multiple columns in the DataFrame, each representing a possible category with binary indicators.\n",
        "- **Preserves Data Integrity**: The transformation is applied directly to the `prices` DataFrame, updating it to include these new binary columns while dropping the original categorical columns.\n",
        "\n",
        "This transformation is critical for preparing the dataset for machine learning analysis, especially in algorithms that require numerical input. By encoding categorical variables like `town` and `flat_model`, the code enhances the dataset's compatibility with these algorithms, facilitating more accurate and insightful modeling."
      ]
    },
    {
      "cell_type": "markdown",
      "metadata": {
        "id": "UIbvuTVELKGA"
      },
      "source": [
        "# Machine Learning Model"
      ]
    },
    {
      "cell_type": "markdown",
      "metadata": {},
      "source": [
        "### PREFACE\n",
        "\n",
        "Feature engineering enhances machine learning models by creating new features or modifying existing ones, improving model accuracy and performance. It ensures that the dataset is more representative of the underlying problem, allowing models to capture complex patterns more effectively.\n",
        "\n",
        "Training and evaluation with separate datasets are crucial for developing robust models. **Training** allows the model to learn the relationships between features and outcomes. **Evaluation** on a separate test set assesses the model's performance on unseen data, ensuring it generalizes well to new, unseen instances, rather than memorizing the training data.\n",
        "\n",
        "**Lasso and Ridge Regression** are regularization techniques used in linear regression to prevent overfitting, which occurs when a model is too complex and captures noise in the training data. **Lasso (L1 regularization)** encourages sparse models by penalizing the absolute size of coefficients, potentially reducing some coefficients to zero and thus performing feature selection. **Ridge (L2 regularization)** penalizes the square of coefficients, encouraging smaller, more diffuse coefficient values but not necessarily reducing them to zero. Both techniques help in enhancing the model's generalization capabilities by introducing a bias to reduce variance in the predictions.\n"
      ]
    },
    {
      "cell_type": "markdown",
      "metadata": {},
      "source": [
        "### Importing ML Libraries"
      ]
    },
    {
      "cell_type": "code",
      "execution_count": 41,
      "metadata": {
        "id": "W1mohmoGLKGB"
      },
      "outputs": [],
      "source": [
        "from sklearn.model_selection import train_test_split\n",
        "from sklearn.preprocessing import MinMaxScaler\n",
        "from sklearn.linear_model import LinearRegression, Lasso, Ridge"
      ]
    },
    {
      "cell_type": "markdown",
      "metadata": {},
      "source": [
        "### Preparing Data for Modelling"
      ]
    },
    {
      "cell_type": "code",
      "execution_count": 42,
      "metadata": {
        "id": "bof_ONoQLKGB"
      },
      "outputs": [],
      "source": [
        "# Split the data into features and target\n",
        "X = prices.drop('resale_price',axis=1)\n",
        "y = prices['resale_price']"
      ]
    },
    {
      "cell_type": "code",
      "execution_count": 43,
      "metadata": {
        "id": "Qx1Dq5IBLKGB"
      },
      "outputs": [],
      "source": [
        "# Split the data into training and testing sets\n",
        "X_train, X_test, y_train, y_test = train_test_split(X,y,test_size=0.2,random_state=101)\n",
        "\n",
        "# Scale the data\n",
        "scaler = MinMaxScaler()\n",
        "X_train= scaler.fit_transform(X_train)\n",
        "X_test = scaler.transform(X_test)"
      ]
    },
    {
      "cell_type": "markdown",
      "metadata": {},
      "source": [
        "### Linear Regression Model Training and Evaluation"
      ]
    },
    {
      "cell_type": "code",
      "execution_count": 44,
      "metadata": {
        "id": "RXAngFpqLKGB",
        "outputId": "63612096-2d93-42d5-b07a-3833efb51d55"
      },
      "outputs": [
        {
          "name": "stdout",
          "output_type": "stream",
          "text": [
            "Linear Regression Train Score:  0.9835462186449706\n",
            "Linear Regression Test Score:  0.9834579994833492\n"
          ]
        }
      ],
      "source": [
        "# Linear Regression\n",
        "model = LinearRegression()\n",
        "model.fit(X_train, y_train)\n",
        "\n",
        "# Model Evaluation\n",
        "print(\"Linear Regression Train Score: \", model.score(X_train, y_train))\n",
        "print(\"Linear Regression Test Score: \", model.score(X_test, y_test))"
      ]
    },
    {
      "cell_type": "code",
      "execution_count": 45,
      "metadata": {},
      "outputs": [
        {
          "name": "stdout",
          "output_type": "stream",
          "text": [
            "[[0.66666667 0.35315985 0.49056604 0.55961844 0.19065902 0.47639861\n",
            "  0.23333333 0.125      0.         0.         0.         0.\n",
            "  0.         0.         0.         0.         0.         0.\n",
            "  0.         0.         0.         0.         0.         0.\n",
            "  0.         1.         0.         0.         0.         0.\n",
            "  0.         0.         0.         0.         0.         0.\n",
            "  0.         0.         0.         0.         1.         0.\n",
            "  0.         0.         0.         0.         0.         0.\n",
            "  0.         0.         0.        ]]\n",
            "Predicted Price:  451208.5\n",
            "Actual Price:  438000.0\n"
          ]
        }
      ],
      "source": [
        "# Prediction on 1 sample HDB flat\n",
        "sample = X_test[1].reshape(1, -1)\n",
        "print(sample)\n",
        "\n",
        "print(\"Predicted Price: \", model.predict(sample)[0])\n",
        "print(\"Actual Price: \", y_test.iloc[1])"
      ]
    },
    {
      "cell_type": "code",
      "execution_count": 46,
      "metadata": {},
      "outputs": [
        {
          "data": {
            "text/plain": [
              "[<matplotlib.lines.Line2D at 0x2bf147d9b50>]"
            ]
          },
          "execution_count": 46,
          "metadata": {},
          "output_type": "execute_result"
        },
        {
          "data": {
            "image/png": "[encoded data removed]",
            "text/plain": [
              "<Figure size 864x576 with 1 Axes>"
            ]
          },
          "metadata": {
            "needs_background": "light"
          },
          "output_type": "display_data"
        }
      ],
      "source": [
        "# Plotting the actual vs predicted prices\n",
        "pred = model.predict(X_test)\n",
        "\n",
        "plt.figure(figsize=(12,8))\n",
        "# Scatter plot of actual vs predicted (our predictions)\n",
        "plt.scatter(y_test,pred) \n",
        "\n",
        "# Perfect predictions. Red line to show where y_test = pred.\n",
        "plt.plot(y_test,y_test,'r') "
      ]
    },
    {
      "cell_type": "markdown",
      "metadata": {},
      "source": [
        "## Lasso and Ridge Regression Model Training and Evaluation"
      ]
    },
    {
      "cell_type": "code",
      "execution_count": 47,
      "metadata": {
        "id": "fhWweaJ9LKGB",
        "outputId": "d4fe7488-4187-403a-d831-880eeba58896"
      },
      "outputs": [
        {
          "name": "stdout",
          "output_type": "stream",
          "text": [
            "Lasso Train Score:  0.9835458244101669\n",
            "Lasso Test Score:  0.9834581345737717\n"
          ]
        }
      ],
      "source": [
        "# Lasso Regression\n",
        "lasso_model = Lasso(alpha=0.5, max_iter=10000)\n",
        "lasso_model.fit(X_train, y_train)\n",
        "\n",
        "# Model Evaluation\n",
        "print(\"Lasso Train Score: \", lasso_model.score(X_train, y_train))\n",
        "print(\"Lasso Test Score: \", lasso_model.score(X_test, y_test))"
      ]
    },
    {
      "cell_type": "code",
      "execution_count": 48,
      "metadata": {
        "id": "XYmJA9F-LKGB",
        "outputId": "5a1b9fcb-e985-43c2-9a21-2ef4635865a7"
      },
      "outputs": [
        {
          "name": "stdout",
          "output_type": "stream",
          "text": [
            "Ridge Train Score:  0.9835462514686028\n",
            "Ridge Test Score:  0.9834582805416577\n"
          ]
        }
      ],
      "source": [
        "# Ridge Regression\n",
        "ridge_model = Ridge(alpha=0.1)\n",
        "ridge_model.fit(X_train, y_train)\n",
        "\n",
        "# Model Evaluation\n",
        "print(\"Ridge Train Score: \", ridge_model.score(X_train, y_train))\n",
        "print(\"Ridge Test Score: \", ridge_model.score(X_test, y_test))"
      ]
    },
    {
      "cell_type": "markdown",
      "metadata": {},
      "source": [
        "# Conclusion"
      ]
    },
    {
      "cell_type": "markdown",
      "metadata": {},
      "source": [
        "Building Machine Learning models starts with data, garbage in garbage out. Data preprocessing is the most important step in building a model. The model is only as good as the data it is trained on. \n",
        "\n",
        "Most of the steps done in this notebook are data preprocessing steps. The actual model building is only a small part of the process. Also the model is built by just importing the Scikit-learn library and using the different model functions available. \n",
        "\n",
        "Note that the model is not optimized and is just a simple model to show the process of building a model. The model can be further optimized by tuning the hyperparameters and using different models. Since the R2 score is high, we can more or less conclude that the model is a good fit for the data. If the R2 score is low, then we can try different models and tune the hyperparameters to get a better fit. In this case Lasso and Ridge Regression models did not offer a great improvement over the Linear Regression model so we can stick with the Linear Regression model."
      ]
    }
  ],
  "metadata": {
    "colab": {
      "collapsed_sections": [
        "KSx9GeW0yvOc",
        "M0e8bLKxl2Qu",
        "AQhLyg9Coqao",
        "clk5cIk3pw-7",
        "5vK7w84c3YAs",
        "fKyJDqNuMLdV",
        "gW6J7cx2p-U9",
        "UIbvuTVELKGA"
      ],
      "provenance": [],
      "toc_visible": true
    },
    "kernelspec": {
      "display_name": "Python 3",
      "name": "python3"
    },
    "language_info": {
      "codemirror_mode": {
        "name": "ipython",
        "version": 3
      },
      "file_extension": ".py",
      "mimetype": "text/x-python",
      "name": "python",
      "nbconvert_exporter": "python",
      "pygments_lexer": "ipython3",
      "version": "3.9.6"
    }
  },
  "nbformat": 4,
  "nbformat_minor": 0
}
