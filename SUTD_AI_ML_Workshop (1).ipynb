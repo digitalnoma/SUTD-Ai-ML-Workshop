{
  "cells": [
    {
      "cell_type": "markdown",
      "metadata": {
        "id": "aU6pewWayFca"
      },
      "source": [
        "# Zero to Hero ML Workshop\n",
        "Conducted by Akash & Marcus (AI Club Data Science Trainers) <br/>\n",
        "## What's covered in this notebook:\n",
        "1. Data Loading\n",
        "2. Data Cleaning\n",
        "3. Exploratory Data Analysis (EDA)\n",
        "4. Data Preparation\n",
        "5. Machine Learning\n",
        "6. Conclusion"
      ]
    },
    {
      "cell_type": "markdown",
      "metadata": {
        "id": "EtnuHR9Z09iw"
      },
      "source": [
        "Before we begin: download the datasets here. total of 5 files. <br/>\n",
        "\n",
        "The Kaggle way:\n",
        "https://www.kaggle.com/datasets/marcusngjh/hdb-resale-prices/settings\n",
        "\n",
        "The Google Drive way:\n",
        "https://drive.google.com/drive/folders/1kHKwtpk4i8Vse7PQ50NHf73b-KO0MjBs?usp=sharing <br/>\n",
        "\n",
        "You can mount to your drive for easy access through Google Colab"
      ]
    },
    {
      "cell_type": "markdown",
      "metadata": {
        "id": "KSx9GeW0yvOc"
      },
      "source": [
        "# Data Loading"
      ]
    },
    {
      "cell_type": "code",
      "execution_count": 100,
      "metadata": {
        "colab": {
          "base_uri": "https://localhost:8080/"
        },
        "id": "JpFdFLegW14i",
        "outputId": "940e0256-719f-4eab-ec53-7a66e392a87e"
      },
      "outputs": [
        {
          "name": "stdout",
          "output_type": "stream",
          "text": [
            "Requirement already satisfied: pywaffle in c:\\users\\akash\\appdata\\local\\programs\\python\\python39\\lib\\site-packages (1.1.0)\n",
            "Requirement already satisfied: fontawesomefree in c:\\users\\akash\\appdata\\local\\programs\\python\\python39\\lib\\site-packages (from pywaffle) (6.5.1)\n",
            "Requirement already satisfied: matplotlib in c:\\users\\akash\\appdata\\local\\programs\\python\\python39\\lib\\site-packages (from pywaffle) (3.4.3)\n",
            "Requirement already satisfied: numpy>=1.16 in c:\\users\\akash\\appdata\\local\\programs\\python\\python39\\lib\\site-packages (from matplotlib->pywaffle) (1.22.4)\n",
            "Requirement already satisfied: python-dateutil>=2.7 in c:\\users\\akash\\appdata\\local\\programs\\python\\python39\\lib\\site-packages (from matplotlib->pywaffle) (2.8.2)\n",
            "Requirement already satisfied: cycler>=0.10 in c:\\users\\akash\\appdata\\local\\programs\\python\\python39\\lib\\site-packages (from matplotlib->pywaffle) (0.11.0)\n",
            "Requirement already satisfied: kiwisolver>=1.0.1 in c:\\users\\akash\\appdata\\local\\programs\\python\\python39\\lib\\site-packages (from matplotlib->pywaffle) (1.3.2)\n",
            "Requirement already satisfied: pyparsing>=2.2.1 in c:\\users\\akash\\appdata\\local\\programs\\python\\python39\\lib\\site-packages (from matplotlib->pywaffle) (2.4.7)\n",
            "Requirement already satisfied: pillow>=6.2.0 in c:\\users\\akash\\appdata\\local\\programs\\python\\python39\\lib\\site-packages (from matplotlib->pywaffle) (8.4.0)\n",
            "Requirement already satisfied: six>=1.5 in c:\\users\\akash\\appdata\\local\\programs\\python\\python39\\lib\\site-packages (from python-dateutil>=2.7->matplotlib->pywaffle) (1.16.0)\n"
          ]
        },
        {
          "name": "stderr",
          "output_type": "stream",
          "text": [
            "\n",
            "[notice] A new release of pip available: 22.3 -> 24.0\n",
            "[notice] To update, run: python.exe -m pip install --upgrade pip\n"
          ]
        },
        {
          "name": "stdout",
          "output_type": "stream",
          "text": [
            "Requirement already satisfied: joypy in c:\\users\\akash\\appdata\\local\\programs\\python\\python39\\lib\\site-packages (0.2.6)\n",
            "Requirement already satisfied: numpy>=1.16.5 in c:\\users\\akash\\appdata\\local\\programs\\python\\python39\\lib\\site-packages (from joypy) (1.22.4)\n",
            "Requirement already satisfied: matplotlib in c:\\users\\akash\\appdata\\local\\programs\\python\\python39\\lib\\site-packages (from joypy) (3.4.3)\n",
            "Requirement already satisfied: pandas>=0.20.0 in c:\\users\\akash\\appdata\\local\\programs\\python\\python39\\lib\\site-packages (from joypy) (1.3.4)\n",
            "Requirement already satisfied: scipy>=0.11.0 in c:\\users\\akash\\appdata\\local\\programs\\python\\python39\\lib\\site-packages (from joypy) (1.8.0)\n",
            "Requirement already satisfied: python-dateutil>=2.7.3 in c:\\users\\akash\\appdata\\local\\programs\\python\\python39\\lib\\site-packages (from pandas>=0.20.0->joypy) (2.8.2)\n",
            "Requirement already satisfied: pytz>=2017.3 in c:\\users\\akash\\appdata\\local\\programs\\python\\python39\\lib\\site-packages (from pandas>=0.20.0->joypy) (2021.3)\n",
            "Requirement already satisfied: pyparsing>=2.2.1 in c:\\users\\akash\\appdata\\local\\programs\\python\\python39\\lib\\site-packages (from matplotlib->joypy) (2.4.7)\n",
            "Requirement already satisfied: kiwisolver>=1.0.1 in c:\\users\\akash\\appdata\\local\\programs\\python\\python39\\lib\\site-packages (from matplotlib->joypy) (1.3.2)\n",
            "Requirement already satisfied: cycler>=0.10 in c:\\users\\akash\\appdata\\local\\programs\\python\\python39\\lib\\site-packages (from matplotlib->joypy) (0.11.0)\n",
            "Requirement already satisfied: pillow>=6.2.0 in c:\\users\\akash\\appdata\\local\\programs\\python\\python39\\lib\\site-packages (from matplotlib->joypy) (8.4.0)\n",
            "Requirement already satisfied: six>=1.5 in c:\\users\\akash\\appdata\\local\\programs\\python\\python39\\lib\\site-packages (from python-dateutil>=2.7.3->pandas>=0.20.0->joypy) (1.16.0)\n"
          ]
        },
        {
          "name": "stderr",
          "output_type": "stream",
          "text": [
            "\n",
            "[notice] A new release of pip available: 22.3 -> 24.0\n",
            "[notice] To update, run: python.exe -m pip install --upgrade pip\n"
          ]
        },
        {
          "name": "stdout",
          "output_type": "stream",
          "text": [
            "Requirement already satisfied: yellowbrick in c:\\users\\akash\\appdata\\local\\programs\\python\\python39\\lib\\site-packages (1.5)\n",
            "Requirement already satisfied: scikit-learn>=1.0.0 in c:\\users\\akash\\appdata\\local\\programs\\python\\python39\\lib\\site-packages (from yellowbrick) (1.1.0)\n",
            "Requirement already satisfied: scipy>=1.0.0 in c:\\users\\akash\\appdata\\local\\programs\\python\\python39\\lib\\site-packages (from yellowbrick) (1.8.0)\n",
            "Requirement already satisfied: cycler>=0.10.0 in c:\\users\\akash\\appdata\\local\\programs\\python\\python39\\lib\\site-packages (from yellowbrick) (0.11.0)\n",
            "Requirement already satisfied: matplotlib!=3.0.0,>=2.0.2 in c:\\users\\akash\\appdata\\local\\programs\\python\\python39\\lib\\site-packages (from yellowbrick) (3.4.3)\n",
            "Requirement already satisfied: numpy>=1.16.0 in c:\\users\\akash\\appdata\\local\\programs\\python\\python39\\lib\\site-packages (from yellowbrick) (1.22.4)\n",
            "Requirement already satisfied: python-dateutil>=2.7 in c:\\users\\akash\\appdata\\local\\programs\\python\\python39\\lib\\site-packages (from matplotlib!=3.0.0,>=2.0.2->yellowbrick) (2.8.2)\n",
            "Requirement already satisfied: kiwisolver>=1.0.1 in c:\\users\\akash\\appdata\\local\\programs\\python\\python39\\lib\\site-packages (from matplotlib!=3.0.0,>=2.0.2->yellowbrick) (1.3.2)\n",
            "Requirement already satisfied: pyparsing>=2.2.1 in c:\\users\\akash\\appdata\\local\\programs\\python\\python39\\lib\\site-packages (from matplotlib!=3.0.0,>=2.0.2->yellowbrick) (2.4.7)\n",
            "Requirement already satisfied: pillow>=6.2.0 in c:\\users\\akash\\appdata\\local\\programs\\python\\python39\\lib\\site-packages (from matplotlib!=3.0.0,>=2.0.2->yellowbrick) (8.4.0)\n",
            "Requirement already satisfied: joblib>=1.0.0 in c:\\users\\akash\\appdata\\local\\programs\\python\\python39\\lib\\site-packages (from scikit-learn>=1.0.0->yellowbrick) (1.1.0)\n",
            "Requirement already satisfied: threadpoolctl>=2.0.0 in c:\\users\\akash\\appdata\\local\\programs\\python\\python39\\lib\\site-packages (from scikit-learn>=1.0.0->yellowbrick) (3.1.0)\n",
            "Requirement already satisfied: six>=1.5 in c:\\users\\akash\\appdata\\local\\programs\\python\\python39\\lib\\site-packages (from python-dateutil>=2.7->matplotlib!=3.0.0,>=2.0.2->yellowbrick) (1.16.0)\n"
          ]
        },
        {
          "name": "stderr",
          "output_type": "stream",
          "text": [
            "\n",
            "[notice] A new release of pip available: 22.3 -> 24.0\n",
            "[notice] To update, run: python.exe -m pip install --upgrade pip\n"
          ]
        }
      ],
      "source": [
        "!pip install pywaffle\n",
        "!pip install joypy\n",
        "!pip install yellowbrick\n",
        "from pywaffle import Waffle\n",
        "import joypy\n",
        "import pandas as pd\n",
        "import numpy as np\n",
        "import matplotlib.pyplot as plt\n",
        "import seaborn as sns\n",
        "from datetime import datetime as dt\n",
        "from statsmodels.api import qqplot\n",
        "from sklearn.preprocessing import StandardScaler\n",
        "from yellowbrick.regressor import CooksDistance"
      ]
    },
    {
      "cell_type": "code",
      "execution_count": 105,
      "metadata": {
        "id": "M7IucIZ2y1pP"
      },
      "outputs": [],
      "source": [
        "price1999 = pd.read_csv('./input/resale-flat-prices/resale-flat-prices-based-on-approval-date-1990-1999.csv')\n",
        "price2012 = pd.read_csv('./input/resale-flat-prices/resale-flat-prices-based-on-approval-date-2000-feb-2012.csv')\n",
        "price2014 = pd.read_csv('./input/resale-flat-prices/resale-flat-prices-based-on-registration-date-from-mar-2012-to-dec-2014.csv')\n",
        "price2016 = pd.read_csv('./input/resale-flat-prices/resale-flat-prices-based-on-registration-date-from-mar-2012-to-dec-2014.csv')\n",
        "price2020 = pd.read_csv('./input/resale-flat-prices/resale-flat-prices-based-on-registration-date-from-jan-2017-onwards.csv')"
      ]
    },
    {
      "cell_type": "code",
      "execution_count": 106,
      "metadata": {
        "colab": {
          "base_uri": "https://localhost:8080/",
          "height": 206
        },
        "id": "4YhBXSWjy3va",
        "outputId": "559f47c3-20db-4b07-eaf9-533f8cff6a7e"
      },
      "outputs": [
        {
          "data": {
            "text/html": [
              "<div>\n",
              "<style scoped>\n",
              "    .dataframe tbody tr th:only-of-type {\n",
              "        vertical-align: middle;\n",
              "    }\n",
              "\n",
              "    .dataframe tbody tr th {\n",
              "        vertical-align: top;\n",
              "    }\n",
              "\n",
              "    .dataframe thead th {\n",
              "        text-align: right;\n",
              "    }\n",
              "</style>\n",
              "<table border=\"1\" class=\"dataframe\">\n",
              "  <thead>\n",
              "    <tr style=\"text-align: right;\">\n",
              "      <th></th>\n",
              "      <th>month</th>\n",
              "      <th>town</th>\n",
              "      <th>flat_type</th>\n",
              "      <th>block</th>\n",
              "      <th>street_name</th>\n",
              "      <th>storey_range</th>\n",
              "      <th>floor_area_sqm</th>\n",
              "      <th>flat_model</th>\n",
              "      <th>lease_commence_date</th>\n",
              "      <th>resale_price</th>\n",
              "    </tr>\n",
              "  </thead>\n",
              "  <tbody>\n",
              "    <tr>\n",
              "      <th>0</th>\n",
              "      <td>1990-01</td>\n",
              "      <td>ANG MO KIO</td>\n",
              "      <td>1 ROOM</td>\n",
              "      <td>309</td>\n",
              "      <td>ANG MO KIO AVE 1</td>\n",
              "      <td>10 TO 12</td>\n",
              "      <td>31.0</td>\n",
              "      <td>IMPROVED</td>\n",
              "      <td>1977</td>\n",
              "      <td>9000</td>\n",
              "    </tr>\n",
              "    <tr>\n",
              "      <th>1</th>\n",
              "      <td>1990-01</td>\n",
              "      <td>ANG MO KIO</td>\n",
              "      <td>1 ROOM</td>\n",
              "      <td>309</td>\n",
              "      <td>ANG MO KIO AVE 1</td>\n",
              "      <td>04 TO 06</td>\n",
              "      <td>31.0</td>\n",
              "      <td>IMPROVED</td>\n",
              "      <td>1977</td>\n",
              "      <td>6000</td>\n",
              "    </tr>\n",
              "    <tr>\n",
              "      <th>2</th>\n",
              "      <td>1990-01</td>\n",
              "      <td>ANG MO KIO</td>\n",
              "      <td>1 ROOM</td>\n",
              "      <td>309</td>\n",
              "      <td>ANG MO KIO AVE 1</td>\n",
              "      <td>10 TO 12</td>\n",
              "      <td>31.0</td>\n",
              "      <td>IMPROVED</td>\n",
              "      <td>1977</td>\n",
              "      <td>8000</td>\n",
              "    </tr>\n",
              "    <tr>\n",
              "      <th>3</th>\n",
              "      <td>1990-01</td>\n",
              "      <td>ANG MO KIO</td>\n",
              "      <td>1 ROOM</td>\n",
              "      <td>309</td>\n",
              "      <td>ANG MO KIO AVE 1</td>\n",
              "      <td>07 TO 09</td>\n",
              "      <td>31.0</td>\n",
              "      <td>IMPROVED</td>\n",
              "      <td>1977</td>\n",
              "      <td>6000</td>\n",
              "    </tr>\n",
              "    <tr>\n",
              "      <th>4</th>\n",
              "      <td>1990-01</td>\n",
              "      <td>ANG MO KIO</td>\n",
              "      <td>3 ROOM</td>\n",
              "      <td>216</td>\n",
              "      <td>ANG MO KIO AVE 1</td>\n",
              "      <td>04 TO 06</td>\n",
              "      <td>73.0</td>\n",
              "      <td>NEW GENERATION</td>\n",
              "      <td>1976</td>\n",
              "      <td>47200</td>\n",
              "    </tr>\n",
              "  </tbody>\n",
              "</table>\n",
              "</div>"
            ],
            "text/plain": [
              "     month        town flat_type block       street_name storey_range  \\\n",
              "0  1990-01  ANG MO KIO    1 ROOM   309  ANG MO KIO AVE 1     10 TO 12   \n",
              "1  1990-01  ANG MO KIO    1 ROOM   309  ANG MO KIO AVE 1     04 TO 06   \n",
              "2  1990-01  ANG MO KIO    1 ROOM   309  ANG MO KIO AVE 1     10 TO 12   \n",
              "3  1990-01  ANG MO KIO    1 ROOM   309  ANG MO KIO AVE 1     07 TO 09   \n",
              "4  1990-01  ANG MO KIO    3 ROOM   216  ANG MO KIO AVE 1     04 TO 06   \n",
              "\n",
              "   floor_area_sqm      flat_model  lease_commence_date  resale_price  \n",
              "0            31.0        IMPROVED                 1977          9000  \n",
              "1            31.0        IMPROVED                 1977          6000  \n",
              "2            31.0        IMPROVED                 1977          8000  \n",
              "3            31.0        IMPROVED                 1977          6000  \n",
              "4            73.0  NEW GENERATION                 1976         47200  "
            ]
          },
          "execution_count": 106,
          "metadata": {},
          "output_type": "execute_result"
        }
      ],
      "source": [
        "price1999.head()"
      ]
    },
    {
      "cell_type": "code",
      "execution_count": 107,
      "metadata": {
        "colab": {
          "base_uri": "https://localhost:8080/"
        },
        "id": "NtwJYRjIAMk0",
        "outputId": "014cccad-bfe0-4940-bb3d-21f65ae32966"
      },
      "outputs": [
        {
          "name": "stdout",
          "output_type": "stream",
          "text": [
            "1990 to 1999: \n",
            " Index(['month', 'town', 'flat_type', 'block', 'street_name', 'storey_range',\n",
            "       'floor_area_sqm', 'flat_model', 'lease_commence_date', 'resale_price'],\n",
            "      dtype='object')\n",
            "\n",
            " 1999 to 2012: \n",
            " Index(['month', 'town', 'flat_type', 'block', 'street_name', 'storey_range',\n",
            "       'floor_area_sqm', 'flat_model', 'lease_commence_date', 'resale_price'],\n",
            "      dtype='object')\n",
            "\n",
            " 2012 to 2014: \n",
            " Index(['month', 'town', 'flat_type', 'block', 'street_name', 'storey_range',\n",
            "       'floor_area_sqm', 'flat_model', 'lease_commence_date', 'resale_price'],\n",
            "      dtype='object')\n",
            "\n",
            " 2014 to 2016: \n",
            " Index(['month', 'town', 'flat_type', 'block', 'street_name', 'storey_range',\n",
            "       'floor_area_sqm', 'flat_model', 'lease_commence_date', 'resale_price'],\n",
            "      dtype='object')\n",
            "\n",
            " 2016 to 2020: \n",
            " Index(['month', 'town', 'flat_type', 'block', 'street_name', 'storey_range',\n",
            "       'floor_area_sqm', 'flat_model', 'lease_commence_date',\n",
            "       'remaining_lease', 'resale_price'],\n",
            "      dtype='object')\n"
          ]
        }
      ],
      "source": [
        "print(\"1990 to 1999: \\n\", price1999.columns)\n",
        "print(\"\\n 1999 to 2012: \\n\", price2012.columns)\n",
        "print(\"\\n 2012 to 2014: \\n\", price2014.columns)\n",
        "print(\"\\n 2014 to 2016: \\n\", price2016.columns)\n",
        "print(\"\\n 2016 to 2020: \\n\", price2020.columns)"
      ]
    },
    {
      "cell_type": "code",
      "execution_count": 108,
      "metadata": {
        "colab": {
          "base_uri": "https://localhost:8080/"
        },
        "id": "VbIJGSFd_y0F",
        "outputId": "5f5df4dc-17dc-4b0f-a944-14605fd3d525"
      },
      "outputs": [
        {
          "name": "stdout",
          "output_type": "stream",
          "text": [
            "<class 'pandas.core.frame.DataFrame'>\n",
            "RangeIndex: 287200 entries, 0 to 287199\n",
            "Data columns (total 10 columns):\n",
            " #   Column               Non-Null Count   Dtype  \n",
            "---  ------               --------------   -----  \n",
            " 0   month                287200 non-null  object \n",
            " 1   town                 287200 non-null  object \n",
            " 2   flat_type            287200 non-null  object \n",
            " 3   block                287200 non-null  object \n",
            " 4   street_name          287200 non-null  object \n",
            " 5   storey_range         287200 non-null  object \n",
            " 6   floor_area_sqm       287200 non-null  float64\n",
            " 7   flat_model           287200 non-null  object \n",
            " 8   lease_commence_date  287200 non-null  int64  \n",
            " 9   resale_price         287200 non-null  int64  \n",
            "dtypes: float64(1), int64(2), object(7)\n",
            "memory usage: 21.9+ MB\n"
          ]
        }
      ],
      "source": [
        "price1999.info()"
      ]
    },
    {
      "cell_type": "markdown",
      "metadata": {
        "id": "gHziTVDQBX_X"
      },
      "source": [
        "Notice that month is an object data type <br/>\n",
        "Convert to DateTime series for easier data processing and feature engineering."
      ]
    },
    {
      "cell_type": "markdown",
      "metadata": {
        "id": "M0e8bLKxl2Qu"
      },
      "source": [
        "## Merge DataFrames"
      ]
    },
    {
      "cell_type": "code",
      "execution_count": 109,
      "metadata": {
        "colab": {
          "base_uri": "https://localhost:8080/"
        },
        "id": "I5Nyz0YUBWdQ",
        "outputId": "40085679-277c-4633-eda0-0b95fa693f2d"
      },
      "outputs": [
        {
          "name": "stdout",
          "output_type": "stream",
          "text": [
            "<class 'pandas.core.frame.DataFrame'>\n",
            "RangeIndex: 841631 entries, 0 to 841630\n",
            "Data columns (total 11 columns):\n",
            " #   Column               Non-Null Count   Dtype  \n",
            "---  ------               --------------   -----  \n",
            " 0   month                841631 non-null  object \n",
            " 1   town                 841631 non-null  object \n",
            " 2   flat_type            841631 non-null  object \n",
            " 3   block                841631 non-null  object \n",
            " 4   street_name          841631 non-null  object \n",
            " 5   storey_range         841631 non-null  object \n",
            " 6   floor_area_sqm       841631 non-null  float64\n",
            " 7   flat_model           841631 non-null  object \n",
            " 8   lease_commence_date  841631 non-null  int64  \n",
            " 9   resale_price         841631 non-null  float64\n",
            " 10  remaining_lease      80374 non-null   object \n",
            "dtypes: float64(2), int64(1), object(8)\n",
            "memory usage: 70.6+ MB\n"
          ]
        }
      ],
      "source": [
        "prices = pd.concat([price1999, price2012, price2014, price2016, price2020], ignore_index=True, sort=False)\n",
        "prices.info()"
      ]
    },
    {
      "cell_type": "markdown",
      "metadata": {
        "id": "RzCWofqJmQd4"
      },
      "source": [
        "Note that \"month\" is an object Dtype - convert to datetime to simplify feature engineering / data engineering process"
      ]
    },
    {
      "cell_type": "code",
      "execution_count": 110,
      "metadata": {
        "id": "hKzA6lWcmNGM"
      },
      "outputs": [],
      "source": [
        "prices['month'] = pd.to_datetime(prices['month']) # to datetime for feature engineering"
      ]
    },
    {
      "cell_type": "markdown",
      "metadata": {
        "id": "Jigl8okhmbua"
      },
      "source": [
        "Check for NAs in overall dataframe"
      ]
    },
    {
      "cell_type": "code",
      "execution_count": 111,
      "metadata": {
        "colab": {
          "base_uri": "https://localhost:8080/"
        },
        "id": "8FWAJqBymORa",
        "outputId": "cb6145c3-0c88-4d23-c4bd-162559655019"
      },
      "outputs": [
        {
          "data": {
            "text/plain": [
              "array([2017, 2018, 2019, 2020], dtype=int64)"
            ]
          },
          "execution_count": 111,
          "metadata": {},
          "output_type": "execute_result"
        }
      ],
      "source": [
        "prices[~prices.isnull().any(axis=1)]['month'].dt.year.unique()"
      ]
    },
    {
      "cell_type": "markdown",
      "metadata": {
        "id": "Rdw9PKEsmmrp"
      },
      "source": [
        "Lots of NAs after 2015 sales onwards. Interesting, let's move on."
      ]
    },
    {
      "cell_type": "markdown",
      "metadata": {
        "id": "8D5JEhbdmyf4"
      },
      "source": [
        "# Data Cleaning / Preprocessing"
      ]
    },
    {
      "cell_type": "code",
      "execution_count": 112,
      "metadata": {
        "colab": {
          "base_uri": "https://localhost:8080/"
        },
        "id": "xRTr0CUMm2gZ",
        "outputId": "6a4f0af0-83e2-4f06-865e-d2a8ca8c8451"
      },
      "outputs": [
        {
          "data": {
            "text/plain": [
              "array(['1 ROOM', '3 ROOM', '4 ROOM', '5 ROOM', '2 ROOM', 'EXECUTIVE',\n",
              "       'MULTI GENERATION'], dtype=object)"
            ]
          },
          "execution_count": 112,
          "metadata": {},
          "output_type": "execute_result"
        }
      ],
      "source": [
        "# Clean flat type\n",
        "prices['flat_type'] = prices['flat_type'].str.replace('MULTI-GENERATION', 'MULTI GENERATION')\n",
        "prices['flat_type'].unique()"
      ]
    },
    {
      "cell_type": "code",
      "execution_count": 113,
      "metadata": {
        "colab": {
          "base_uri": "https://localhost:8080/"
        },
        "id": "6bmBpknSoL7S",
        "outputId": "593741ea-b9a8-4b04-ee49-f6838983625d"
      },
      "outputs": [
        {
          "data": {
            "text/plain": [
              "Model A                 231676\n",
              "Improved                221589\n",
              "New Generation          180840\n",
              "Simplified               55180\n",
              "Standard                 40817\n",
              "Premium Apartment        36049\n",
              "Apartment                32732\n",
              "Maisonette               29210\n",
              "Model A2                  9325\n",
              "DBSS                      1476\n",
              "Adjoined flat             1119\n",
              "Terrace                    651\n",
              "Multi Generation           518\n",
              "Type S1S2                  210\n",
              "Executive Maisonette       200\n",
              "2-room                      39\n",
              "Name: flat_model, dtype: int64"
            ]
          },
          "execution_count": 113,
          "metadata": {},
          "output_type": "execute_result"
        }
      ],
      "source": [
        "# Rename flat model duplicates\n",
        "replace_values = {'NEW GENERATION':'New Generation', 'SIMPLIFIED':'Simplified', 'STANDARD':'Standard', 'MODEL A-MAISONETTE':'Maisonette', 'MULTI GENERATION':'Multi Generation', 'IMPROVED-MAISONETTE':'Executive Maisonette', 'Improved-Maisonette':'Executive Maisonette', 'Premium Maisonette':'Executive Maisonette', '2-ROOM':'2-room', 'MODEL A':'Model A', 'MAISONETTE':'Maisonette', 'Model A-Maisonette':'Maisonette', 'IMPROVED':'Improved', 'TERRACE':'Terrace', 'PREMIUM APARTMENT':'Premium Apartment', 'Premium Apartment Loft':'Premium Apartment', 'APARTMENT':'Apartment', 'Type S1':'Type S1S2', 'Type S2':'Type S1S2'}\n",
        "\n",
        "prices = prices.replace({'flat_model': replace_values})\n",
        "\n",
        "prices['flat_model'].value_counts()"
      ]
    },
    {
      "cell_type": "markdown",
      "metadata": {
        "id": "BqXStj5foS9o"
      },
      "source": [
        "**Types of Flat Models:**\n",
        "\n",
        "[**Standard:**](https://www.teoalida.com/singapore/hdbfloorplans/) (1/2/3/4/5-room). 1960s HDB. Had WC and shower in same room. 5-room Standard were introduced in 1974. <br>\n",
        "[**Improved:**](https://www.teoalida.com/singapore/hdbfloorplans/) (1/2/3/4/5-room). Introduced in 1966, the 3/4-room having separate WC and shower, they also featured void decks. 5-room Improved were introduced in 1974. <br>\n",
        "[**New Generation:**](https://www.teoalida.com/singapore/hdbfloorplans/) Started first in 1975, New Generation flats can be 3-Room (67 / 82 sqm) or 4-Room (92 sqm), featuring en-suite toilet for master bedroom, with pedestal type Water Closet, plus store room. <br>\n",
        "[**Model A:**](https://www.teoalida.com/singapore/hdbfloorplans/) Introduced in 1981: 3-Room (75 sqm), 4-Room (105 sqm), 5-Room (135 sqm), 5-Room Maisonette (139 sqm) <br>\n",
        "[**Model A2:**](https://www.teoalida.com/singapore/hdbfloorplans/) Smaller units of Model A. e.g., 4-Room Model A2 (90 sqm) <br>\n",
        "[**Simplified:**](https://www.teoalida.com/singapore/hdbfloorplans/) Introduced in 1984: 3-Room (64 sqm), 4-Room (84 sqm) <br>\n",
        "[**Multi Generation:**](https://blog.carousell.com/property/hdb-flat-types-singapore/) 3Gen flats designed to meet the needs of multi-generation families. <br>\n",
        "[**Maisonette:**](https://sg.finance.yahoo.com/news/different-types-hdb-houses-call-020000642.html#:~:text=Model%20A%20Maisonettes%20are%20HDB,ft%20to%201%2C551%20sq%20ft.) AKA Model A Maisonette — 2 storeys HDB flat <br>\n",
        "[**Premium Apartment:**](https://www.teoalida.com/singapore/hdbfloorplans/) Introduced somewhere during 1990s, featuring better quality finishes, you get them in ready-to-move condition, with flooring, kitchen cabinets, built-in wardrobes <br>\n",
        "[**Executive Maisonette:**](https://sg.finance.yahoo.com/news/different-types-hdb-houses-call-020000642.html#:~:text=Model%20A%20Maisonettes%20are%20HDB,ft%20to%201%2C551%20sq%20ft.) More premium version of Model A Maisonettes. These units are no longer being built after being replaced by the Executive Condominium (EC) scheme in 1995 <br>\n",
        "[**Executive Apartment:**](https://www.teoalida.com/singapore/hdbfloorplans/) Executive Apartment / Maisonette (146-150 sqm) were introduced in 1983 and replaced 5-Room Model A flats, in addition of the 3-bedroom and separate living/dining found in 5A flats, EA and EM feature an utility/maid room. 80% of Executive units were Maisonettes and 20% were Apartments. <br>\n",
        "[**DBBS:**](https://www.propertyguru.com.sg/property-guides/dbss-singapore-17893) public apartments built under the HDB's short-lived Design, Build and Sell Scheme (DBSS) from 2005 to 2012. They are a unique (and premium) breed of HDB flats in Singapore, which are built by private developers. High Prices. Quite similiar to Executive Condominium except DBBS is like a premium HDB without facilities of private condos <br>\n",
        "[**Adjoined Flat:**](https://blog.carousell.com/property/hdb-flat-types-singapore/) Large HDB flats which are combined from 2 HDB flats <br>\n",
        "[**Terrace:**](https://blog.carousell.com/property/hdb-flat-types-singapore/) HDB terrace flats built before HDB, without realizing Singapore's land constraint. Discontinued <br>\n",
        "[**Type S1S2:**](http://getforme.com/previous2004/previous290504_hdblaunchesthepinnancleatduxton.htm)  apartments at The Pinnacle@Duxton are classified as \"S\" or Special apartments in view of its historical significance and award-winning design. For application of HDB policies, S1 and S2 apartments will be treated as 4-room and 5-room flats respectively <br>\n",
        "[**2-room:**](https://blog.carousell.com/property/hdb-flat-types-singapore/) Most likely refers to 2-room flexi where there is 1 bedroom and 1 common area <br>"
      ]
    },
    {
      "cell_type": "code",
      "execution_count": 114,
      "metadata": {
        "colab": {
          "base_uri": "https://localhost:8080/"
        },
        "id": "qKituaU7oO9M",
        "outputId": "2443638b-375f-43c6-c05d-d1e779fd3324"
      },
      "outputs": [
        {
          "data": {
            "text/plain": [
              "array(['10 TO 12', '04 TO 06', '07 TO 09', '01 TO 03', '13 TO 15',\n",
              "       '19 TO 21', '16 TO 18', '25 TO 27', '22 TO 24', '28 TO 30',\n",
              "       '31 TO 33', '40 TO 42', '37 TO 39', '34 TO 36', '06 TO 10',\n",
              "       '01 TO 05', '11 TO 15', '16 TO 20', '21 TO 25', '26 TO 30',\n",
              "       '36 TO 40', '31 TO 35', '49 TO 51', '46 TO 48', '43 TO 45'],\n",
              "      dtype=object)"
            ]
          },
          "execution_count": 114,
          "metadata": {},
          "output_type": "execute_result"
        }
      ],
      "source": [
        "prices['storey_range'].unique()"
      ]
    },
    {
      "cell_type": "code",
      "execution_count": 115,
      "metadata": {
        "colab": {
          "base_uri": "https://localhost:8080/"
        },
        "id": "GY3AJuzMofnf",
        "outputId": "d6642236-569f-4fcc-f188-805d98b02e52"
      },
      "outputs": [
        {
          "data": {
            "text/plain": [
              "array(['ANG MO KIO', 'BEDOK', 'BISHAN', 'BUKIT BATOK', 'BUKIT MERAH',\n",
              "       'BUKIT TIMAH', 'CENTRAL AREA', 'CHOA CHU KANG', 'CLEMENTI',\n",
              "       'GEYLANG', 'HOUGANG', 'JURONG EAST', 'JURONG WEST',\n",
              "       'KALLANG/WHAMPOA', 'MARINE PARADE', 'QUEENSTOWN', 'SENGKANG',\n",
              "       'SERANGOON', 'TAMPINES', 'TOA PAYOH', 'WOODLANDS', 'YISHUN',\n",
              "       'LIM CHU KANG', 'SEMBAWANG', 'BUKIT PANJANG', 'PASIR RIS',\n",
              "       'PUNGGOL'], dtype=object)"
            ]
          },
          "execution_count": 115,
          "metadata": {},
          "output_type": "execute_result"
        }
      ],
      "source": [
        "prices['town'].unique()"
      ]
    },
    {
      "cell_type": "code",
      "execution_count": 116,
      "metadata": {
        "colab": {
          "base_uri": "https://localhost:8080/",
          "height": 608
        },
        "id": "P0jcBTQcogsX",
        "outputId": "d4ac662e-4c4b-4921-f57d-f8571c5cd3a4"
      },
      "outputs": [
        {
          "data": {
            "image/png": "[encoded data removed]",
            "text/plain": [
              "<Figure size 576x396 with 1 Axes>"
            ]
          },
          "metadata": {},
          "output_type": "display_data"
        },
        {
          "data": {
            "text/plain": [
              "Terrace                 60\n",
              "Maisonette              15\n",
              "Executive Maisonette     7\n",
              "Apartment                4\n",
              "Adjoined flat            1\n",
              "Name: flat_model, dtype: int64"
            ]
          },
          "metadata": {},
          "output_type": "display_data"
        }
      ],
      "source": [
        "plt.hist(prices['floor_area_sqm'], bins=50, edgecolor='black')\n",
        "plt.title('Distribution of HDB Floor Area')\n",
        "plt.show()\n",
        "display(prices[prices['floor_area_sqm'] > 200]['flat_model'].value_counts())"
      ]
    },
    {
      "cell_type": "markdown",
      "metadata": {
        "id": "gE5mJ0Kwoi10"
      },
      "source": [
        "The floor area outliers mostly belong to special HDBs that are larger than the standard ones. So they might not be outliers from a multivariate perspective."
      ]
    },
    {
      "cell_type": "code",
      "execution_count": 117,
      "metadata": {
        "colab": {
          "base_uri": "https://localhost:8080/",
          "height": 504
        },
        "id": "gWYn39HMoiXU",
        "outputId": "0158e194-2992-4483-e0cd-649043f92206"
      },
      "outputs": [
        {
          "data": {
            "image/png": "[encoded data removed]",
            "text/plain": [
              "<Figure size 576x396 with 1 Axes>"
            ]
          },
          "metadata": {},
          "output_type": "display_data"
        }
      ],
      "source": [
        "bins = prices['lease_commence_date'].max() - prices['lease_commence_date'].min()\n",
        "plt.hist(prices['lease_commence_date'], bins=bins, edgecolor='black')\n",
        "plt.title('Distribution of Lease Commence Year')\n",
        "plt.show()"
      ]
    },
    {
      "cell_type": "markdown",
      "metadata": {
        "id": "AQhLyg9Coqao"
      },
      "source": [
        "## Inflation Adjustment using CPI (Consumer Price Index)"
      ]
    },
    {
      "cell_type": "code",
      "execution_count": 118,
      "metadata": {
        "id": "dQkcAWvKoktE"
      },
      "outputs": [],
      "source": [
        "# Compute Resale Price Adjusted for Inflation Using Consumer Price Index for Housing & Utilities\n",
        "# https://www.singstat.gov.sg/find-data/search-by-theme/economy/prices-and-price-indices/latest-data\n",
        "# cpi = pd.read_csv()\n",
        "cpi = pd.read_csv('./input/resale-flat-prices/CPI.csv')\n",
        "cpi['month'] = pd.to_datetime(cpi['month'], format='%Y %b') # to datetime\n",
        "prices = prices.merge(cpi, on='month', how='left')\n",
        "# https://people.duke.edu/~rnau/411infla.htm\n",
        "prices['real_price'] = (prices['resale_price'] / prices['cpi']) * 100"
      ]
    },
    {
      "cell_type": "code",
      "execution_count": 119,
      "metadata": {
        "id": "Lf7jra-9ovlP"
      },
      "outputs": [
        {
          "name": "stderr",
          "output_type": "stream",
          "text": [
            "c:\\Users\\Akash\\AppData\\Local\\Programs\\Python\\Python39\\lib\\site-packages\\matplotlib\\patches.py:2652: RuntimeWarning: divide by zero encountered in double_scalars\n",
            "  f1 = self.rad / d1\n",
            "c:\\Users\\Akash\\AppData\\Local\\Programs\\Python\\Python39\\lib\\site-packages\\matplotlib\\patches.py:2656: RuntimeWarning: invalid value encountered in double_scalars\n",
            "  vertices.extend([(cx + dx1 * f1, cy + dy1 * f1),\n"
          ]
        },
        {
          "data": {
            "image/png": "[encoded data removed]",
            "text/plain": [
              "<Figure size 1008x324 with 2 Axes>"
            ]
          },
          "metadata": {},
          "output_type": "display_data"
        }
      ],
      "source": [
        "# Plot Median Resale Prices Over the Years\n",
        "\n",
        "# Unadjusted\n",
        "fig = plt.figure(figsize=(14,4.5))\n",
        "fig.suptitle('Median HDB Resale Prices Over the Years', fontsize=18)\n",
        "ax1 = fig.add_subplot(121)\n",
        "prices.groupby('month')[['resale_price']].median().plot(ax=ax1, color='#00cef6', legend=None)\n",
        "ax1.set_xlabel('Date'), ax1.set_ylabel('Resale Price in SGD ($)'), ax1.set_ylim(0, 500000), ax1.set_title('Unadjusted for Inflation', size=15)\n",
        "\n",
        "# Adjusted\n",
        "# https://jakevdp.github.io/PythonDataScienceHandbook/04.09-text-and-annotation.html\n",
        "ax2 = fig.add_subplot(122)\n",
        "prices.groupby('month')[['real_price']].median().plot(ax=ax2, color='#3c78d8', legend=None)\n",
        "ax2.set_xlabel('Date'), ax2.set_ylabel('Resale Price in SGD ($)'), ax2.set_ylim(0, 500000), ax2.set_title('Adjusted for Inflation to 2019 SGD',size=15)\n",
        "ax2.annotate('1997 Asian Financial Crisis\\nMedian: $403,766', xy=('1997-05-01',380000), xycoords='data',\n",
        "    bbox=dict(boxstyle=\"round4,pad=.5\", fc=\"none\", ec=\"#28324a\"), xytext=(50,-140), textcoords='offset points', ha='center',\n",
        "    arrowprops=dict(arrowstyle=\"->\", connectionstyle=\"angle,angleA=0,angleB=90,rad=20\"))\n",
        "ax2.annotate('2013 Cooling Measures\\nMedian: $401,887', xy=('2013-07-01',380000), xycoords='data',\n",
        "    bbox=dict(boxstyle=\"round4,pad=.5\", fc=\"none\", ec=\"#28324a\"), xytext=(0,-90), textcoords='offset points', ha='center',\n",
        "    arrowprops=dict(arrowstyle=\"->\", connectionstyle=\"angle,angleA=0,angleB=90,rad=20\"))\n",
        "plt.tight_layout(rect=[0, 0, 0.9, 0.9])\n",
        "# for ax, color in zip([ax1, ax2], ['#3c78d8', '#3c78d8']):\n",
        "#     plt.setp(tuple(ax.spines.values()), color=color)\n",
        "#     plt.setp([ax.get_xticklines(), ax.get_yticklines()], color=color)\n",
        "plt.show()\n",
        "#prices.set_index('month').loc['1997']['real_price'].median()"
      ]
    },
    {
      "cell_type": "markdown",
      "metadata": {
        "id": "0xVgPamxpsJf"
      },
      "source": [
        "Context: Following the collapse of the thai Baht in July 1997, housing prices in Singapore continue to fall and only started gradually increasing again around 2004. In 2013, it experienced a decline due to 'Propery Market Cooling Measures', such as the Additional Buyer's Stamp Duty (ABSD), Loan-to-Value (LTV) Ratio, and Total Debt Servicing Ratio (TDSR). Refer [here](https://www.srx.com.sg/cooling-measures) for more information."
      ]
    },
    {
      "cell_type": "markdown",
      "metadata": {
        "id": "clk5cIk3pw-7"
      },
      "source": [
        "## Convert remaining_lease to number of years"
      ]
    },
    {
      "cell_type": "code",
      "execution_count": 120,
      "metadata": {
        "id": "i5Heos3SptGR"
      },
      "outputs": [],
      "source": [
        "# Convert remaining_lease to number of years\n",
        "def getYears(text):\n",
        "    if isinstance(text, str):\n",
        "        yearmonth = [int(s) for s in text.split() if s.isdigit()]\n",
        "        if len(yearmonth) > 1: # if there's year and month\n",
        "            years = yearmonth[0] + (yearmonth[1]/12)\n",
        "        else: # if only year\n",
        "            years = yearmonth[0]\n",
        "        return years\n",
        "    else: # if int\n",
        "        return text\n",
        "\n",
        "prices['remaining_lease'] = prices['remaining_lease'].apply(lambda x: getYears(x))"
      ]
    },
    {
      "cell_type": "code",
      "execution_count": 121,
      "metadata": {
        "colab": {
          "base_uri": "https://localhost:8080/"
        },
        "id": "7UPS38qMp1S6",
        "outputId": "879fd3e8-4e98-4d6c-a744-ad415451101a"
      },
      "outputs": [
        {
          "name": "stdout",
          "output_type": "stream",
          "text": [
            "<class 'pandas.core.frame.DataFrame'>\n",
            "Int64Index: 841631 entries, 0 to 841630\n",
            "Data columns (total 13 columns):\n",
            " #   Column               Non-Null Count   Dtype         \n",
            "---  ------               --------------   -----         \n",
            " 0   month                841631 non-null  datetime64[ns]\n",
            " 1   town                 841631 non-null  object        \n",
            " 2   flat_type            841631 non-null  object        \n",
            " 3   block                841631 non-null  object        \n",
            " 4   street_name          841631 non-null  object        \n",
            " 5   storey_range         841631 non-null  object        \n",
            " 6   floor_area_sqm       841631 non-null  float64       \n",
            " 7   flat_model           841631 non-null  object        \n",
            " 8   lease_commence_date  841631 non-null  int64         \n",
            " 9   resale_price         841631 non-null  float64       \n",
            " 10  remaining_lease      80374 non-null   float64       \n",
            " 11  cpi                  841631 non-null  float64       \n",
            " 12  real_price           841631 non-null  float64       \n",
            "dtypes: datetime64[ns](1), float64(5), int64(1), object(6)\n",
            "memory usage: 89.9+ MB\n"
          ]
        }
      ],
      "source": [
        "prices.info()"
      ]
    },
    {
      "cell_type": "code",
      "execution_count": 122,
      "metadata": {
        "colab": {
          "base_uri": "https://localhost:8080/",
          "height": 504
        },
        "id": "lCqWsXzBp3JZ",
        "outputId": "0ffadd81-9f78-427c-dd1d-f2463c600617"
      },
      "outputs": [
        {
          "data": {
            "image/png": "[encoded data removed]",
            "text/plain": [
              "<Figure size 576x396 with 1 Axes>"
            ]
          },
          "metadata": {},
          "output_type": "display_data"
        }
      ],
      "source": [
        "bins = prices['remaining_lease'].max() - prices['remaining_lease'].min()\n",
        "plt.hist(prices['remaining_lease'], bins=int(bins), edgecolor='black')\n",
        "plt.title('Distribution of Remaining Lease for 2016-2020 Data')\n",
        "plt.show()"
      ]
    },
    {
      "cell_type": "code",
      "execution_count": 123,
      "metadata": {
        "colab": {
          "base_uri": "https://localhost:8080/",
          "height": 143
        },
        "id": "ZCIBaBAup6fv",
        "outputId": "151148be-7631-4f6d-af9a-fabf19532f81"
      },
      "outputs": [
        {
          "data": {
            "text/html": [
              "<div>\n",
              "<style scoped>\n",
              "    .dataframe tbody tr th:only-of-type {\n",
              "        vertical-align: middle;\n",
              "    }\n",
              "\n",
              "    .dataframe tbody tr th {\n",
              "        vertical-align: top;\n",
              "    }\n",
              "\n",
              "    .dataframe thead th {\n",
              "        text-align: right;\n",
              "    }\n",
              "</style>\n",
              "<table border=\"1\" class=\"dataframe\">\n",
              "  <thead>\n",
              "    <tr style=\"text-align: right;\">\n",
              "      <th></th>\n",
              "      <th>month</th>\n",
              "      <th>town</th>\n",
              "      <th>flat_type</th>\n",
              "      <th>block</th>\n",
              "      <th>street_name</th>\n",
              "      <th>storey_range</th>\n",
              "      <th>floor_area_sqm</th>\n",
              "      <th>flat_model</th>\n",
              "      <th>lease_commence_date</th>\n",
              "      <th>resale_price</th>\n",
              "      <th>remaining_lease</th>\n",
              "      <th>cpi</th>\n",
              "      <th>real_price</th>\n",
              "    </tr>\n",
              "  </thead>\n",
              "  <tbody>\n",
              "    <tr>\n",
              "      <th>0</th>\n",
              "      <td>1990-01-01</td>\n",
              "      <td>ANG MO KIO</td>\n",
              "      <td>1 ROOM</td>\n",
              "      <td>309</td>\n",
              "      <td>ANG MO KIO AVE 1</td>\n",
              "      <td>10 TO 12</td>\n",
              "      <td>31.0</td>\n",
              "      <td>Improved</td>\n",
              "      <td>1977</td>\n",
              "      <td>9000.0</td>\n",
              "      <td>NaN</td>\n",
              "      <td>60.894</td>\n",
              "      <td>14779.781259</td>\n",
              "    </tr>\n",
              "    <tr>\n",
              "      <th>1</th>\n",
              "      <td>1990-01-01</td>\n",
              "      <td>ANG MO KIO</td>\n",
              "      <td>1 ROOM</td>\n",
              "      <td>309</td>\n",
              "      <td>ANG MO KIO AVE 1</td>\n",
              "      <td>04 TO 06</td>\n",
              "      <td>31.0</td>\n",
              "      <td>Improved</td>\n",
              "      <td>1977</td>\n",
              "      <td>6000.0</td>\n",
              "      <td>NaN</td>\n",
              "      <td>60.894</td>\n",
              "      <td>9853.187506</td>\n",
              "    </tr>\n",
              "    <tr>\n",
              "      <th>2</th>\n",
              "      <td>1990-01-01</td>\n",
              "      <td>ANG MO KIO</td>\n",
              "      <td>1 ROOM</td>\n",
              "      <td>309</td>\n",
              "      <td>ANG MO KIO AVE 1</td>\n",
              "      <td>10 TO 12</td>\n",
              "      <td>31.0</td>\n",
              "      <td>Improved</td>\n",
              "      <td>1977</td>\n",
              "      <td>8000.0</td>\n",
              "      <td>NaN</td>\n",
              "      <td>60.894</td>\n",
              "      <td>13137.583342</td>\n",
              "    </tr>\n",
              "  </tbody>\n",
              "</table>\n",
              "</div>"
            ],
            "text/plain": [
              "       month        town flat_type block       street_name storey_range  \\\n",
              "0 1990-01-01  ANG MO KIO    1 ROOM   309  ANG MO KIO AVE 1     10 TO 12   \n",
              "1 1990-01-01  ANG MO KIO    1 ROOM   309  ANG MO KIO AVE 1     04 TO 06   \n",
              "2 1990-01-01  ANG MO KIO    1 ROOM   309  ANG MO KIO AVE 1     10 TO 12   \n",
              "\n",
              "   floor_area_sqm flat_model  lease_commence_date  resale_price  \\\n",
              "0            31.0   Improved                 1977        9000.0   \n",
              "1            31.0   Improved                 1977        6000.0   \n",
              "2            31.0   Improved                 1977        8000.0   \n",
              "\n",
              "   remaining_lease     cpi    real_price  \n",
              "0              NaN  60.894  14779.781259  \n",
              "1              NaN  60.894   9853.187506  \n",
              "2              NaN  60.894  13137.583342  "
            ]
          },
          "execution_count": 123,
          "metadata": {},
          "output_type": "execute_result"
        }
      ],
      "source": [
        "prices.head(3)"
      ]
    },
    {
      "cell_type": "markdown",
      "metadata": {
        "id": "gW6J7cx2p-U9"
      },
      "source": [
        "# Exploratory Data Analysis"
      ]
    },
    {
      "cell_type": "markdown",
      "metadata": {
        "id": "OxZZwEY0qBdj"
      },
      "source": [
        "## By Flat Type\n",
        "Waffle chart for flat type - number of rooms"
      ]
    },
    {
      "cell_type": "code",
      "execution_count": 124,
      "metadata": {
        "colab": {
          "base_uri": "https://localhost:8080/",
          "height": 890
        },
        "id": "zsw2fnT1p8vR",
        "outputId": "5e51a78d-eaef-41a6-db31-f5451a8c3d7a"
      },
      "outputs": [
        {
          "name": "stderr",
          "output_type": "stream",
          "text": [
            "C:\\Users\\Akash\\AppData\\Local\\Temp\\ipykernel_18476\\977612409.py:5: FutureWarning: Value based partial slicing on non-monotonic DatetimeIndexes with non-existing keys is deprecated and will raise a KeyError in a future Version.\n",
            "  flattype1519 = prices.set_index('month')['2015':'2019']['flat_type'].value_counts() / len(prices.set_index('month')['2015':'2019']) * 100\n"
          ]
        },
        {
          "data": {
            "image/png": "[encoded data removed]",
            "text/plain": [
              "<Figure size 864x576 with 2 Axes>"
            ]
          },
          "metadata": {},
          "output_type": "display_data"
        }
      ],
      "source": [
        "import matplotlib.pyplot as plt\n",
        "\n",
        "# Calculate proportions\n",
        "flattype = prices['flat_type'].value_counts() / len(prices) * 100\n",
        "flattype1519 = prices.set_index('month')['2015':'2019']['flat_type'].value_counts() / len(prices.set_index('month')['2015':'2019']) * 100\n",
        "\n",
        "# Plotting\n",
        "plt.figure(figsize=(12, 8))\n",
        "\n",
        "# Plot for all years\n",
        "plt.subplot(2, 1, 1)\n",
        "flattype.plot(kind='bar', color=[\"#1f77b4\", \"#ff7f0e\", \"green\", 'purple', 'black', 'yellow', 'brown'], legend=False)\n",
        "plt.title('Proportion of HDB Flat Types (All Years)')\n",
        "plt.xlabel('')  # No x-axis label\n",
        "plt.ylabel('Proportion (%)')\n",
        "\n",
        "# Plot for 2015-2019\n",
        "plt.subplot(2, 1, 2)\n",
        "flattype1519.plot(kind='bar', color=[\"#1f77b4\", \"#ff7f0e\", \"green\", 'purple', 'black', 'yellow', 'brown'], legend=False)\n",
        "plt.title('Proportion of HDB Flat Types (2015-2019)')\n",
        "plt.xlabel('')  # No x-axis label\n",
        "plt.ylabel('Proportion (%)')\n",
        "\n",
        "plt.tight_layout()\n",
        "plt.show()\n"
      ]
    },
    {
      "cell_type": "markdown",
      "metadata": {
        "id": "IzCDjpHrwSkj"
      },
      "source": [
        "There are not many 1 Room, 2 Room and Multi Generation flats, so they will be removed for looking at flat types.\n",
        "\n"
      ]
    },
    {
      "cell_type": "code",
      "execution_count": 125,
      "metadata": {
        "colab": {
          "base_uri": "https://localhost:8080/",
          "height": 424
        },
        "id": "zBLgXqwTqELl",
        "outputId": "621cb490-6712-4629-a47a-0b1098f759e1"
      },
      "outputs": [
        {
          "data": {
            "text/html": [
              "<div>\n",
              "<style scoped>\n",
              "    .dataframe tbody tr th:only-of-type {\n",
              "        vertical-align: middle;\n",
              "    }\n",
              "\n",
              "    .dataframe tbody tr th {\n",
              "        vertical-align: top;\n",
              "    }\n",
              "\n",
              "    .dataframe thead th {\n",
              "        text-align: right;\n",
              "    }\n",
              "</style>\n",
              "<table border=\"1\" class=\"dataframe\">\n",
              "  <thead>\n",
              "    <tr style=\"text-align: right;\">\n",
              "      <th></th>\n",
              "      <th>month</th>\n",
              "      <th>flat_type</th>\n",
              "      <th>resale_price</th>\n",
              "      <th>flat_type_year</th>\n",
              "    </tr>\n",
              "  </thead>\n",
              "  <tbody>\n",
              "    <tr>\n",
              "      <th>0</th>\n",
              "      <td>2017-01-01</td>\n",
              "      <td>4 ROOM</td>\n",
              "      <td>335000.0</td>\n",
              "      <td>4 ROOM - 2017</td>\n",
              "    </tr>\n",
              "    <tr>\n",
              "      <th>1</th>\n",
              "      <td>2017-01-01</td>\n",
              "      <td>4 ROOM</td>\n",
              "      <td>305000.0</td>\n",
              "      <td>4 ROOM - 2017</td>\n",
              "    </tr>\n",
              "    <tr>\n",
              "      <th>2</th>\n",
              "      <td>2017-01-01</td>\n",
              "      <td>5 ROOM</td>\n",
              "      <td>860000.0</td>\n",
              "      <td>5 ROOM - 2017</td>\n",
              "    </tr>\n",
              "    <tr>\n",
              "      <th>3</th>\n",
              "      <td>2017-01-01</td>\n",
              "      <td>5 ROOM</td>\n",
              "      <td>800000.0</td>\n",
              "      <td>5 ROOM - 2017</td>\n",
              "    </tr>\n",
              "    <tr>\n",
              "      <th>4</th>\n",
              "      <td>2017-01-01</td>\n",
              "      <td>5 ROOM</td>\n",
              "      <td>790000.0</td>\n",
              "      <td>5 ROOM - 2017</td>\n",
              "    </tr>\n",
              "    <tr>\n",
              "      <th>...</th>\n",
              "      <td>...</td>\n",
              "      <td>...</td>\n",
              "      <td>...</td>\n",
              "      <td>...</td>\n",
              "    </tr>\n",
              "    <tr>\n",
              "      <th>63270</th>\n",
              "      <td>2019-12-01</td>\n",
              "      <td>4 ROOM</td>\n",
              "      <td>378888.0</td>\n",
              "      <td>4 ROOM - 2019</td>\n",
              "    </tr>\n",
              "    <tr>\n",
              "      <th>63271</th>\n",
              "      <td>2019-12-01</td>\n",
              "      <td>4 ROOM</td>\n",
              "      <td>490000.0</td>\n",
              "      <td>4 ROOM - 2019</td>\n",
              "    </tr>\n",
              "    <tr>\n",
              "      <th>63272</th>\n",
              "      <td>2019-12-01</td>\n",
              "      <td>4 ROOM</td>\n",
              "      <td>390000.0</td>\n",
              "      <td>4 ROOM - 2019</td>\n",
              "    </tr>\n",
              "    <tr>\n",
              "      <th>63273</th>\n",
              "      <td>2019-12-01</td>\n",
              "      <td>4 ROOM</td>\n",
              "      <td>410000.0</td>\n",
              "      <td>4 ROOM - 2019</td>\n",
              "    </tr>\n",
              "    <tr>\n",
              "      <th>63274</th>\n",
              "      <td>2019-12-01</td>\n",
              "      <td>4 ROOM</td>\n",
              "      <td>370000.0</td>\n",
              "      <td>4 ROOM - 2019</td>\n",
              "    </tr>\n",
              "  </tbody>\n",
              "</table>\n",
              "<p>63275 rows × 4 columns</p>\n",
              "</div>"
            ],
            "text/plain": [
              "           month flat_type  resale_price flat_type_year\n",
              "0     2017-01-01    4 ROOM      335000.0  4 ROOM - 2017\n",
              "1     2017-01-01    4 ROOM      305000.0  4 ROOM - 2017\n",
              "2     2017-01-01    5 ROOM      860000.0  5 ROOM - 2017\n",
              "3     2017-01-01    5 ROOM      800000.0  5 ROOM - 2017\n",
              "4     2017-01-01    5 ROOM      790000.0  5 ROOM - 2017\n",
              "...          ...       ...           ...            ...\n",
              "63270 2019-12-01    4 ROOM      378888.0  4 ROOM - 2019\n",
              "63271 2019-12-01    4 ROOM      490000.0  4 ROOM - 2019\n",
              "63272 2019-12-01    4 ROOM      390000.0  4 ROOM - 2019\n",
              "63273 2019-12-01    4 ROOM      410000.0  4 ROOM - 2019\n",
              "63274 2019-12-01    4 ROOM      370000.0  4 ROOM - 2019\n",
              "\n",
              "[63275 rows x 4 columns]"
            ]
          },
          "execution_count": 125,
          "metadata": {},
          "output_type": "execute_result"
        }
      ],
      "source": [
        "flattype = ['3 ROOM','4 ROOM','5 ROOM','EXECUTIVE']\n",
        "prices1519 = prices.set_index('month').sort_index().loc['2015-01':'2019-12']\n",
        "prices1519 = prices1519[prices1519['flat_type'].isin(flattype)][['flat_type','resale_price']].reset_index()\n",
        "prices1519['flat_type_year'] = prices1519['flat_type'] + ' - ' + prices1519['month'].apply(lambda x: str(x)[:4])\n",
        "prices1519"
      ]
    },
    {
      "cell_type": "markdown",
      "metadata": {
        "id": "0r31nCw-xQwH"
      },
      "source": [
        "## By Town"
      ]
    },
    {
      "cell_type": "markdown",
      "metadata": {
        "id": "vnb-KVd7xtbT"
      },
      "source": [
        "This code takes a dataset of housing prices and performs the following steps:\n",
        "\n",
        "Filtering: It picks out only the housing data from the years 2018 and 2019.\n",
        "\n",
        "Grouping: It groups this filtered data by the towns where the houses are located.\n",
        "\n",
        "Median Calculation: For each town, it finds the median (middle) value of the year when the lease for the housing started.\n",
        "\n",
        "Sorting: It arranges these towns based on the calculated median lease start date, from the earliest lease start date to the latest.\n",
        "\n",
        "In simpler terms, it's finding out which towns tend to have older or newer homes based on when their leases started, focusing only on data from the last couple of years."
      ]
    },
    {
      "cell_type": "markdown",
      "metadata": {
        "id": "964FecaPxwyS"
      },
      "source": [
        "## By Storeys"
      ]
    },
    {
      "cell_type": "code",
      "execution_count": 128,
      "metadata": {
        "colab": {
          "base_uri": "https://localhost:8080/"
        },
        "id": "mR5ZqwCBxUIW",
        "outputId": "399cb659-2d13-4aab-a169-7c90c22e65a1"
      },
      "outputs": [
        {
          "data": {
            "text/plain": [
              "Index(['month', 'town', 'flat_type', 'block', 'street_name', 'storey_range',\n",
              "       'floor_area_sqm', 'flat_model', 'lease_commence_date', 'resale_price',\n",
              "       'remaining_lease', 'cpi', 'real_price'],\n",
              "      dtype='object')"
            ]
          },
          "execution_count": 128,
          "metadata": {},
          "output_type": "execute_result"
        }
      ],
      "source": [
        "prices.columns"
      ]
    },
    {
      "cell_type": "code",
      "execution_count": 129,
      "metadata": {
        "colab": {
          "base_uri": "https://localhost:8080/",
          "height": 540
        },
        "id": "c8FLKevBx7-A",
        "outputId": "b2f6808d-232b-4de9-a0e1-88ad033e2cd9"
      },
      "outputs": [
        {
          "name": "stderr",
          "output_type": "stream",
          "text": [
            "C:\\Users\\Akash\\AppData\\Local\\Temp\\ipykernel_18476\\2850307963.py:9: UserWarning: FixedFormatter should only be used together with FixedLocator\n",
            "  ax1.set_yticklabels(ylabels)\n",
            "C:\\Users\\Akash\\AppData\\Local\\Temp\\ipykernel_18476\\2850307963.py:10: UserWarning: FixedFormatter should only be used together with FixedLocator\n",
            "  ax1.set_xticklabels(pd.Series(['']).append(storey.iloc[[0,5,10,15,20,24],0]))\n",
            "C:\\Users\\Akash\\AppData\\Local\\Temp\\ipykernel_18476\\2850307963.py:22: UserWarning: FixedFormatter should only be used together with FixedLocator\n",
            "  ax2.set_yticklabels(ylabels); ax2.set_ylabel('')\n"
          ]
        },
        {
          "data": {
            "image/png": "[encoded data removed]",
            "text/plain": [
              "<Figure size 864x288 with 2 Axes>"
            ]
          },
          "metadata": {},
          "output_type": "display_data"
        }
      ],
      "source": [
        "fig = plt.figure(figsize=(12,4))\n",
        "\n",
        "# Storey Prices\n",
        "ax1 = plt.subplot(121)\n",
        "storey = prices.groupby('storey_range')['resale_price'].median().reset_index().sort_values(by='storey_range')\n",
        "storey['storey_rank'] = storey['storey_range'].astype('category').cat.codes # label encode\n",
        "a=sns.scatterplot(x=storey['storey_rank'], y=storey['resale_price'], size=storey['storey_rank'].astype('int')*30, color='#00994d', edgecolors='w', alpha=0.5, legend=False, ax=ax1)\n",
        "ylabels = ['{:,.0f}'.format(x) + 'K' for x in a.get_yticks()/1000]\n",
        "ax1.set_yticklabels(ylabels)\n",
        "ax1.set_xticklabels(pd.Series(['']).append(storey.iloc[[0,5,10,15,20,24],0]))\n",
        "ax1.set_ylim([280000,1100000]), ax1.set_ylabel('Resale Price SGD ($)', size=15), ax1.set_xlabel('Storey', size=15)\n",
        "ax1.set_title('All Years', size=15)\n",
        "\n",
        "# Flat Type Prices\n",
        "ax2 = plt.subplot(122)\n",
        "flattype = prices.groupby('flat_type')['resale_price'].median().reset_index().sort_values(by='flat_type')\n",
        "flattype['flattype_rank'] = flattype['flat_type'].astype('category').cat.codes\n",
        "\n",
        "# Bubble chart\n",
        "b=sns.scatterplot(x=flattype['flattype_rank'], y=flattype['resale_price'], size=flattype['flattype_rank'].astype('int')*30, color='#00994d', edgecolors='w', alpha=0.5, legend=False, ax=ax2)\n",
        "ylabels = ['{:,.0f}'.format(x) + 'K' for x in ax2.get_yticks()/1000]\n",
        "ax2.set_yticklabels(ylabels); ax2.set_ylabel('')\n",
        "ax2.set_xticks(flattype['flattype_rank'])\n",
        "ax2.set_xticklabels(flattype['flat_type'])\n",
        "ax2.set_ylim([280000,1100000]), ax2.set_xlabel('Flat Type', size=15)\n",
        "ax2.set_title('Flat Type', size=15)\n",
        "\n",
        "plt.tight_layout()\n",
        "plt.show()\n"
      ]
    },
    {
      "cell_type": "markdown",
      "metadata": {
        "id": "zPuY5XEly-Si"
      },
      "source": [
        "We notice from the data viz a linear relationship, with higher storeys being sold at a higher price.\n",
        "\n",
        "\n"
      ]
    },
    {
      "cell_type": "markdown",
      "metadata": {
        "id": "qDjm1e2sy1IO"
      },
      "source": [
        "*Summary of Visualization:*\n",
        "\n",
        "1. **Figure Setup**:\n",
        "   - Created a figure with a size of 12x4 inches to accommodate multiple subplots.\n",
        "\n",
        "2. **Storey Prices Visualization**:\n",
        "   - **Data Processing**: Grouped the data by 'storey_range' and calculated the median resale price for each range.\n",
        "   - **Encoding**: Encoded 'storey_range' as categorical codes for plotting purposes.\n",
        "   - **Plotting**: Created a scatter plot (`sns.scatterplot()`) with 'storey_rank' on the x-axis and median resale prices on the y-axis.\n",
        "   - **Label Formatting**: Formatted y-axis labels to represent prices in thousands (SGD).\n",
        "   - **Tick Manipulation**: Set custom x-axis tick positions and labels to improve readability.\n",
        "   - **Axis Labels and Title**: Added labels and a title to describe the visualization.\n",
        "\n",
        "3. **Flat Type Prices Visualization**:\n",
        "   - **Data Processing**: Grouped the data by 'flat_type' and calculated the median resale price for each flat type.\n",
        "   - **Encoding**: Encoded 'flat_type' as categorical codes for plotting.\n",
        "   - **Plotting**: Created another scatter plot to visualize median resale prices by flat type.\n",
        "   - **Label Formatting**: Formatted y-axis labels to represent prices in thousands (SGD).\n",
        "   - **Tick Manipulation**: Set custom x-axis tick positions and labels based on flat types.\n",
        "   - **Axis Labels and Title**: Added labels and a title to describe the visualization.\n",
        "\n",
        "4. **Plot Arrangement**:\n",
        "   - Used `plt.subplot()` to arrange the two scatter plots side by side within the figure.\n",
        "\n",
        "5. **Display**:\n",
        "   - Used `plt.tight_layout()` to adjust subplot parameters for better appearance.\n",
        "   - Displayed the plot using `plt.show()`.\n"
      ]
    },
    {
      "cell_type": "markdown",
      "metadata": {
        "id": "dPq7vgEJzIm2"
      },
      "source": [
        "## By Floor Area"
      ]
    },
    {
      "cell_type": "code",
      "execution_count": 130,
      "metadata": {
        "colab": {
          "base_uri": "https://localhost:8080/",
          "height": 543
        },
        "id": "TyDEPS_ey1iS",
        "outputId": "6e7a29cb-b951-4a05-88d9-347045b29008"
      },
      "outputs": [
        {
          "ename": "KeyError",
          "evalue": "'year'",
          "output_type": "error",
          "traceback": [
            "\u001b[1;31m---------------------------------------------------------------------------\u001b[0m",
            "\u001b[1;31mKeyError\u001b[0m                                  Traceback (most recent call last)",
            "File \u001b[1;32mc:\\Users\\Akash\\AppData\\Local\\Programs\\Python\\Python39\\lib\\site-packages\\pandas\\core\\indexes\\base.py:3361\u001b[0m, in \u001b[0;36mIndex.get_loc\u001b[1;34m(self, key, method, tolerance)\u001b[0m\n\u001b[0;32m   3360\u001b[0m \u001b[38;5;28;01mtry\u001b[39;00m:\n\u001b[1;32m-> 3361\u001b[0m     \u001b[38;5;28;01mreturn\u001b[39;00m \u001b[38;5;28;43mself\u001b[39;49m\u001b[38;5;241;43m.\u001b[39;49m\u001b[43m_engine\u001b[49m\u001b[38;5;241;43m.\u001b[39;49m\u001b[43mget_loc\u001b[49m\u001b[43m(\u001b[49m\u001b[43mcasted_key\u001b[49m\u001b[43m)\u001b[49m\n\u001b[0;32m   3362\u001b[0m \u001b[38;5;28;01mexcept\u001b[39;00m \u001b[38;5;167;01mKeyError\u001b[39;00m \u001b[38;5;28;01mas\u001b[39;00m err:\n",
            "File \u001b[1;32mc:\\Users\\Akash\\AppData\\Local\\Programs\\Python\\Python39\\lib\\site-packages\\pandas\\_libs\\index.pyx:76\u001b[0m, in \u001b[0;36mpandas._libs.index.IndexEngine.get_loc\u001b[1;34m()\u001b[0m\n",
            "File \u001b[1;32mc:\\Users\\Akash\\AppData\\Local\\Programs\\Python\\Python39\\lib\\site-packages\\pandas\\_libs\\index.pyx:108\u001b[0m, in \u001b[0;36mpandas._libs.index.IndexEngine.get_loc\u001b[1;34m()\u001b[0m\n",
            "File \u001b[1;32mpandas\\_libs\\hashtable_class_helper.pxi:5198\u001b[0m, in \u001b[0;36mpandas._libs.hashtable.PyObjectHashTable.get_item\u001b[1;34m()\u001b[0m\n",
            "File \u001b[1;32mpandas\\_libs\\hashtable_class_helper.pxi:5206\u001b[0m, in \u001b[0;36mpandas._libs.hashtable.PyObjectHashTable.get_item\u001b[1;34m()\u001b[0m\n",
            "\u001b[1;31mKeyError\u001b[0m: 'year'",
            "\nThe above exception was the direct cause of the following exception:\n",
            "\u001b[1;31mKeyError\u001b[0m                                  Traceback (most recent call last)",
            "Input \u001b[1;32mIn [130]\u001b[0m, in \u001b[0;36m<cell line: 2>\u001b[1;34m()\u001b[0m\n\u001b[0;32m      1\u001b[0m \u001b[38;5;66;03m# Floor Area Prices\u001b[39;00m\n\u001b[1;32m----> 2\u001b[0m area \u001b[38;5;241m=\u001b[39m prices[\u001b[43mprices\u001b[49m\u001b[43m[\u001b[49m\u001b[38;5;124;43m'\u001b[39;49m\u001b[38;5;124;43myear\u001b[39;49m\u001b[38;5;124;43m'\u001b[39;49m\u001b[43m]\u001b[49m\u001b[38;5;241m.\u001b[39misin([\u001b[38;5;241m2015\u001b[39m,\u001b[38;5;241m2016\u001b[39m,\u001b[38;5;241m2017\u001b[39m,\u001b[38;5;241m2018\u001b[39m,\u001b[38;5;241m2019\u001b[39m])]\n\u001b[0;32m      3\u001b[0m p\u001b[38;5;241m=\u001b[39msns\u001b[38;5;241m.\u001b[39mregplot(x\u001b[38;5;241m=\u001b[39m\u001b[38;5;124m'\u001b[39m\u001b[38;5;124mfloor_area_sqm\u001b[39m\u001b[38;5;124m'\u001b[39m, y\u001b[38;5;241m=\u001b[39m\u001b[38;5;124m'\u001b[39m\u001b[38;5;124mresale_price\u001b[39m\u001b[38;5;124m'\u001b[39m, data\u001b[38;5;241m=\u001b[39marea, scatter_kws\u001b[38;5;241m=\u001b[39m{\u001b[38;5;124m\"\u001b[39m\u001b[38;5;124ms\u001b[39m\u001b[38;5;124m\"\u001b[39m: \u001b[38;5;241m1\u001b[39m, \u001b[38;5;124m'\u001b[39m\u001b[38;5;124malpha\u001b[39m\u001b[38;5;124m'\u001b[39m:\u001b[38;5;241m0.5\u001b[39m})\n\u001b[0;32m      4\u001b[0m ylabels \u001b[38;5;241m=\u001b[39m [\u001b[38;5;124m'\u001b[39m\u001b[38;5;132;01m{:,.0f}\u001b[39;00m\u001b[38;5;124m'\u001b[39m\u001b[38;5;241m.\u001b[39mformat(x) \u001b[38;5;241m+\u001b[39m \u001b[38;5;124m'\u001b[39m\u001b[38;5;124mK\u001b[39m\u001b[38;5;124m'\u001b[39m \u001b[38;5;28;01mfor\u001b[39;00m x \u001b[38;5;129;01min\u001b[39;00m p\u001b[38;5;241m.\u001b[39mget_yticks()\u001b[38;5;241m/\u001b[39m\u001b[38;5;241m1000\u001b[39m]\n",
            "File \u001b[1;32mc:\\Users\\Akash\\AppData\\Local\\Programs\\Python\\Python39\\lib\\site-packages\\pandas\\core\\frame.py:3458\u001b[0m, in \u001b[0;36mDataFrame.__getitem__\u001b[1;34m(self, key)\u001b[0m\n\u001b[0;32m   3456\u001b[0m \u001b[38;5;28;01mif\u001b[39;00m \u001b[38;5;28mself\u001b[39m\u001b[38;5;241m.\u001b[39mcolumns\u001b[38;5;241m.\u001b[39mnlevels \u001b[38;5;241m>\u001b[39m \u001b[38;5;241m1\u001b[39m:\n\u001b[0;32m   3457\u001b[0m     \u001b[38;5;28;01mreturn\u001b[39;00m \u001b[38;5;28mself\u001b[39m\u001b[38;5;241m.\u001b[39m_getitem_multilevel(key)\n\u001b[1;32m-> 3458\u001b[0m indexer \u001b[38;5;241m=\u001b[39m \u001b[38;5;28;43mself\u001b[39;49m\u001b[38;5;241;43m.\u001b[39;49m\u001b[43mcolumns\u001b[49m\u001b[38;5;241;43m.\u001b[39;49m\u001b[43mget_loc\u001b[49m\u001b[43m(\u001b[49m\u001b[43mkey\u001b[49m\u001b[43m)\u001b[49m\n\u001b[0;32m   3459\u001b[0m \u001b[38;5;28;01mif\u001b[39;00m is_integer(indexer):\n\u001b[0;32m   3460\u001b[0m     indexer \u001b[38;5;241m=\u001b[39m [indexer]\n",
            "File \u001b[1;32mc:\\Users\\Akash\\AppData\\Local\\Programs\\Python\\Python39\\lib\\site-packages\\pandas\\core\\indexes\\base.py:3363\u001b[0m, in \u001b[0;36mIndex.get_loc\u001b[1;34m(self, key, method, tolerance)\u001b[0m\n\u001b[0;32m   3361\u001b[0m         \u001b[38;5;28;01mreturn\u001b[39;00m \u001b[38;5;28mself\u001b[39m\u001b[38;5;241m.\u001b[39m_engine\u001b[38;5;241m.\u001b[39mget_loc(casted_key)\n\u001b[0;32m   3362\u001b[0m     \u001b[38;5;28;01mexcept\u001b[39;00m \u001b[38;5;167;01mKeyError\u001b[39;00m \u001b[38;5;28;01mas\u001b[39;00m err:\n\u001b[1;32m-> 3363\u001b[0m         \u001b[38;5;28;01mraise\u001b[39;00m \u001b[38;5;167;01mKeyError\u001b[39;00m(key) \u001b[38;5;28;01mfrom\u001b[39;00m \u001b[38;5;21;01merr\u001b[39;00m\n\u001b[0;32m   3365\u001b[0m \u001b[38;5;28;01mif\u001b[39;00m is_scalar(key) \u001b[38;5;129;01mand\u001b[39;00m isna(key) \u001b[38;5;129;01mand\u001b[39;00m \u001b[38;5;129;01mnot\u001b[39;00m \u001b[38;5;28mself\u001b[39m\u001b[38;5;241m.\u001b[39mhasnans:\n\u001b[0;32m   3366\u001b[0m     \u001b[38;5;28;01mraise\u001b[39;00m \u001b[38;5;167;01mKeyError\u001b[39;00m(key)\n",
            "\u001b[1;31mKeyError\u001b[0m: 'year'"
          ]
        }
      ],
      "source": [
        "# Floor Area Prices\n",
        "area = prices[prices['year'].isin([2015,2016,2017,2018,2019])]\n",
        "p=sns.regplot(x='floor_area_sqm', y='resale_price', data=area, scatter_kws={\"s\": 1, 'alpha':0.5})\n",
        "ylabels = ['{:,.0f}'.format(x) + 'K' for x in p.get_yticks()/1000]\n",
        "p.set_yticklabels(ylabels)\n",
        "p.set_ylabel('Resale Price SGD ($)', size=15)\n",
        "p.set_xlabel('Floor Area (Square Meters)', size=15)\n",
        "plt.show()"
      ]
    },
    {
      "cell_type": "code",
      "execution_count": 131,
      "metadata": {
        "colab": {
          "base_uri": "https://localhost:8080/",
          "height": 293
        },
        "id": "t0qjjxPrzMge",
        "outputId": "eaefed22-3cd3-45a5-847d-6becb579b2f9"
      },
      "outputs": [
        {
          "ename": "NameError",
          "evalue": "name 'area' is not defined",
          "output_type": "error",
          "traceback": [
            "\u001b[1;31m---------------------------------------------------------------------------\u001b[0m",
            "\u001b[1;31mNameError\u001b[0m                                 Traceback (most recent call last)",
            "Input \u001b[1;32mIn [131]\u001b[0m, in \u001b[0;36m<cell line: 1>\u001b[1;34m()\u001b[0m\n\u001b[1;32m----> 1\u001b[0m display(\u001b[43marea\u001b[49m[area[\u001b[38;5;124m'\u001b[39m\u001b[38;5;124mfloor_area_sqm\u001b[39m\u001b[38;5;124m'\u001b[39m] \u001b[38;5;241m>\u001b[39m \u001b[38;5;241m200\u001b[39m])\n",
            "\u001b[1;31mNameError\u001b[0m: name 'area' is not defined"
          ]
        }
      ],
      "source": [
        "display(area[area['floor_area_sqm'] > 200])"
      ]
    },
    {
      "cell_type": "markdown",
      "metadata": {
        "id": "OtdB-kozzQjh"
      },
      "source": [
        "Those cases on top right of the chart consists of flats that are either Terrace or Executive Maisonette, which is not surprising."
      ]
    },
    {
      "cell_type": "markdown",
      "metadata": {
        "id": "gbixWuhnzYb6"
      },
      "source": [
        "## By Block Number\n",
        "3 digit system was introduced in the 1970s, with the 1st digit representing a neighbourhood in a town. So for e.g., AMK neighbourhood 1 starts with 101, and AMK neighbourhood 2 starts with 201. So first digit was separated from last 2 digits and plotted separately"
      ]
    },
    {
      "cell_type": "code",
      "execution_count": 132,
      "metadata": {
        "colab": {
          "base_uri": "https://localhost:8080/",
          "height": 462
        },
        "id": "BD-pdUyIzPQq",
        "outputId": "ecb5cc20-d5ff-46d5-a391-b0fe3e6cfd6c"
      },
      "outputs": [
        {
          "name": "stderr",
          "output_type": "stream",
          "text": [
            "C:\\Users\\Akash\\AppData\\Local\\Temp\\ipykernel_18476\\315562222.py:15: UserWarning: FixedFormatter should only be used together with FixedLocator\n",
            "  ax1.set_yticklabels(ylabels)\n",
            "C:\\Users\\Akash\\AppData\\Local\\Temp\\ipykernel_18476\\315562222.py:20: UserWarning: FixedFormatter should only be used together with FixedLocator\n",
            "  ax2.set_yticklabels(ylabels)\n"
          ]
        },
        {
          "data": {
            "image/png": "[encoded data removed]",
            "text/plain": [
              "<Figure size 864x288 with 2 Axes>"
            ]
          },
          "metadata": {},
          "output_type": "display_data"
        }
      ],
      "source": [
        "import re\n",
        "\n",
        "# Block Number Prices\n",
        "get_num = lambda x: int(re.findall(\"\\d+\", x)[0])\n",
        "prices['blocknum'] = prices['block'].apply(get_num) # get only digits from block number\n",
        "tmp = prices[prices['blocknum'] > 99] # get only blocks that use 3-digit numbering system\n",
        "tmp = tmp.groupby('blocknum')['resale_price'].median().reset_index()\n",
        "\n",
        "# Scatterplots\n",
        "fig = plt.figure(figsize=(12,4))\n",
        "\n",
        "ax1 = plt.subplot(121)\n",
        "a=sns.scatterplot(x=tmp['blocknum'].apply(lambda x: int(str(x)[0])), y=tmp['resale_price'], color='#ff9933', edgecolors='w', alpha=0.9)\n",
        "ylabels = ['{:,.0f}'.format(x) + 'K' for x in a.get_yticks()/1000]\n",
        "ax1.set_yticklabels(ylabels)\n",
        "ax1.set_ylabel('Resale Price SGD ($)', size=15), ax1.set_xlabel('Neighbourhood Number', size=15)\n",
        "\n",
        "ax2 = plt.subplot(122)\n",
        "b=sns.scatterplot(x=tmp['blocknum'].apply(lambda x: int(str(x)[1:])), y=tmp['resale_price'], edgecolors='w', alpha=0.9)\n",
        "ax2.set_yticklabels(ylabels)\n",
        "ax2.set_ylabel('', size=15)\n",
        "ax2.set_xlabel('Block Number', size=15)\n",
        "\n",
        "plt.show()"
      ]
    },
    {
      "cell_type": "markdown",
      "metadata": {
        "id": "RUs7JRJ0zgQu"
      },
      "source": [
        "## By Flat Model"
      ]
    },
    {
      "cell_type": "code",
      "execution_count": 133,
      "metadata": {
        "colab": {
          "base_uri": "https://localhost:8080/",
          "height": 757
        },
        "id": "HCjWEn8wzgIA",
        "outputId": "0fe047fb-c5f1-4698-b679-b26f33b77a26"
      },
      "outputs": [
        {
          "name": "stderr",
          "output_type": "stream",
          "text": [
            "C:\\Users\\Akash\\AppData\\Local\\Temp\\ipykernel_18476\\46382373.py:8: UserWarning: FixedFormatter should only be used together with FixedLocator\n",
            "  p.set_yticklabels(ylabels)\n"
          ]
        },
        {
          "data": {
            "image/png": "[encoded data removed]",
            "text/plain": [
              "<Figure size 864x504 with 1 Axes>"
            ]
          },
          "metadata": {},
          "output_type": "display_data"
        }
      ],
      "source": [
        "# Violin plots for price distribution of each flat model\n",
        "\n",
        "fig = plt.figure(figsize=(12,7))\n",
        "p=sns.violinplot(x='flat_model', y='resale_price', data=prices, width=1,\n",
        "                order=prices.groupby('flat_model')['resale_price'].median().sort_values().reset_index()['flat_model'].tolist())\n",
        "p.set_xticklabels(p.get_xticklabels(), rotation=30, ha='right'), p.set_xlabel('Flat Models', size=15)\n",
        "ylabels = ['{:,.0f}'.format(x) + 'K' for x in p.get_yticks()/1000]\n",
        "p.set_yticklabels(ylabels)\n",
        "p.set_ylabel('Resale Price SGD ($)', size=15)\n",
        "plt.show()"
      ]
    },
    {
      "cell_type": "markdown",
      "metadata": {
        "id": "wUkkvCz8zpIA"
      },
      "source": [
        "The special models like the Type S1S2 (The Pinnacle@Duxton) and Terrace tend to fetch higher prices while the older models from the 1900s tend to go lower.\n"
      ]
    },
    {
      "cell_type": "markdown",
      "metadata": {
        "id": "fNHNqjIo0Q6n"
      },
      "source": [
        "## By Lease Commence Date\n",
        "Boxplot for each year of lease commence date"
      ]
    },
    {
      "cell_type": "code",
      "execution_count": 134,
      "metadata": {
        "colab": {
          "base_uri": "https://localhost:8080/",
          "height": 836
        },
        "id": "wAo6AKLtzfWc",
        "outputId": "0f73a26f-3776-47f7-e83e-ebd892b24542"
      },
      "outputs": [
        {
          "name": "stderr",
          "output_type": "stream",
          "text": [
            "C:\\Users\\Akash\\AppData\\Local\\Temp\\ipykernel_18476\\603668167.py:5: UserWarning: FixedFormatter should only be used together with FixedLocator\n",
            "  p.set_xticklabels(xlabels)\n"
          ]
        },
        {
          "data": {
            "image/png": "[encoded data removed]",
            "text/plain": [
              "<Figure size 504x648 with 1 Axes>"
            ]
          },
          "metadata": {},
          "output_type": "display_data"
        }
      ],
      "source": [
        "fig = plt.figure(figsize=(7,9))\n",
        "p=sns.boxplot(y='lease_commence_date', x='resale_price', data=prices, width=1, orient='h', flierprops = dict(markerfacecolor = 'red', markersize = 0.1, linestyle='none'), linewidth=0.4)\n",
        "p.set_xlabel('Resale Price SGD ($)', size=15), p.set_ylabel('Lease Commence Year', size=15)\n",
        "xlabels = ['{:,.0f}'.format(x) + 'K' for x in p.get_xticks()/1000]\n",
        "p.set_xticklabels(xlabels)\n",
        "p.set_title('Resale Price By Lease Commence Year', size=15)\n",
        "plt.show()"
      ]
    },
    {
      "cell_type": "code",
      "execution_count": 135,
      "metadata": {
        "colab": {
          "base_uri": "https://localhost:8080/",
          "height": 1000
        },
        "id": "XavMLANl0Xbm",
        "outputId": "cec64bb7-a688-4f5f-9445-f8f01b389dee"
      },
      "outputs": [
        {
          "ename": "KeyError",
          "evalue": "'year'",
          "output_type": "error",
          "traceback": [
            "\u001b[1;31m---------------------------------------------------------------------------\u001b[0m",
            "\u001b[1;31mKeyError\u001b[0m                                  Traceback (most recent call last)",
            "File \u001b[1;32mc:\\Users\\Akash\\AppData\\Local\\Programs\\Python\\Python39\\lib\\site-packages\\pandas\\core\\indexes\\base.py:3361\u001b[0m, in \u001b[0;36mIndex.get_loc\u001b[1;34m(self, key, method, tolerance)\u001b[0m\n\u001b[0;32m   3360\u001b[0m \u001b[38;5;28;01mtry\u001b[39;00m:\n\u001b[1;32m-> 3361\u001b[0m     \u001b[38;5;28;01mreturn\u001b[39;00m \u001b[38;5;28;43mself\u001b[39;49m\u001b[38;5;241;43m.\u001b[39;49m\u001b[43m_engine\u001b[49m\u001b[38;5;241;43m.\u001b[39;49m\u001b[43mget_loc\u001b[49m\u001b[43m(\u001b[49m\u001b[43mcasted_key\u001b[49m\u001b[43m)\u001b[49m\n\u001b[0;32m   3362\u001b[0m \u001b[38;5;28;01mexcept\u001b[39;00m \u001b[38;5;167;01mKeyError\u001b[39;00m \u001b[38;5;28;01mas\u001b[39;00m err:\n",
            "File \u001b[1;32mc:\\Users\\Akash\\AppData\\Local\\Programs\\Python\\Python39\\lib\\site-packages\\pandas\\_libs\\index.pyx:76\u001b[0m, in \u001b[0;36mpandas._libs.index.IndexEngine.get_loc\u001b[1;34m()\u001b[0m\n",
            "File \u001b[1;32mc:\\Users\\Akash\\AppData\\Local\\Programs\\Python\\Python39\\lib\\site-packages\\pandas\\_libs\\index.pyx:108\u001b[0m, in \u001b[0;36mpandas._libs.index.IndexEngine.get_loc\u001b[1;34m()\u001b[0m\n",
            "File \u001b[1;32mpandas\\_libs\\hashtable_class_helper.pxi:5198\u001b[0m, in \u001b[0;36mpandas._libs.hashtable.PyObjectHashTable.get_item\u001b[1;34m()\u001b[0m\n",
            "File \u001b[1;32mpandas\\_libs\\hashtable_class_helper.pxi:5206\u001b[0m, in \u001b[0;36mpandas._libs.hashtable.PyObjectHashTable.get_item\u001b[1;34m()\u001b[0m\n",
            "\u001b[1;31mKeyError\u001b[0m: 'year'",
            "\nThe above exception was the direct cause of the following exception:\n",
            "\u001b[1;31mKeyError\u001b[0m                                  Traceback (most recent call last)",
            "Input \u001b[1;32mIn [135]\u001b[0m, in \u001b[0;36m<cell line: 1>\u001b[1;34m()\u001b[0m\n\u001b[1;32m----> 1\u001b[0m tmp \u001b[38;5;241m=\u001b[39m prices[\u001b[43mprices\u001b[49m\u001b[43m[\u001b[49m\u001b[38;5;124;43m'\u001b[39;49m\u001b[38;5;124;43myear\u001b[39;49m\u001b[38;5;124;43m'\u001b[39;49m\u001b[43m]\u001b[49m\u001b[38;5;241m.\u001b[39misin([\u001b[38;5;241m2015\u001b[39m,\u001b[38;5;241m2016\u001b[39m,\u001b[38;5;241m2017\u001b[39m,\u001b[38;5;241m2018\u001b[39m,\u001b[38;5;241m2019\u001b[39m])]\n\u001b[0;32m      2\u001b[0m fig, axes \u001b[38;5;241m=\u001b[39m joypy\u001b[38;5;241m.\u001b[39mjoyplot(tmp, by\u001b[38;5;241m=\u001b[39m\u001b[38;5;124m\"\u001b[39m\u001b[38;5;124mlease_commence_date\u001b[39m\u001b[38;5;124m\"\u001b[39m, column\u001b[38;5;241m=\u001b[39m\u001b[38;5;124m\"\u001b[39m\u001b[38;5;124mresale_price\u001b[39m\u001b[38;5;124m\"\u001b[39m,figsize\u001b[38;5;241m=\u001b[39m(\u001b[38;5;241m6\u001b[39m,\u001b[38;5;241m10\u001b[39m),\n\u001b[0;32m      3\u001b[0m              linewidth\u001b[38;5;241m=\u001b[39m\u001b[38;5;241m1\u001b[39m,overlap\u001b[38;5;241m=\u001b[39m\u001b[38;5;241m5\u001b[39m,alpha\u001b[38;5;241m=\u001b[39m\u001b[38;5;241m0.8\u001b[39m,colormap\u001b[38;5;241m=\u001b[39mplt\u001b[38;5;241m.\u001b[39mcm\u001b[38;5;241m.\u001b[39mget_cmap(\u001b[38;5;124m'\u001b[39m\u001b[38;5;124mtab20\u001b[39m\u001b[38;5;124m'\u001b[39m,\u001b[38;5;241m16\u001b[39m))\n\u001b[0;32m      4\u001b[0m axes[\u001b[38;5;241m-\u001b[39m\u001b[38;5;241m1\u001b[39m]\u001b[38;5;241m.\u001b[39mset_xlim([\u001b[38;5;241m-\u001b[39m\u001b[38;5;241m50000\u001b[39m,\u001b[38;5;241m1400000\u001b[39m])\n",
            "File \u001b[1;32mc:\\Users\\Akash\\AppData\\Local\\Programs\\Python\\Python39\\lib\\site-packages\\pandas\\core\\frame.py:3458\u001b[0m, in \u001b[0;36mDataFrame.__getitem__\u001b[1;34m(self, key)\u001b[0m\n\u001b[0;32m   3456\u001b[0m \u001b[38;5;28;01mif\u001b[39;00m \u001b[38;5;28mself\u001b[39m\u001b[38;5;241m.\u001b[39mcolumns\u001b[38;5;241m.\u001b[39mnlevels \u001b[38;5;241m>\u001b[39m \u001b[38;5;241m1\u001b[39m:\n\u001b[0;32m   3457\u001b[0m     \u001b[38;5;28;01mreturn\u001b[39;00m \u001b[38;5;28mself\u001b[39m\u001b[38;5;241m.\u001b[39m_getitem_multilevel(key)\n\u001b[1;32m-> 3458\u001b[0m indexer \u001b[38;5;241m=\u001b[39m \u001b[38;5;28;43mself\u001b[39;49m\u001b[38;5;241;43m.\u001b[39;49m\u001b[43mcolumns\u001b[49m\u001b[38;5;241;43m.\u001b[39;49m\u001b[43mget_loc\u001b[49m\u001b[43m(\u001b[49m\u001b[43mkey\u001b[49m\u001b[43m)\u001b[49m\n\u001b[0;32m   3459\u001b[0m \u001b[38;5;28;01mif\u001b[39;00m is_integer(indexer):\n\u001b[0;32m   3460\u001b[0m     indexer \u001b[38;5;241m=\u001b[39m [indexer]\n",
            "File \u001b[1;32mc:\\Users\\Akash\\AppData\\Local\\Programs\\Python\\Python39\\lib\\site-packages\\pandas\\core\\indexes\\base.py:3363\u001b[0m, in \u001b[0;36mIndex.get_loc\u001b[1;34m(self, key, method, tolerance)\u001b[0m\n\u001b[0;32m   3361\u001b[0m         \u001b[38;5;28;01mreturn\u001b[39;00m \u001b[38;5;28mself\u001b[39m\u001b[38;5;241m.\u001b[39m_engine\u001b[38;5;241m.\u001b[39mget_loc(casted_key)\n\u001b[0;32m   3362\u001b[0m     \u001b[38;5;28;01mexcept\u001b[39;00m \u001b[38;5;167;01mKeyError\u001b[39;00m \u001b[38;5;28;01mas\u001b[39;00m err:\n\u001b[1;32m-> 3363\u001b[0m         \u001b[38;5;28;01mraise\u001b[39;00m \u001b[38;5;167;01mKeyError\u001b[39;00m(key) \u001b[38;5;28;01mfrom\u001b[39;00m \u001b[38;5;21;01merr\u001b[39;00m\n\u001b[0;32m   3365\u001b[0m \u001b[38;5;28;01mif\u001b[39;00m is_scalar(key) \u001b[38;5;129;01mand\u001b[39;00m isna(key) \u001b[38;5;129;01mand\u001b[39;00m \u001b[38;5;129;01mnot\u001b[39;00m \u001b[38;5;28mself\u001b[39m\u001b[38;5;241m.\u001b[39mhasnans:\n\u001b[0;32m   3366\u001b[0m     \u001b[38;5;28;01mraise\u001b[39;00m \u001b[38;5;167;01mKeyError\u001b[39;00m(key)\n",
            "\u001b[1;31mKeyError\u001b[0m: 'year'"
          ]
        }
      ],
      "source": [
        "tmp = prices[prices['year'].isin([2015,2016,2017,2018,2019])]\n",
        "fig, axes = joypy.joyplot(tmp, by=\"lease_commence_date\", column=\"resale_price\",figsize=(6,10),\n",
        "             linewidth=1,overlap=5,alpha=0.8,colormap=plt.cm.get_cmap('tab20',16))\n",
        "axes[-1].set_xlim([-50000,1400000])\n",
        "axes[-1].set_xticklabels(['0', '200k', '400k', '600k', '800k', '1000k', '1200k', '1400k'])\n",
        "plt.xlabel('Resale Price SGD ($)', fontsize=14)\n",
        "fig.show()"
      ]
    },
    {
      "cell_type": "markdown",
      "metadata": {
        "id": "1yFfBsZM0lcF"
      },
      "source": [
        "## Median resale price in various towns"
      ]
    },
    {
      "cell_type": "code",
      "execution_count": null,
      "metadata": {
        "colab": {
          "base_uri": "https://localhost:8080/"
        },
        "id": "wtHeaRZW1CMA",
        "outputId": "52a1967a-524d-4f4b-9a9e-0e4141ed99dd"
      },
      "outputs": [
        {
          "data": {
            "text/plain": [
              "Index(['month', 'town', 'flat_type', 'block', 'street_name', 'storey_range',\n",
              "       'floor_area_sqm', 'flat_model', 'lease_commence_date', 'resale_price',\n",
              "       'remaining_lease', 'year', 'blocknum'],\n",
              "      dtype='object')"
            ]
          },
          "execution_count": 57,
          "metadata": {},
          "output_type": "execute_result"
        }
      ],
      "source": [
        "prices.columns"
      ]
    },
    {
      "cell_type": "code",
      "execution_count": null,
      "metadata": {
        "colab": {
          "base_uri": "https://localhost:8080/"
        },
        "id": "SAY3w-xh0iTU",
        "outputId": "7908963c-9277-4fc4-f729-f4614347cbdb"
      },
      "outputs": [
        {
          "data": {
            "text/plain": [
              "town\n",
              "ANG MO KIO         210000.0\n",
              "BEDOK              232500.0\n",
              "BISHAN             382000.0\n",
              "BUKIT BATOK        238000.0\n",
              "BUKIT MERAH        280000.0\n",
              "BUKIT PANJANG      296000.0\n",
              "BUKIT TIMAH        400000.0\n",
              "CENTRAL AREA       230000.0\n",
              "CHOA CHU KANG      321000.0\n",
              "CLEMENTI           226000.0\n",
              "GEYLANG            224000.0\n",
              "HOUGANG            280000.0\n",
              "JURONG EAST        250000.0\n",
              "JURONG WEST        268000.0\n",
              "KALLANG/WHAMPOA    260000.0\n",
              "LIM CHU KANG        61750.0\n",
              "MARINE PARADE      290000.0\n",
              "PASIR RIS          380000.0\n",
              "PUNGGOL            445000.0\n",
              "QUEENSTOWN         185000.0\n",
              "SEMBAWANG          358000.0\n",
              "SENGKANG           415000.0\n",
              "SERANGOON          285000.0\n",
              "TAMPINES           305000.0\n",
              "TOA PAYOH          235000.0\n",
              "WOODLANDS          285000.0\n",
              "YISHUN             237000.0\n",
              "Name: resale_price, dtype: float64"
            ]
          },
          "execution_count": 58,
          "metadata": {},
          "output_type": "execute_result"
        }
      ],
      "source": [
        "prices.groupby('town')['resale_price'].median()"
      ]
    },
    {
      "cell_type": "markdown",
      "metadata": {
        "id": "4GOXGXB21SUG"
      },
      "source": [
        "# Data Preparation"
      ]
    },
    {
      "cell_type": "markdown",
      "metadata": {
        "id": "5vK7w84c3YAs"
      },
      "source": [
        "## Missing Values\n",
        "Replace missing distance values with median of the town. Only Kallang/Whampoa has missing data, so the function below will replace them with the median of the Kallang/Whampoa distance variables."
      ]
    },
    {
      "cell_type": "code",
      "execution_count": 136,
      "metadata": {
        "colab": {
          "base_uri": "https://localhost:8080/"
        },
        "id": "vo2u3iEx17qJ",
        "outputId": "06c244ce-62be-492e-ab0c-d81ca3f48fa1"
      },
      "outputs": [
        {
          "data": {
            "text/plain": [
              "Index(['month', 'town', 'flat_type', 'block', 'street_name', 'storey_range',\n",
              "       'floor_area_sqm', 'flat_model', 'lease_commence_date', 'resale_price',\n",
              "       'remaining_lease', 'cpi', 'real_price', 'blocknum'],\n",
              "      dtype='object')"
            ]
          },
          "execution_count": 136,
          "metadata": {},
          "output_type": "execute_result"
        }
      ],
      "source": [
        "prices.columns"
      ]
    },
    {
      "cell_type": "code",
      "execution_count": 137,
      "metadata": {
        "colab": {
          "base_uri": "https://localhost:8080/"
        },
        "id": "kQVtneUA2mC2",
        "outputId": "495370b9-5208-4b77-b54d-8a6e8b981b55"
      },
      "outputs": [
        {
          "data": {
            "text/plain": [
              "841631"
            ]
          },
          "execution_count": 137,
          "metadata": {},
          "output_type": "execute_result"
        }
      ],
      "source": [
        "prices.shape[0]"
      ]
    },
    {
      "cell_type": "code",
      "execution_count": 138,
      "metadata": {
        "colab": {
          "base_uri": "https://localhost:8080/"
        },
        "id": "XZOYXZ_b0tod",
        "outputId": "b11ef9e2-97f6-44db-e6ac-e38cccda8bc4"
      },
      "outputs": [
        {
          "name": "stdout",
          "output_type": "stream",
          "text": [
            "Missing Values in DataFrame:\n",
            "month                       0\n",
            "town                        0\n",
            "flat_type                   0\n",
            "block                       0\n",
            "street_name                 0\n",
            "storey_range                0\n",
            "floor_area_sqm              0\n",
            "flat_model                  0\n",
            "lease_commence_date         0\n",
            "resale_price                0\n",
            "remaining_lease        761257\n",
            "cpi                         0\n",
            "real_price                  0\n",
            "blocknum                    0\n",
            "dtype: int64\n"
          ]
        }
      ],
      "source": [
        "# Check for missing values in the DataFrame\n",
        "missing_values = prices.isnull().sum()\n",
        "\n",
        "# Display the count of missing values for each column\n",
        "print(\"Missing Values in DataFrame:\")\n",
        "print(missing_values)"
      ]
    },
    {
      "cell_type": "code",
      "execution_count": 139,
      "metadata": {
        "colab": {
          "base_uri": "https://localhost:8080/"
        },
        "id": "7oL_NnRH25mF",
        "outputId": "b726b527-ed33-4882-951c-7db1eb4e19b1"
      },
      "outputs": [
        {
          "name": "stdout",
          "output_type": "stream",
          "text": [
            "Missing Values in DataFrame: \n",
            " month                  0\n",
            "town                   0\n",
            "flat_type              0\n",
            "block                  0\n",
            "street_name            0\n",
            "storey_range           0\n",
            "floor_area_sqm         0\n",
            "flat_model             0\n",
            "lease_commence_date    0\n",
            "resale_price           0\n",
            "remaining_lease        0\n",
            "cpi                    0\n",
            "real_price             0\n",
            "blocknum               0\n",
            "dtype: int64\n"
          ]
        }
      ],
      "source": [
        "# Impute missing values in 'remaining_lease' with the median\n",
        "median_remaining_lease = prices['remaining_lease'].median()\n",
        "prices['remaining_lease'].fillna(median_remaining_lease, inplace=True)\n",
        "print(\"Missing Values in DataFrame: \\n\", prices.isnull().sum())"
      ]
    },
    {
      "cell_type": "code",
      "execution_count": 140,
      "metadata": {},
      "outputs": [
        {
          "name": "stdout",
          "output_type": "stream",
          "text": [
            "<class 'pandas.core.frame.DataFrame'>\n",
            "Int64Index: 841631 entries, 0 to 841630\n",
            "Data columns (total 14 columns):\n",
            " #   Column               Non-Null Count   Dtype         \n",
            "---  ------               --------------   -----         \n",
            " 0   month                841631 non-null  datetime64[ns]\n",
            " 1   town                 841631 non-null  object        \n",
            " 2   flat_type            841631 non-null  object        \n",
            " 3   block                841631 non-null  object        \n",
            " 4   street_name          841631 non-null  object        \n",
            " 5   storey_range         841631 non-null  object        \n",
            " 6   floor_area_sqm       841631 non-null  float64       \n",
            " 7   flat_model           841631 non-null  object        \n",
            " 8   lease_commence_date  841631 non-null  int64         \n",
            " 9   resale_price         841631 non-null  float64       \n",
            " 10  remaining_lease      841631 non-null  float64       \n",
            " 11  cpi                  841631 non-null  float64       \n",
            " 12  real_price           841631 non-null  float64       \n",
            " 13  blocknum             841631 non-null  int64         \n",
            "dtypes: datetime64[ns](1), float64(5), int64(2), object(6)\n",
            "memory usage: 128.6+ MB\n"
          ]
        }
      ],
      "source": [
        "prices\n",
        "prices.info()"
      ]
    },
    {
      "cell_type": "code",
      "execution_count": 141,
      "metadata": {},
      "outputs": [
        {
          "data": {
            "text/html": [
              "<div>\n",
              "<style scoped>\n",
              "    .dataframe tbody tr th:only-of-type {\n",
              "        vertical-align: middle;\n",
              "    }\n",
              "\n",
              "    .dataframe tbody tr th {\n",
              "        vertical-align: top;\n",
              "    }\n",
              "\n",
              "    .dataframe thead th {\n",
              "        text-align: right;\n",
              "    }\n",
              "</style>\n",
              "<table border=\"1\" class=\"dataframe\">\n",
              "  <thead>\n",
              "    <tr style=\"text-align: right;\">\n",
              "      <th></th>\n",
              "      <th>month</th>\n",
              "      <th>town</th>\n",
              "      <th>flat_type</th>\n",
              "      <th>block</th>\n",
              "      <th>street_name</th>\n",
              "      <th>storey_range</th>\n",
              "      <th>floor_area_sqm</th>\n",
              "      <th>flat_model</th>\n",
              "      <th>lease_commence_date</th>\n",
              "      <th>resale_price</th>\n",
              "      <th>remaining_lease</th>\n",
              "      <th>cpi</th>\n",
              "      <th>real_price</th>\n",
              "      <th>blocknum</th>\n",
              "    </tr>\n",
              "  </thead>\n",
              "  <tbody>\n",
              "    <tr>\n",
              "      <th>0</th>\n",
              "      <td>1990-01-01</td>\n",
              "      <td>ANG MO KIO</td>\n",
              "      <td>1 ROOM</td>\n",
              "      <td>309</td>\n",
              "      <td>ANG MO KIO AVE 1</td>\n",
              "      <td>10 TO 12</td>\n",
              "      <td>31.0</td>\n",
              "      <td>Improved</td>\n",
              "      <td>1977</td>\n",
              "      <td>9000.0</td>\n",
              "      <td>74.666667</td>\n",
              "      <td>60.894</td>\n",
              "      <td>14779.781259</td>\n",
              "      <td>309</td>\n",
              "    </tr>\n",
              "    <tr>\n",
              "      <th>1</th>\n",
              "      <td>1990-01-01</td>\n",
              "      <td>ANG MO KIO</td>\n",
              "      <td>1 ROOM</td>\n",
              "      <td>309</td>\n",
              "      <td>ANG MO KIO AVE 1</td>\n",
              "      <td>04 TO 06</td>\n",
              "      <td>31.0</td>\n",
              "      <td>Improved</td>\n",
              "      <td>1977</td>\n",
              "      <td>6000.0</td>\n",
              "      <td>74.666667</td>\n",
              "      <td>60.894</td>\n",
              "      <td>9853.187506</td>\n",
              "      <td>309</td>\n",
              "    </tr>\n",
              "    <tr>\n",
              "      <th>2</th>\n",
              "      <td>1990-01-01</td>\n",
              "      <td>ANG MO KIO</td>\n",
              "      <td>1 ROOM</td>\n",
              "      <td>309</td>\n",
              "      <td>ANG MO KIO AVE 1</td>\n",
              "      <td>10 TO 12</td>\n",
              "      <td>31.0</td>\n",
              "      <td>Improved</td>\n",
              "      <td>1977</td>\n",
              "      <td>8000.0</td>\n",
              "      <td>74.666667</td>\n",
              "      <td>60.894</td>\n",
              "      <td>13137.583342</td>\n",
              "      <td>309</td>\n",
              "    </tr>\n",
              "    <tr>\n",
              "      <th>3</th>\n",
              "      <td>1990-01-01</td>\n",
              "      <td>ANG MO KIO</td>\n",
              "      <td>1 ROOM</td>\n",
              "      <td>309</td>\n",
              "      <td>ANG MO KIO AVE 1</td>\n",
              "      <td>07 TO 09</td>\n",
              "      <td>31.0</td>\n",
              "      <td>Improved</td>\n",
              "      <td>1977</td>\n",
              "      <td>6000.0</td>\n",
              "      <td>74.666667</td>\n",
              "      <td>60.894</td>\n",
              "      <td>9853.187506</td>\n",
              "      <td>309</td>\n",
              "    </tr>\n",
              "    <tr>\n",
              "      <th>4</th>\n",
              "      <td>1990-01-01</td>\n",
              "      <td>ANG MO KIO</td>\n",
              "      <td>3 ROOM</td>\n",
              "      <td>216</td>\n",
              "      <td>ANG MO KIO AVE 1</td>\n",
              "      <td>04 TO 06</td>\n",
              "      <td>73.0</td>\n",
              "      <td>New Generation</td>\n",
              "      <td>1976</td>\n",
              "      <td>47200.0</td>\n",
              "      <td>74.666667</td>\n",
              "      <td>60.894</td>\n",
              "      <td>77511.741715</td>\n",
              "      <td>216</td>\n",
              "    </tr>\n",
              "  </tbody>\n",
              "</table>\n",
              "</div>"
            ],
            "text/plain": [
              "       month        town flat_type block       street_name storey_range  \\\n",
              "0 1990-01-01  ANG MO KIO    1 ROOM   309  ANG MO KIO AVE 1     10 TO 12   \n",
              "1 1990-01-01  ANG MO KIO    1 ROOM   309  ANG MO KIO AVE 1     04 TO 06   \n",
              "2 1990-01-01  ANG MO KIO    1 ROOM   309  ANG MO KIO AVE 1     10 TO 12   \n",
              "3 1990-01-01  ANG MO KIO    1 ROOM   309  ANG MO KIO AVE 1     07 TO 09   \n",
              "4 1990-01-01  ANG MO KIO    3 ROOM   216  ANG MO KIO AVE 1     04 TO 06   \n",
              "\n",
              "   floor_area_sqm      flat_model  lease_commence_date  resale_price  \\\n",
              "0            31.0        Improved                 1977        9000.0   \n",
              "1            31.0        Improved                 1977        6000.0   \n",
              "2            31.0        Improved                 1977        8000.0   \n",
              "3            31.0        Improved                 1977        6000.0   \n",
              "4            73.0  New Generation                 1976       47200.0   \n",
              "\n",
              "   remaining_lease     cpi    real_price  blocknum  \n",
              "0        74.666667  60.894  14779.781259       309  \n",
              "1        74.666667  60.894   9853.187506       309  \n",
              "2        74.666667  60.894  13137.583342       309  \n",
              "3        74.666667  60.894   9853.187506       309  \n",
              "4        74.666667  60.894  77511.741715       216  "
            ]
          },
          "execution_count": 141,
          "metadata": {},
          "output_type": "execute_result"
        }
      ],
      "source": [
        "prices.head()"
      ]
    },
    {
      "cell_type": "code",
      "execution_count": 142,
      "metadata": {},
      "outputs": [
        {
          "data": {
            "text/plain": [
              "array(['10 TO 12', '04 TO 06', '07 TO 09', '01 TO 03', '13 TO 15',\n",
              "       '19 TO 21', '16 TO 18', '25 TO 27', '22 TO 24', '28 TO 30',\n",
              "       '31 TO 33', '40 TO 42', '37 TO 39', '34 TO 36', '06 TO 10',\n",
              "       '01 TO 05', '11 TO 15', '16 TO 20', '21 TO 25', '26 TO 30',\n",
              "       '36 TO 40', '31 TO 35', '49 TO 51', '46 TO 48', '43 TO 45'],\n",
              "      dtype=object)"
            ]
          },
          "execution_count": 142,
          "metadata": {},
          "output_type": "execute_result"
        }
      ],
      "source": [
        "prices['storey_range'].unique()"
      ]
    },
    {
      "cell_type": "code",
      "execution_count": 143,
      "metadata": {},
      "outputs": [
        {
          "data": {
            "text/plain": [
              "568"
            ]
          },
          "execution_count": 143,
          "metadata": {},
          "output_type": "execute_result"
        }
      ],
      "source": [
        "len(prices['street_name'].unique())"
      ]
    },
    {
      "cell_type": "code",
      "execution_count": 144,
      "metadata": {},
      "outputs": [
        {
          "data": {
            "text/plain": [
              "0        1990-01-01\n",
              "1        1990-01-01\n",
              "2        1990-01-01\n",
              "3        1990-01-01\n",
              "4        1990-01-01\n",
              "            ...    \n",
              "841626   2020-09-01\n",
              "841627   2020-09-01\n",
              "841628   2020-09-01\n",
              "841629   2020-09-01\n",
              "841630   2020-09-01\n",
              "Name: month, Length: 841631, dtype: datetime64[ns]"
            ]
          },
          "execution_count": 144,
          "metadata": {},
          "output_type": "execute_result"
        }
      ],
      "source": [
        "prices['month']"
      ]
    },
    {
      "cell_type": "code",
      "execution_count": 145,
      "metadata": {},
      "outputs": [
        {
          "data": {
            "text/plain": [
              "0         60.894\n",
              "1         60.894\n",
              "2         60.894\n",
              "3         60.894\n",
              "4         60.894\n",
              "           ...  \n",
              "841626    99.869\n",
              "841627    99.869\n",
              "841628    99.869\n",
              "841629    99.869\n",
              "841630    99.869\n",
              "Name: cpi, Length: 841631, dtype: float64"
            ]
          },
          "execution_count": 145,
          "metadata": {},
          "output_type": "execute_result"
        }
      ],
      "source": [
        "prices['cpi']"
      ]
    },
    {
      "cell_type": "code",
      "execution_count": 146,
      "metadata": {},
      "outputs": [
        {
          "data": {
            "text/plain": [
              "Model A                 231676\n",
              "Improved                221589\n",
              "New Generation          180840\n",
              "Simplified               55180\n",
              "Standard                 40817\n",
              "Premium Apartment        36049\n",
              "Apartment                32732\n",
              "Maisonette               29210\n",
              "Model A2                  9325\n",
              "DBSS                      1476\n",
              "Adjoined flat             1119\n",
              "Terrace                    651\n",
              "Multi Generation           518\n",
              "Type S1S2                  210\n",
              "Executive Maisonette       200\n",
              "2-room                      39\n",
              "Name: flat_model, dtype: int64"
            ]
          },
          "execution_count": 146,
          "metadata": {},
          "output_type": "execute_result"
        }
      ],
      "source": [
        "prices['flat_model'].value_counts()"
      ]
    },
    {
      "cell_type": "code",
      "execution_count": 147,
      "metadata": {},
      "outputs": [
        {
          "data": {
            "text/plain": [
              "0         1977\n",
              "1         1977\n",
              "2         1977\n",
              "3         1977\n",
              "4         1976\n",
              "          ... \n",
              "841626    1987\n",
              "841627    1987\n",
              "841628    1987\n",
              "841629    1987\n",
              "841630    1988\n",
              "Name: lease_commence_date, Length: 841631, dtype: int64"
            ]
          },
          "execution_count": 147,
          "metadata": {},
          "output_type": "execute_result"
        }
      ],
      "source": [
        "prices['lease_commence_date']"
      ]
    },
    {
      "cell_type": "code",
      "execution_count": 148,
      "metadata": {},
      "outputs": [
        {
          "data": {
            "text/plain": [
              "0         74.666667\n",
              "1         74.666667\n",
              "2         74.666667\n",
              "3         74.666667\n",
              "4         74.666667\n",
              "            ...    \n",
              "841626    66.250000\n",
              "841627    65.500000\n",
              "841628    66.333333\n",
              "841629    66.250000\n",
              "841630    66.750000\n",
              "Name: remaining_lease, Length: 841631, dtype: float64"
            ]
          },
          "execution_count": 148,
          "metadata": {},
          "output_type": "execute_result"
        }
      ],
      "source": [
        "prices['remaining_lease']"
      ]
    },
    {
      "cell_type": "code",
      "execution_count": 149,
      "metadata": {},
      "outputs": [
        {
          "data": {
            "text/plain": [
              "2       4372\n",
              "1       3843\n",
              "110     3234\n",
              "101     3203\n",
              "4       3177\n",
              "        ... \n",
              "256D       1\n",
              "530B       1\n",
              "473A       1\n",
              "294A       1\n",
              "164A       1\n",
              "Name: block, Length: 2454, dtype: int64"
            ]
          },
          "execution_count": 149,
          "metadata": {},
          "output_type": "execute_result"
        }
      ],
      "source": [
        "prices['block'].value_counts()"
      ]
    },
    {
      "cell_type": "code",
      "execution_count": 150,
      "metadata": {},
      "outputs": [
        {
          "data": {
            "text/plain": [
              "TAMPINES           74256\n",
              "YISHUN             64743\n",
              "BEDOK              62394\n",
              "JURONG WEST        62211\n",
              "WOODLANDS          60638\n",
              "ANG MO KIO         48939\n",
              "HOUGANG            46234\n",
              "BUKIT BATOK        41085\n",
              "CHOA CHU KANG      33661\n",
              "BUKIT MERAH        31286\n",
              "PASIR RIS          30859\n",
              "TOA PAYOH          29148\n",
              "QUEENSTOWN         26421\n",
              "GEYLANG            26166\n",
              "CLEMENTI           26128\n",
              "BUKIT PANJANG      24580\n",
              "KALLANG/WHAMPOA    24415\n",
              "SENGKANG           24378\n",
              "JURONG EAST        23270\n",
              "SERANGOON          21433\n",
              "BISHAN             19769\n",
              "PUNGGOL            12224\n",
              "SEMBAWANG          11219\n",
              "MARINE PARADE       7566\n",
              "CENTRAL AREA        6250\n",
              "BUKIT TIMAH         2294\n",
              "LIM CHU KANG          64\n",
              "Name: town, dtype: int64"
            ]
          },
          "execution_count": 150,
          "metadata": {},
          "output_type": "execute_result"
        }
      ],
      "source": [
        "prices['town'].value_counts()"
      ]
    },
    {
      "cell_type": "code",
      "execution_count": 151,
      "metadata": {},
      "outputs": [
        {
          "data": {
            "text/plain": [
              "4 ROOM              314274\n",
              "3 ROOM              277931\n",
              "5 ROOM              173518\n",
              "EXECUTIVE            63995\n",
              "2 ROOM               10096\n",
              "1 ROOM                1299\n",
              "MULTI GENERATION       518\n",
              "Name: flat_type, dtype: int64"
            ]
          },
          "execution_count": 151,
          "metadata": {},
          "output_type": "execute_result"
        }
      ],
      "source": [
        "prices['flat_type'].value_counts()"
      ]
    },
    {
      "cell_type": "code",
      "execution_count": 152,
      "metadata": {},
      "outputs": [],
      "source": [
        "# change flat type to numerical\n",
        "prices['flat_type'] = prices['flat_type'].map({'1 ROOM':1, '2 ROOM':2, '3 ROOM':3, '4 ROOM':4, '5 ROOM':5, 'EXECUTIVE':6, 'MULTI GENERATION':7})"
      ]
    },
    {
      "cell_type": "code",
      "execution_count": 153,
      "metadata": {},
      "outputs": [],
      "source": [
        "# get year only from month column and rename column to year\n",
        "prices['year'] = prices['month'].dt.year\n",
        "prices.drop(columns='month', inplace=True)"
      ]
    },
    {
      "cell_type": "code",
      "execution_count": 154,
      "metadata": {},
      "outputs": [],
      "source": [
        "# take mean of storey range and rename column to storey\n",
        "# storey_range is like '5 TO 7'\n",
        "def process_range(x):\n",
        "    start, end = map(int, x.split(\" TO \"))\n",
        "    return (start + end) // 2\n",
        "\n",
        "# Apply the function to the storey_range column\n",
        "prices['storey'] = prices['storey_range'].apply(lambda x: process_range(x))\n",
        "prices.drop(columns='storey_range', inplace=True)"
      ]
    },
    {
      "cell_type": "code",
      "execution_count": 155,
      "metadata": {},
      "outputs": [],
      "source": [
        "prices.drop(columns=['block', 'street_name'], inplace=True)"
      ]
    },
    {
      "cell_type": "code",
      "execution_count": 156,
      "metadata": {},
      "outputs": [
        {
          "data": {
            "text/html": [
              "<div>\n",
              "<style scoped>\n",
              "    .dataframe tbody tr th:only-of-type {\n",
              "        vertical-align: middle;\n",
              "    }\n",
              "\n",
              "    .dataframe tbody tr th {\n",
              "        vertical-align: top;\n",
              "    }\n",
              "\n",
              "    .dataframe thead th {\n",
              "        text-align: right;\n",
              "    }\n",
              "</style>\n",
              "<table border=\"1\" class=\"dataframe\">\n",
              "  <thead>\n",
              "    <tr style=\"text-align: right;\">\n",
              "      <th></th>\n",
              "      <th>town</th>\n",
              "      <th>flat_type</th>\n",
              "      <th>floor_area_sqm</th>\n",
              "      <th>flat_model</th>\n",
              "      <th>lease_commence_date</th>\n",
              "      <th>resale_price</th>\n",
              "      <th>remaining_lease</th>\n",
              "      <th>cpi</th>\n",
              "      <th>real_price</th>\n",
              "      <th>blocknum</th>\n",
              "      <th>year</th>\n",
              "      <th>storey</th>\n",
              "    </tr>\n",
              "  </thead>\n",
              "  <tbody>\n",
              "    <tr>\n",
              "      <th>0</th>\n",
              "      <td>ANG MO KIO</td>\n",
              "      <td>1</td>\n",
              "      <td>31.0</td>\n",
              "      <td>Improved</td>\n",
              "      <td>1977</td>\n",
              "      <td>9000.0</td>\n",
              "      <td>74.666667</td>\n",
              "      <td>60.894</td>\n",
              "      <td>14779.781259</td>\n",
              "      <td>309</td>\n",
              "      <td>1990</td>\n",
              "      <td>11</td>\n",
              "    </tr>\n",
              "    <tr>\n",
              "      <th>1</th>\n",
              "      <td>ANG MO KIO</td>\n",
              "      <td>1</td>\n",
              "      <td>31.0</td>\n",
              "      <td>Improved</td>\n",
              "      <td>1977</td>\n",
              "      <td>6000.0</td>\n",
              "      <td>74.666667</td>\n",
              "      <td>60.894</td>\n",
              "      <td>9853.187506</td>\n",
              "      <td>309</td>\n",
              "      <td>1990</td>\n",
              "      <td>5</td>\n",
              "    </tr>\n",
              "    <tr>\n",
              "      <th>2</th>\n",
              "      <td>ANG MO KIO</td>\n",
              "      <td>1</td>\n",
              "      <td>31.0</td>\n",
              "      <td>Improved</td>\n",
              "      <td>1977</td>\n",
              "      <td>8000.0</td>\n",
              "      <td>74.666667</td>\n",
              "      <td>60.894</td>\n",
              "      <td>13137.583342</td>\n",
              "      <td>309</td>\n",
              "      <td>1990</td>\n",
              "      <td>11</td>\n",
              "    </tr>\n",
              "    <tr>\n",
              "      <th>3</th>\n",
              "      <td>ANG MO KIO</td>\n",
              "      <td>1</td>\n",
              "      <td>31.0</td>\n",
              "      <td>Improved</td>\n",
              "      <td>1977</td>\n",
              "      <td>6000.0</td>\n",
              "      <td>74.666667</td>\n",
              "      <td>60.894</td>\n",
              "      <td>9853.187506</td>\n",
              "      <td>309</td>\n",
              "      <td>1990</td>\n",
              "      <td>8</td>\n",
              "    </tr>\n",
              "    <tr>\n",
              "      <th>4</th>\n",
              "      <td>ANG MO KIO</td>\n",
              "      <td>3</td>\n",
              "      <td>73.0</td>\n",
              "      <td>New Generation</td>\n",
              "      <td>1976</td>\n",
              "      <td>47200.0</td>\n",
              "      <td>74.666667</td>\n",
              "      <td>60.894</td>\n",
              "      <td>77511.741715</td>\n",
              "      <td>216</td>\n",
              "      <td>1990</td>\n",
              "      <td>5</td>\n",
              "    </tr>\n",
              "    <tr>\n",
              "      <th>...</th>\n",
              "      <td>...</td>\n",
              "      <td>...</td>\n",
              "      <td>...</td>\n",
              "      <td>...</td>\n",
              "      <td>...</td>\n",
              "      <td>...</td>\n",
              "      <td>...</td>\n",
              "      <td>...</td>\n",
              "      <td>...</td>\n",
              "      <td>...</td>\n",
              "      <td>...</td>\n",
              "      <td>...</td>\n",
              "    </tr>\n",
              "    <tr>\n",
              "      <th>841626</th>\n",
              "      <td>YISHUN</td>\n",
              "      <td>5</td>\n",
              "      <td>131.0</td>\n",
              "      <td>Improved</td>\n",
              "      <td>1987</td>\n",
              "      <td>440000.0</td>\n",
              "      <td>66.250000</td>\n",
              "      <td>99.869</td>\n",
              "      <td>440577.156074</td>\n",
              "      <td>716</td>\n",
              "      <td>2020</td>\n",
              "      <td>8</td>\n",
              "    </tr>\n",
              "    <tr>\n",
              "      <th>841627</th>\n",
              "      <td>YISHUN</td>\n",
              "      <td>5</td>\n",
              "      <td>122.0</td>\n",
              "      <td>Improved</td>\n",
              "      <td>1987</td>\n",
              "      <td>458000.0</td>\n",
              "      <td>65.500000</td>\n",
              "      <td>99.869</td>\n",
              "      <td>458600.767005</td>\n",
              "      <td>760</td>\n",
              "      <td>2020</td>\n",
              "      <td>8</td>\n",
              "    </tr>\n",
              "    <tr>\n",
              "      <th>841628</th>\n",
              "      <td>YISHUN</td>\n",
              "      <td>5</td>\n",
              "      <td>122.0</td>\n",
              "      <td>Improved</td>\n",
              "      <td>1987</td>\n",
              "      <td>490000.0</td>\n",
              "      <td>66.333333</td>\n",
              "      <td>99.869</td>\n",
              "      <td>490642.741992</td>\n",
              "      <td>835</td>\n",
              "      <td>2020</td>\n",
              "      <td>5</td>\n",
              "    </tr>\n",
              "    <tr>\n",
              "      <th>841629</th>\n",
              "      <td>YISHUN</td>\n",
              "      <td>6</td>\n",
              "      <td>146.0</td>\n",
              "      <td>Maisonette</td>\n",
              "      <td>1987</td>\n",
              "      <td>558000.0</td>\n",
              "      <td>66.250000</td>\n",
              "      <td>99.869</td>\n",
              "      <td>558731.938840</td>\n",
              "      <td>791</td>\n",
              "      <td>2020</td>\n",
              "      <td>5</td>\n",
              "    </tr>\n",
              "    <tr>\n",
              "      <th>841630</th>\n",
              "      <td>YISHUN</td>\n",
              "      <td>6</td>\n",
              "      <td>146.0</td>\n",
              "      <td>Maisonette</td>\n",
              "      <td>1988</td>\n",
              "      <td>555000.0</td>\n",
              "      <td>66.750000</td>\n",
              "      <td>99.869</td>\n",
              "      <td>555728.003685</td>\n",
              "      <td>387</td>\n",
              "      <td>2020</td>\n",
              "      <td>5</td>\n",
              "    </tr>\n",
              "  </tbody>\n",
              "</table>\n",
              "<p>841631 rows × 12 columns</p>\n",
              "</div>"
            ],
            "text/plain": [
              "              town  flat_type  floor_area_sqm      flat_model  \\\n",
              "0       ANG MO KIO          1            31.0        Improved   \n",
              "1       ANG MO KIO          1            31.0        Improved   \n",
              "2       ANG MO KIO          1            31.0        Improved   \n",
              "3       ANG MO KIO          1            31.0        Improved   \n",
              "4       ANG MO KIO          3            73.0  New Generation   \n",
              "...            ...        ...             ...             ...   \n",
              "841626      YISHUN          5           131.0        Improved   \n",
              "841627      YISHUN          5           122.0        Improved   \n",
              "841628      YISHUN          5           122.0        Improved   \n",
              "841629      YISHUN          6           146.0      Maisonette   \n",
              "841630      YISHUN          6           146.0      Maisonette   \n",
              "\n",
              "        lease_commence_date  resale_price  remaining_lease     cpi  \\\n",
              "0                      1977        9000.0        74.666667  60.894   \n",
              "1                      1977        6000.0        74.666667  60.894   \n",
              "2                      1977        8000.0        74.666667  60.894   \n",
              "3                      1977        6000.0        74.666667  60.894   \n",
              "4                      1976       47200.0        74.666667  60.894   \n",
              "...                     ...           ...              ...     ...   \n",
              "841626                 1987      440000.0        66.250000  99.869   \n",
              "841627                 1987      458000.0        65.500000  99.869   \n",
              "841628                 1987      490000.0        66.333333  99.869   \n",
              "841629                 1987      558000.0        66.250000  99.869   \n",
              "841630                 1988      555000.0        66.750000  99.869   \n",
              "\n",
              "           real_price  blocknum  year  storey  \n",
              "0        14779.781259       309  1990      11  \n",
              "1         9853.187506       309  1990       5  \n",
              "2        13137.583342       309  1990      11  \n",
              "3         9853.187506       309  1990       8  \n",
              "4        77511.741715       216  1990       5  \n",
              "...               ...       ...   ...     ...  \n",
              "841626  440577.156074       716  2020       8  \n",
              "841627  458600.767005       760  2020       8  \n",
              "841628  490642.741992       835  2020       5  \n",
              "841629  558731.938840       791  2020       5  \n",
              "841630  555728.003685       387  2020       5  \n",
              "\n",
              "[841631 rows x 12 columns]"
            ]
          },
          "execution_count": 156,
          "metadata": {},
          "output_type": "execute_result"
        }
      ],
      "source": [
        "prices"
      ]
    },
    {
      "cell_type": "code",
      "execution_count": 157,
      "metadata": {},
      "outputs": [],
      "source": [
        "# categorical columns for one hot encoding for flat_model\n",
        "prices = pd.get_dummies(prices, columns=['town', 'flat_model'])"
      ]
    },
    {
      "cell_type": "code",
      "execution_count": 158,
      "metadata": {},
      "outputs": [
        {
          "data": {
            "text/html": [
              "<div>\n",
              "<style scoped>\n",
              "    .dataframe tbody tr th:only-of-type {\n",
              "        vertical-align: middle;\n",
              "    }\n",
              "\n",
              "    .dataframe tbody tr th {\n",
              "        vertical-align: top;\n",
              "    }\n",
              "\n",
              "    .dataframe thead th {\n",
              "        text-align: right;\n",
              "    }\n",
              "</style>\n",
              "<table border=\"1\" class=\"dataframe\">\n",
              "  <thead>\n",
              "    <tr style=\"text-align: right;\">\n",
              "      <th></th>\n",
              "      <th>flat_type</th>\n",
              "      <th>floor_area_sqm</th>\n",
              "      <th>lease_commence_date</th>\n",
              "      <th>resale_price</th>\n",
              "      <th>remaining_lease</th>\n",
              "      <th>cpi</th>\n",
              "      <th>real_price</th>\n",
              "      <th>blocknum</th>\n",
              "      <th>year</th>\n",
              "      <th>storey</th>\n",
              "      <th>...</th>\n",
              "      <th>flat_model_Maisonette</th>\n",
              "      <th>flat_model_Model A</th>\n",
              "      <th>flat_model_Model A2</th>\n",
              "      <th>flat_model_Multi Generation</th>\n",
              "      <th>flat_model_New Generation</th>\n",
              "      <th>flat_model_Premium Apartment</th>\n",
              "      <th>flat_model_Simplified</th>\n",
              "      <th>flat_model_Standard</th>\n",
              "      <th>flat_model_Terrace</th>\n",
              "      <th>flat_model_Type S1S2</th>\n",
              "    </tr>\n",
              "  </thead>\n",
              "  <tbody>\n",
              "    <tr>\n",
              "      <th>0</th>\n",
              "      <td>1</td>\n",
              "      <td>31.0</td>\n",
              "      <td>1977</td>\n",
              "      <td>9000.0</td>\n",
              "      <td>74.666667</td>\n",
              "      <td>60.894</td>\n",
              "      <td>14779.781259</td>\n",
              "      <td>309</td>\n",
              "      <td>1990</td>\n",
              "      <td>11</td>\n",
              "      <td>...</td>\n",
              "      <td>0</td>\n",
              "      <td>0</td>\n",
              "      <td>0</td>\n",
              "      <td>0</td>\n",
              "      <td>0</td>\n",
              "      <td>0</td>\n",
              "      <td>0</td>\n",
              "      <td>0</td>\n",
              "      <td>0</td>\n",
              "      <td>0</td>\n",
              "    </tr>\n",
              "    <tr>\n",
              "      <th>1</th>\n",
              "      <td>1</td>\n",
              "      <td>31.0</td>\n",
              "      <td>1977</td>\n",
              "      <td>6000.0</td>\n",
              "      <td>74.666667</td>\n",
              "      <td>60.894</td>\n",
              "      <td>9853.187506</td>\n",
              "      <td>309</td>\n",
              "      <td>1990</td>\n",
              "      <td>5</td>\n",
              "      <td>...</td>\n",
              "      <td>0</td>\n",
              "      <td>0</td>\n",
              "      <td>0</td>\n",
              "      <td>0</td>\n",
              "      <td>0</td>\n",
              "      <td>0</td>\n",
              "      <td>0</td>\n",
              "      <td>0</td>\n",
              "      <td>0</td>\n",
              "      <td>0</td>\n",
              "    </tr>\n",
              "    <tr>\n",
              "      <th>2</th>\n",
              "      <td>1</td>\n",
              "      <td>31.0</td>\n",
              "      <td>1977</td>\n",
              "      <td>8000.0</td>\n",
              "      <td>74.666667</td>\n",
              "      <td>60.894</td>\n",
              "      <td>13137.583342</td>\n",
              "      <td>309</td>\n",
              "      <td>1990</td>\n",
              "      <td>11</td>\n",
              "      <td>...</td>\n",
              "      <td>0</td>\n",
              "      <td>0</td>\n",
              "      <td>0</td>\n",
              "      <td>0</td>\n",
              "      <td>0</td>\n",
              "      <td>0</td>\n",
              "      <td>0</td>\n",
              "      <td>0</td>\n",
              "      <td>0</td>\n",
              "      <td>0</td>\n",
              "    </tr>\n",
              "    <tr>\n",
              "      <th>3</th>\n",
              "      <td>1</td>\n",
              "      <td>31.0</td>\n",
              "      <td>1977</td>\n",
              "      <td>6000.0</td>\n",
              "      <td>74.666667</td>\n",
              "      <td>60.894</td>\n",
              "      <td>9853.187506</td>\n",
              "      <td>309</td>\n",
              "      <td>1990</td>\n",
              "      <td>8</td>\n",
              "      <td>...</td>\n",
              "      <td>0</td>\n",
              "      <td>0</td>\n",
              "      <td>0</td>\n",
              "      <td>0</td>\n",
              "      <td>0</td>\n",
              "      <td>0</td>\n",
              "      <td>0</td>\n",
              "      <td>0</td>\n",
              "      <td>0</td>\n",
              "      <td>0</td>\n",
              "    </tr>\n",
              "    <tr>\n",
              "      <th>4</th>\n",
              "      <td>3</td>\n",
              "      <td>73.0</td>\n",
              "      <td>1976</td>\n",
              "      <td>47200.0</td>\n",
              "      <td>74.666667</td>\n",
              "      <td>60.894</td>\n",
              "      <td>77511.741715</td>\n",
              "      <td>216</td>\n",
              "      <td>1990</td>\n",
              "      <td>5</td>\n",
              "      <td>...</td>\n",
              "      <td>0</td>\n",
              "      <td>0</td>\n",
              "      <td>0</td>\n",
              "      <td>0</td>\n",
              "      <td>1</td>\n",
              "      <td>0</td>\n",
              "      <td>0</td>\n",
              "      <td>0</td>\n",
              "      <td>0</td>\n",
              "      <td>0</td>\n",
              "    </tr>\n",
              "    <tr>\n",
              "      <th>...</th>\n",
              "      <td>...</td>\n",
              "      <td>...</td>\n",
              "      <td>...</td>\n",
              "      <td>...</td>\n",
              "      <td>...</td>\n",
              "      <td>...</td>\n",
              "      <td>...</td>\n",
              "      <td>...</td>\n",
              "      <td>...</td>\n",
              "      <td>...</td>\n",
              "      <td>...</td>\n",
              "      <td>...</td>\n",
              "      <td>...</td>\n",
              "      <td>...</td>\n",
              "      <td>...</td>\n",
              "      <td>...</td>\n",
              "      <td>...</td>\n",
              "      <td>...</td>\n",
              "      <td>...</td>\n",
              "      <td>...</td>\n",
              "      <td>...</td>\n",
              "    </tr>\n",
              "    <tr>\n",
              "      <th>841626</th>\n",
              "      <td>5</td>\n",
              "      <td>131.0</td>\n",
              "      <td>1987</td>\n",
              "      <td>440000.0</td>\n",
              "      <td>66.250000</td>\n",
              "      <td>99.869</td>\n",
              "      <td>440577.156074</td>\n",
              "      <td>716</td>\n",
              "      <td>2020</td>\n",
              "      <td>8</td>\n",
              "      <td>...</td>\n",
              "      <td>0</td>\n",
              "      <td>0</td>\n",
              "      <td>0</td>\n",
              "      <td>0</td>\n",
              "      <td>0</td>\n",
              "      <td>0</td>\n",
              "      <td>0</td>\n",
              "      <td>0</td>\n",
              "      <td>0</td>\n",
              "      <td>0</td>\n",
              "    </tr>\n",
              "    <tr>\n",
              "      <th>841627</th>\n",
              "      <td>5</td>\n",
              "      <td>122.0</td>\n",
              "      <td>1987</td>\n",
              "      <td>458000.0</td>\n",
              "      <td>65.500000</td>\n",
              "      <td>99.869</td>\n",
              "      <td>458600.767005</td>\n",
              "      <td>760</td>\n",
              "      <td>2020</td>\n",
              "      <td>8</td>\n",
              "      <td>...</td>\n",
              "      <td>0</td>\n",
              "      <td>0</td>\n",
              "      <td>0</td>\n",
              "      <td>0</td>\n",
              "      <td>0</td>\n",
              "      <td>0</td>\n",
              "      <td>0</td>\n",
              "      <td>0</td>\n",
              "      <td>0</td>\n",
              "      <td>0</td>\n",
              "    </tr>\n",
              "    <tr>\n",
              "      <th>841628</th>\n",
              "      <td>5</td>\n",
              "      <td>122.0</td>\n",
              "      <td>1987</td>\n",
              "      <td>490000.0</td>\n",
              "      <td>66.333333</td>\n",
              "      <td>99.869</td>\n",
              "      <td>490642.741992</td>\n",
              "      <td>835</td>\n",
              "      <td>2020</td>\n",
              "      <td>5</td>\n",
              "      <td>...</td>\n",
              "      <td>0</td>\n",
              "      <td>0</td>\n",
              "      <td>0</td>\n",
              "      <td>0</td>\n",
              "      <td>0</td>\n",
              "      <td>0</td>\n",
              "      <td>0</td>\n",
              "      <td>0</td>\n",
              "      <td>0</td>\n",
              "      <td>0</td>\n",
              "    </tr>\n",
              "    <tr>\n",
              "      <th>841629</th>\n",
              "      <td>6</td>\n",
              "      <td>146.0</td>\n",
              "      <td>1987</td>\n",
              "      <td>558000.0</td>\n",
              "      <td>66.250000</td>\n",
              "      <td>99.869</td>\n",
              "      <td>558731.938840</td>\n",
              "      <td>791</td>\n",
              "      <td>2020</td>\n",
              "      <td>5</td>\n",
              "      <td>...</td>\n",
              "      <td>1</td>\n",
              "      <td>0</td>\n",
              "      <td>0</td>\n",
              "      <td>0</td>\n",
              "      <td>0</td>\n",
              "      <td>0</td>\n",
              "      <td>0</td>\n",
              "      <td>0</td>\n",
              "      <td>0</td>\n",
              "      <td>0</td>\n",
              "    </tr>\n",
              "    <tr>\n",
              "      <th>841630</th>\n",
              "      <td>6</td>\n",
              "      <td>146.0</td>\n",
              "      <td>1988</td>\n",
              "      <td>555000.0</td>\n",
              "      <td>66.750000</td>\n",
              "      <td>99.869</td>\n",
              "      <td>555728.003685</td>\n",
              "      <td>387</td>\n",
              "      <td>2020</td>\n",
              "      <td>5</td>\n",
              "      <td>...</td>\n",
              "      <td>1</td>\n",
              "      <td>0</td>\n",
              "      <td>0</td>\n",
              "      <td>0</td>\n",
              "      <td>0</td>\n",
              "      <td>0</td>\n",
              "      <td>0</td>\n",
              "      <td>0</td>\n",
              "      <td>0</td>\n",
              "      <td>0</td>\n",
              "    </tr>\n",
              "  </tbody>\n",
              "</table>\n",
              "<p>841631 rows × 53 columns</p>\n",
              "</div>"
            ],
            "text/plain": [
              "        flat_type  floor_area_sqm  lease_commence_date  resale_price  \\\n",
              "0               1            31.0                 1977        9000.0   \n",
              "1               1            31.0                 1977        6000.0   \n",
              "2               1            31.0                 1977        8000.0   \n",
              "3               1            31.0                 1977        6000.0   \n",
              "4               3            73.0                 1976       47200.0   \n",
              "...           ...             ...                  ...           ...   \n",
              "841626          5           131.0                 1987      440000.0   \n",
              "841627          5           122.0                 1987      458000.0   \n",
              "841628          5           122.0                 1987      490000.0   \n",
              "841629          6           146.0                 1987      558000.0   \n",
              "841630          6           146.0                 1988      555000.0   \n",
              "\n",
              "        remaining_lease     cpi     real_price  blocknum  year  storey  ...  \\\n",
              "0             74.666667  60.894   14779.781259       309  1990      11  ...   \n",
              "1             74.666667  60.894    9853.187506       309  1990       5  ...   \n",
              "2             74.666667  60.894   13137.583342       309  1990      11  ...   \n",
              "3             74.666667  60.894    9853.187506       309  1990       8  ...   \n",
              "4             74.666667  60.894   77511.741715       216  1990       5  ...   \n",
              "...                 ...     ...            ...       ...   ...     ...  ...   \n",
              "841626        66.250000  99.869  440577.156074       716  2020       8  ...   \n",
              "841627        65.500000  99.869  458600.767005       760  2020       8  ...   \n",
              "841628        66.333333  99.869  490642.741992       835  2020       5  ...   \n",
              "841629        66.250000  99.869  558731.938840       791  2020       5  ...   \n",
              "841630        66.750000  99.869  555728.003685       387  2020       5  ...   \n",
              "\n",
              "        flat_model_Maisonette  flat_model_Model A  flat_model_Model A2  \\\n",
              "0                           0                   0                    0   \n",
              "1                           0                   0                    0   \n",
              "2                           0                   0                    0   \n",
              "3                           0                   0                    0   \n",
              "4                           0                   0                    0   \n",
              "...                       ...                 ...                  ...   \n",
              "841626                      0                   0                    0   \n",
              "841627                      0                   0                    0   \n",
              "841628                      0                   0                    0   \n",
              "841629                      1                   0                    0   \n",
              "841630                      1                   0                    0   \n",
              "\n",
              "        flat_model_Multi Generation  flat_model_New Generation  \\\n",
              "0                                 0                          0   \n",
              "1                                 0                          0   \n",
              "2                                 0                          0   \n",
              "3                                 0                          0   \n",
              "4                                 0                          1   \n",
              "...                             ...                        ...   \n",
              "841626                            0                          0   \n",
              "841627                            0                          0   \n",
              "841628                            0                          0   \n",
              "841629                            0                          0   \n",
              "841630                            0                          0   \n",
              "\n",
              "        flat_model_Premium Apartment  flat_model_Simplified  \\\n",
              "0                                  0                      0   \n",
              "1                                  0                      0   \n",
              "2                                  0                      0   \n",
              "3                                  0                      0   \n",
              "4                                  0                      0   \n",
              "...                              ...                    ...   \n",
              "841626                             0                      0   \n",
              "841627                             0                      0   \n",
              "841628                             0                      0   \n",
              "841629                             0                      0   \n",
              "841630                             0                      0   \n",
              "\n",
              "        flat_model_Standard  flat_model_Terrace  flat_model_Type S1S2  \n",
              "0                         0                   0                     0  \n",
              "1                         0                   0                     0  \n",
              "2                         0                   0                     0  \n",
              "3                         0                   0                     0  \n",
              "4                         0                   0                     0  \n",
              "...                     ...                 ...                   ...  \n",
              "841626                    0                   0                     0  \n",
              "841627                    0                   0                     0  \n",
              "841628                    0                   0                     0  \n",
              "841629                    0                   0                     0  \n",
              "841630                    0                   0                     0  \n",
              "\n",
              "[841631 rows x 53 columns]"
            ]
          },
          "execution_count": 158,
          "metadata": {},
          "output_type": "execute_result"
        }
      ],
      "source": [
        "prices"
      ]
    },
    {
      "cell_type": "code",
      "execution_count": 159,
      "metadata": {},
      "outputs": [],
      "source": [
        "from sklearn.model_selection import train_test_split, GridSearchCV\n",
        "from sklearn.preprocessing import MinMaxScaler\n",
        "from sklearn.linear_model import LinearRegression, Lasso, Ridge"
      ]
    },
    {
      "cell_type": "code",
      "execution_count": 160,
      "metadata": {},
      "outputs": [],
      "source": [
        "X = prices.drop('resale_price',axis=1)\n",
        "y = prices['resale_price']"
      ]
    },
    {
      "cell_type": "code",
      "execution_count": 161,
      "metadata": {},
      "outputs": [],
      "source": [
        "X_train, X_test, y_train, y_test = train_test_split(X,y,test_size=0.5,random_state=101)\n",
        "\n",
        "scaler = MinMaxScaler()\n",
        "X_train= scaler.fit_transform(X_train)\n",
        "X_test = scaler.transform(X_test)"
      ]
    },
    {
      "cell_type": "code",
      "execution_count": 162,
      "metadata": {},
      "outputs": [
        {
          "name": "stdout",
          "output_type": "stream",
          "text": [
            "Linear Regression Train Score:  0.9837050202348226\n",
            "Linear Regression Test Score:  0.9835762993598831\n"
          ]
        }
      ],
      "source": [
        "model = LinearRegression()\n",
        "model.fit(X_train, y_train)\n",
        "print(\"Linear Regression Train Score: \", model.score(X_train, y_train))\n",
        "print(\"Linear Regression Test Score: \", model.score(X_test, y_test))"
      ]
    },
    {
      "cell_type": "code",
      "execution_count": 163,
      "metadata": {},
      "outputs": [
        {
          "data": {
            "text/plain": [
              "Text(0.5, 1.0, 'Actual vs. Predicted')"
            ]
          },
          "execution_count": 163,
          "metadata": {},
          "output_type": "execute_result"
        },
        {
          "data": {
            "image/png": "[encoded data removed]",
            "text/plain": [
              "<Figure size 576x396 with 1 Axes>"
            ]
          },
          "metadata": {},
          "output_type": "display_data"
        }
      ],
      "source": [
        "# plot accuracy\n",
        "plt.scatter(model.predict(X_train), y_train, label='train', c='b', s=2)\n",
        "plt.scatter(model.predict(X_test), y_test, label='test', c='r', s=2)\n",
        "plt.xlabel('Predicted')\n",
        "plt.ylabel('Actual')\n",
        "plt.legend()\n",
        "plt.title('Actual vs. Predicted')"
      ]
    },
    {
      "cell_type": "code",
      "execution_count": 164,
      "metadata": {},
      "outputs": [
        {
          "name": "stdout",
          "output_type": "stream",
          "text": [
            "Lasso Train Score:  0.9837051567876209\n",
            "Lasso Test Score:  0.9835766147076846\n"
          ]
        },
        {
          "name": "stderr",
          "output_type": "stream",
          "text": [
            "c:\\Users\\Akash\\AppData\\Local\\Programs\\Python\\Python39\\lib\\site-packages\\sklearn\\linear_model\\_coordinate_descent.py:648: ConvergenceWarning: Objective did not converge. You might want to increase the number of iterations, check the scale of the features or consider increasing regularisation. Duality gap: 1.779e+13, tolerance: 9.505e+11\n",
            "  model = cd_fast.enet_coordinate_descent(\n"
          ]
        }
      ],
      "source": [
        "model = Lasso(alpha=0.1)\n",
        "model.fit(X_train, y_train)\n",
        "print(\"Lasso Train Score: \", model.score(X_train, y_train))\n",
        "print(\"Lasso Test Score: \", model.score(X_test, y_test))"
      ]
    },
    {
      "cell_type": "code",
      "execution_count": 165,
      "metadata": {},
      "outputs": [
        {
          "name": "stdout",
          "output_type": "stream",
          "text": [
            "Ridge Train Score:  0.9837051793119745\n",
            "Ridge Test Score:  0.9835767228560409\n"
          ]
        }
      ],
      "source": [
        "model = Ridge(alpha=0.1)\n",
        "model.fit(X_train, y_train)\n",
        "print(\"Ridge Train Score: \", model.score(X_train, y_train))\n",
        "print(\"Ridge Test Score: \", model.score(X_test, y_test))"
      ]
    },
    {
      "cell_type": "code",
      "execution_count": null,
      "metadata": {},
      "outputs": [],
      "source": []
    }
  ],
  "metadata": {
    "colab": {
      "provenance": [],
      "toc_visible": true
    },
    "kernelspec": {
      "display_name": "Python 3",
      "name": "python3"
    },
    "language_info": {
      "codemirror_mode": {
        "name": "ipython",
        "version": 3
      },
      "file_extension": ".py",
      "mimetype": "text/x-python",
      "name": "python",
      "nbconvert_exporter": "python",
      "pygments_lexer": "ipython3",
      "version": "3.9.7"
    }
  },
  "nbformat": 4,
  "nbformat_minor": 0
}
